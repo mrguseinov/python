{
 "cells": [
  {
   "cell_type": "code",
   "execution_count": null,
   "id": "italian-supply",
   "metadata": {},
   "outputs": [],
   "source": [
    "# Do not modify the code in this cell.\n",
    "\n",
    "%reset -f\n",
    "\n",
    "from sys import path\n",
    "path.append('../')\n",
    "\n",
    "from helpers.submitters import TaskSubmitter"
   ]
  },
  {
   "cell_type": "markdown",
   "id": "supported-columbus",
   "metadata": {},
   "source": [
    "## Task 12.1: Print HTTP Response Headers\n",
    "\n",
    "Retrieve the `http://data.pr4e.org/intro-short.txt` page and print out four HTTP response headers:\n",
    "- Last-Modified\n",
    "- ETag\n",
    "- Content-Length\n",
    "- Content-Type\n",
    "\n",
    "---\n",
    "\n",
    "After running the cell, you should see the following output:\n",
    "\n",
    "`Last-Modified: Sat, 13 May 2017 11:22:22 GMT`<br>\n",
    "`ETag: \"1d3-54f6609240717\"`<br>\n",
    "`Content-Length: 467`<br>\n",
    "`Content-Type: text/plain`"
   ]
  },
  {
   "cell_type": "code",
   "execution_count": null,
   "id": "enabling-miami",
   "metadata": {},
   "outputs": [],
   "source": [
    "# Modify the code only in the \"YOUR CODE HERE\" block.\n",
    "\n",
    "import socket\n",
    "\n",
    "\n",
    "def foo():\n",
    "    with socket.socket(socket.AF_INET, socket.SOCK_STREAM) as client:\n",
    "        client.connect((\"data.pr4e.org\", 80))\n",
    "        command = \"GET http://data.pr4e.org/intro-short.txt HTTP/1.0\\r\\n\\r\\n\".encode()\n",
    "        client.send(command)\n",
    "\n",
    "        # ========== YOUR CODE HERE ==========\n",
    "        \n",
    "        \n",
    "        \n",
    "    # ====================================\n",
    "\n",
    "\n",
    "foo()"
   ]
  },
  {
   "cell_type": "markdown",
   "id": "close-mobility",
   "metadata": {},
   "source": [
    "### Submit"
   ]
  },
  {
   "cell_type": "code",
   "execution_count": null,
   "id": "supposed-clear",
   "metadata": {},
   "outputs": [],
   "source": [
    "# Do not modify the code in this cell.\n",
    "\n",
    "with TaskSubmitter(\"12.1\", \"print\") as submitter:\n",
    "    submitter.submit(foo)"
   ]
  },
  {
   "cell_type": "code",
   "execution_count": null,
   "id": "equivalent-olive",
   "metadata": {},
   "outputs": [],
   "source": []
  }
 ],
 "metadata": {
  "kernelspec": {
   "display_name": "Python 3",
   "language": "python",
   "name": "python3"
  },
  "language_info": {
   "codemirror_mode": {
    "name": "ipython",
    "version": 3
   },
   "file_extension": ".py",
   "mimetype": "text/x-python",
   "name": "python",
   "nbconvert_exporter": "python",
   "pygments_lexer": "ipython3",
   "version": "3.8.5"
  }
 },
 "nbformat": 4,
 "nbformat_minor": 5
}
