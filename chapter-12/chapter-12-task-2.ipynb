{
 "cells": [
  {
   "cell_type": "code",
   "execution_count": null,
   "id": "smoking-local",
   "metadata": {},
   "outputs": [],
   "source": [
    "# Do not modify the code in this cell.\n",
    "\n",
    "%reset -f\n",
    "\n",
    "from sys import path\n",
    "path.append('../')\n",
    "\n",
    "from helpers.submitters import TaskSubmitter"
   ]
  },
  {
   "cell_type": "markdown",
   "id": "floating-floating",
   "metadata": {},
   "source": [
    "## Task 12.2: Count Total Comments (Scraper)\n",
    "\n",
    "Read the `http://py4e-data.dr-chuck.net/comments_42.html` page to extract the numbers and calculate their sum.\n",
    "\n",
    "The page is a table of names and comment counts. You can ignore most of the data except for lines like:\n",
    "\n",
    "```html\n",
    "<tr><td>Modu</td><td><span class=\"comments\">90</span></td></tr>\n",
    "<tr><td>Kenzie</td><td><span class=\"comments\">88</span></td></tr>\n",
    "<tr><td>Hubert</td><td><span class=\"comments\">87</span></td></tr>\n",
    "```\n",
    "\n",
    "---\n",
    "\n",
    "After running the cell, you should see the following output: `2553`"
   ]
  },
  {
   "cell_type": "code",
   "execution_count": null,
   "id": "arctic-business",
   "metadata": {},
   "outputs": [],
   "source": [
    "# Modify the code only in the \"YOUR CODE HERE\" block.\n",
    "\n",
    "from urllib.request import urlopen\n",
    "\n",
    "from bs4 import BeautifulSoup\n",
    "\n",
    "\n",
    "def foo(url):\n",
    "    html = urlopen(url).read()\n",
    "    soup = BeautifulSoup(html, \"html.parser\")\n",
    "\n",
    "    # ========== YOUR CODE HERE ==========\n",
    "    \n",
    "    \n",
    "    \n",
    "    # ====================================\n",
    "\n",
    "\n",
    "foo(\"http://py4e-data.dr-chuck.net/comments_42.html\")"
   ]
  },
  {
   "cell_type": "markdown",
   "id": "private-crash",
   "metadata": {},
   "source": [
    "### Submit"
   ]
  },
  {
   "cell_type": "code",
   "execution_count": null,
   "id": "biological-coordination",
   "metadata": {},
   "outputs": [],
   "source": [
    "# Do not modify the code in this cell.\n",
    "\n",
    "with TaskSubmitter(\"12.2\", \"return\") as submitter:\n",
    "    submitter.submit(foo)"
   ]
  },
  {
   "cell_type": "code",
   "execution_count": null,
   "id": "dependent-wallet",
   "metadata": {},
   "outputs": [],
   "source": []
  }
 ],
 "metadata": {
  "kernelspec": {
   "display_name": "Python 3",
   "language": "python",
   "name": "python3"
  },
  "language_info": {
   "codemirror_mode": {
    "name": "ipython",
    "version": 3
   },
   "file_extension": ".py",
   "mimetype": "text/x-python",
   "name": "python",
   "nbconvert_exporter": "python",
   "pygments_lexer": "ipython3",
   "version": "3.8.5"
  }
 },
 "nbformat": 4,
 "nbformat_minor": 5
}
