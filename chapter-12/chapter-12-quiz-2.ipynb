{
 "cells": [
  {
   "cell_type": "markdown",
   "id": "descending-pantyhose",
   "metadata": {},
   "source": [
    "**DO NOT EDIT THE CODE IN THIS FILE**"
   ]
  },
  {
   "cell_type": "code",
   "execution_count": null,
   "id": "white-sending",
   "metadata": {},
   "outputs": [],
   "source": [
    "%reset -f\n",
    "\n",
    "from sys import path\n",
    "path.append('../')\n",
    "\n",
    "from helpers.submitters import QuizSubmitter\n",
    "from helpers.widgets import MyRadioButtons\n",
    "\n",
    "questions = [MyRadioButtons(5) for i in range(13)]\n",
    "questions[2] = MyRadioButtons(4)\n",
    "questions[5] = MyRadioButtons(4)\n",
    "questions[7] = MyRadioButtons(4)\n",
    "\n",
    "submitter = QuizSubmitter(\"12.2\")"
   ]
  },
  {
   "cell_type": "markdown",
   "id": "completed-highway",
   "metadata": {},
   "source": [
    "<hr>\n",
    "\n",
    "### Question 0\n",
    "\n",
    "Which of the following Python data structures is most similar to the value returned in this line of Python:\n",
    "\n",
    "```python\n",
    "x = urllib.request.urlopen('http://data.pr4e.org/romeo.txt')\n",
    "```\n",
    "\n",
    "1. File handle\n",
    "2. List\n",
    "3. Regular expression\n",
    "4. Dictionary\n",
    "5. Socket"
   ]
  },
  {
   "cell_type": "code",
   "execution_count": null,
   "id": "amended-relay",
   "metadata": {},
   "outputs": [],
   "source": [
    "questions[0].show()"
   ]
  },
  {
   "cell_type": "markdown",
   "id": "meaning-county",
   "metadata": {},
   "source": [
    "<hr>\n",
    "\n",
    "### Question 1\n",
    "\n",
    "In this Python code, which line actually reads the data?\n",
    "\n",
    "```python\n",
    "import socket\n",
    "\n",
    "mysock = socket.socket(socket.AF_INET, socket.SOCK_STREAM)\n",
    "mysock.connect(('data.pr4e.org', 80))\n",
    "cmd = 'GET http://data.pr4e.org/romeo.txt HTTP/1.0\\n\\n'.encode()\n",
    "mysock.send(cmd)\n",
    "\n",
    "while True:\n",
    "    data = mysock.recv(512)\n",
    "    if (len(data) < 1):\n",
    "        break\n",
    "    print(data.decode())\n",
    "mysock.close()\n",
    "```\n",
    "\n",
    "1. `mysock.recv()`\n",
    "2. `socket.socket()`\n",
    "3. `mysock.close()`\n",
    "4. `mysock.connect()`\n",
    "5. `mysock.send()`"
   ]
  },
  {
   "cell_type": "code",
   "execution_count": null,
   "id": "republican-committee",
   "metadata": {},
   "outputs": [],
   "source": [
    "questions[1].show()"
   ]
  },
  {
   "cell_type": "markdown",
   "id": "surrounded-content",
   "metadata": {},
   "source": [
    "<hr>\n",
    "\n",
    "### Question 2\n",
    "\n",
    "Which of the following regular expressions would extract the URL from this line of HTML:\n",
    "\n",
    "```html\n",
    "<p>Please click <a href=\"https://www.google.com/\">here</a></p>\n",
    "```\n",
    "\n",
    "1. `href=\"(.+)\"`\n",
    "2. `href=\".+\"`\n",
    "3. `https://.*`\n",
    "4. `<.*>`"
   ]
  },
  {
   "cell_type": "code",
   "execution_count": null,
   "id": "weekly-macintosh",
   "metadata": {},
   "outputs": [],
   "source": [
    "questions[2].show()"
   ]
  },
  {
   "cell_type": "markdown",
   "id": "piano-buffer",
   "metadata": {},
   "source": [
    "<hr>\n",
    "\n",
    "### Question 3\n",
    "\n",
    "In this Python code, which line is most like the `open()` call to read a file:\n",
    "\n",
    "```python\n",
    "import socket\n",
    "\n",
    "mysock = socket.socket(socket.AF_INET, socket.SOCK_STREAM)\n",
    "mysock.connect(('data.pr4e.org', 80))\n",
    "cmd = 'GET http://data.pr4e.org/romeo.txt HTTP/1.0\\n\\n'.encode()\n",
    "mysock.send(cmd)\n",
    "\n",
    "while True:\n",
    "    data = mysock.recv(512)\n",
    "    if (len(data) < 1):\n",
    "        break\n",
    "    print(data.decode())\n",
    "mysock.close()\n",
    "```\n",
    "1. `mysock.connect()`\n",
    "2. `import socket`\n",
    "3. `mysock.recv()`\n",
    "4. `mysock.send()`\n",
    "5. `socket.socket()`"
   ]
  },
  {
   "cell_type": "code",
   "execution_count": null,
   "id": "paperback-devil",
   "metadata": {},
   "outputs": [],
   "source": [
    "questions[3].show()"
   ]
  },
  {
   "cell_type": "markdown",
   "id": "military-inclusion",
   "metadata": {},
   "source": [
    "<hr>\n",
    "\n",
    "### Question 4\n",
    "\n",
    "Which HTTP header tells the browser the kind of document that is being returned?\n",
    "\n",
    "1. `HTML-Document`\n",
    "2. `Content-Type`\n",
    "3. `Document-Type`\n",
    "4. `ETag`\n",
    "5. `Metadata`"
   ]
  },
  {
   "cell_type": "code",
   "execution_count": null,
   "id": "processed-coral",
   "metadata": {},
   "outputs": [],
   "source": [
    "questions[4].show()"
   ]
  },
  {
   "cell_type": "markdown",
   "id": "cathedral-digest",
   "metadata": {},
   "source": [
    "<hr>\n",
    "\n",
    "### Question 5\n",
    "\n",
    "What should you check before scraping a web site?\n",
    "\n",
    "1. That the web site returns HTML for all pages\n",
    "2. That the web site allows scraping\n",
    "3. That the web site only has links within the same site\n",
    "4. That the web site supports the HTTP GET command"
   ]
  },
  {
   "cell_type": "code",
   "execution_count": null,
   "id": "brave-section",
   "metadata": {},
   "outputs": [],
   "source": [
    "questions[5].show()"
   ]
  },
  {
   "cell_type": "markdown",
   "id": "weird-crowd",
   "metadata": {},
   "source": [
    "<hr>\n",
    "\n",
    "### Question 6\n",
    "\n",
    "What is the purpose of the `BeautifulSoup` Python library?\n",
    "\n",
    "1. It builds word clouds from web pages\n",
    "2. It allows a web site to choose an attractive skin\n",
    "3. It repairs and parses HTML to make it easier for a program to understand\n",
    "4. It optimizes files that are retrieved many times\n",
    "5. It animates web operations to make them more attractive"
   ]
  },
  {
   "cell_type": "code",
   "execution_count": null,
   "id": "molecular-northwest",
   "metadata": {},
   "outputs": [],
   "source": [
    "questions[6].show()"
   ]
  },
  {
   "cell_type": "markdown",
   "id": "interim-portable",
   "metadata": {},
   "source": [
    "<hr>\n",
    "\n",
    "### Question 7\n",
    "\n",
    "What ends up in the `x` variable in the following code:\n",
    "\n",
    "```python\n",
    "html = urllib.request.urlopen(url).read()\n",
    "soup = BeautifulSoup(html, 'html.parser')\n",
    "x = soup('a')\n",
    "```\n",
    "\n",
    "1. A list of all the anchor tags (`<a>`) in the HTML from the URL\n",
    "2. True if there were any anchor tags in the HTML from the URL\n",
    "3. All of the externally linked CSS files in the HTML from the URL\n",
    "4. All of the paragraphs of the HTML from the URL"
   ]
  },
  {
   "cell_type": "code",
   "execution_count": null,
   "id": "elementary-colleague",
   "metadata": {},
   "outputs": [],
   "source": [
    "questions[7].show()"
   ]
  },
  {
   "cell_type": "markdown",
   "id": "stupid-maria",
   "metadata": {},
   "source": [
    "<hr>\n",
    "\n",
    "### Question 8\n",
    "\n",
    "What is the most common Unicode encoding when moving data between systems?\n",
    "\n",
    "1. `UTF-128`\n",
    "2. `UTF-8`\n",
    "3. `UTF-32`\n",
    "4. `UTF-64`\n",
    "5. `UTF-16`"
   ]
  },
  {
   "cell_type": "code",
   "execution_count": null,
   "id": "subtle-shield",
   "metadata": {},
   "outputs": [],
   "source": [
    "questions[8].show()"
   ]
  },
  {
   "cell_type": "markdown",
   "id": "wrong-andorra",
   "metadata": {},
   "source": [
    "<hr>\n",
    "\n",
    "### Question 9\n",
    "\n",
    "What is the ASCII character that is associated with the decimal value 42?\n",
    "\n",
    "1. `!`\n",
    "2. `*`\n",
    "3. `^`\n",
    "4. `/`\n",
    "5. `+`"
   ]
  },
  {
   "cell_type": "code",
   "execution_count": null,
   "id": "auburn-footwear",
   "metadata": {},
   "outputs": [],
   "source": [
    "questions[9].show()"
   ]
  },
  {
   "cell_type": "markdown",
   "id": "ordinary-jacksonville",
   "metadata": {},
   "source": [
    "<hr>\n",
    "\n",
    "### Question 10\n",
    "\n",
    "What word does the following sequence of numbers represent in ASCII:\n",
    "\n",
    "```\n",
    "108, 105, 110, 101\n",
    "```\n",
    "\n",
    "1. func\n",
    "2. tree\n",
    "3. lost\n",
    "4. line\n",
    "5. ping"
   ]
  },
  {
   "cell_type": "code",
   "execution_count": null,
   "id": "designing-announcement",
   "metadata": {},
   "outputs": [],
   "source": [
    "questions[10].show()"
   ]
  },
  {
   "cell_type": "markdown",
   "id": "noble-consortium",
   "metadata": {},
   "source": [
    "<hr>\n",
    "\n",
    "### Question 11\n",
    "\n",
    "How are strings stored internally in Python 3?\n",
    "\n",
    "1. Extended Binary Coded Decimal Interchange Code (EBCDIC)\n",
    "2. UTF-8\n",
    "3. Unicode\n",
    "4. ASCII\n",
    "5. Byte Code"
   ]
  },
  {
   "cell_type": "code",
   "execution_count": null,
   "id": "royal-daniel",
   "metadata": {},
   "outputs": [],
   "source": [
    "questions[11].show()"
   ]
  },
  {
   "cell_type": "markdown",
   "id": "governing-bradford",
   "metadata": {},
   "source": [
    "<hr>\n",
    "\n",
    "### Question 12\n",
    "\n",
    "When reading data across the network (i.e. from a URL) in Python 3, what method must be used to convert it to the internal format used by strings?\n",
    "\n",
    "1. `trim()`\n",
    "2. `find()`\n",
    "3. `encode()`\n",
    "4. `decode()`\n",
    "5. `upper()`"
   ]
  },
  {
   "cell_type": "code",
   "execution_count": null,
   "id": "minus-arlington",
   "metadata": {},
   "outputs": [],
   "source": [
    "questions[12].show()"
   ]
  },
  {
   "cell_type": "markdown",
   "id": "hispanic-czech",
   "metadata": {},
   "source": [
    "<hr>\n",
    "\n",
    "### Submit"
   ]
  },
  {
   "cell_type": "code",
   "execution_count": null,
   "id": "removable-official",
   "metadata": {},
   "outputs": [],
   "source": [
    "submitter.submit(questions)"
   ]
  },
  {
   "cell_type": "code",
   "execution_count": null,
   "id": "large-courtesy",
   "metadata": {},
   "outputs": [],
   "source": []
  }
 ],
 "metadata": {
  "kernelspec": {
   "display_name": "Python 3",
   "language": "python",
   "name": "python3"
  },
  "language_info": {
   "codemirror_mode": {
    "name": "ipython",
    "version": 3
   },
   "file_extension": ".py",
   "mimetype": "text/x-python",
   "name": "python",
   "nbconvert_exporter": "python",
   "pygments_lexer": "ipython3",
   "version": "3.8.5"
  }
 },
 "nbformat": 4,
 "nbformat_minor": 5
}
