{
 "cells": [
  {
   "cell_type": "markdown",
   "id": "intellectual-management",
   "metadata": {},
   "source": [
    "**DO NOT EDIT THE CODE IN THIS FILE**"
   ]
  },
  {
   "cell_type": "code",
   "execution_count": null,
   "id": "round-partition",
   "metadata": {},
   "outputs": [],
   "source": [
    "%reset -f\n",
    "\n",
    "from sys import path\n",
    "path.append('../')\n",
    "\n",
    "from helpers.submitters import QuizSubmitter\n",
    "from helpers.widgets import MyRadioButtons\n",
    "\n",
    "questions = [MyRadioButtons(5) for i in range(10)]\n",
    "questions[3] = MyRadioButtons(3)\n",
    "questions[6] = MyRadioButtons(4)\n",
    "\n",
    "submitter = QuizSubmitter(\"12.1\")"
   ]
  },
  {
   "cell_type": "markdown",
   "id": "dominican-production",
   "metadata": {},
   "source": [
    "<hr>\n",
    "\n",
    "### Question 0\n",
    "\n",
    "What do we call it when a browser uses the HTTP protocol to load a file or page from a server and display it in the browser?\n",
    "\n",
    "1. Internet Protocol (IP)\n",
    "2. Internet Message Access Protocol (IMAP)\n",
    "3. Simple Mail Transfer Protocol (SMTP)\n",
    "4. DECnet (a suite of network protocols)\n",
    "5. The request-response cycle"
   ]
  },
  {
   "cell_type": "code",
   "execution_count": null,
   "id": "under-authentication",
   "metadata": {},
   "outputs": [],
   "source": [
    "questions[0].show()"
   ]
  },
  {
   "cell_type": "markdown",
   "id": "boring-blocking",
   "metadata": {},
   "source": [
    "<hr>\n",
    "\n",
    "### Question 1\n",
    "\n",
    "Which of the following is most similar to a TCP port number?\n",
    "\n",
    "1. A telephone number\n",
    "2. A street number in an address\n",
    "3. The distance between two locations\n",
    "4. The GPS coordinates of a building\n",
    "5. A telephone extension"
   ]
  },
  {
   "cell_type": "code",
   "execution_count": null,
   "id": "guilty-passenger",
   "metadata": {},
   "outputs": [],
   "source": [
    "questions[1].show()"
   ]
  },
  {
   "cell_type": "markdown",
   "id": "cross-words",
   "metadata": {},
   "source": [
    "<hr>\n",
    "\n",
    "### Question 2\n",
    "\n",
    "What must you do in Python before opening a socket?\n",
    "\n",
    "1. `import tcp`\n",
    "2. `_socket = true`\n",
    "3. `import socket`\n",
    "4. `import tcp-socket`\n",
    "5. `open socket`"
   ]
  },
  {
   "cell_type": "code",
   "execution_count": null,
   "id": "rubber-sampling",
   "metadata": {},
   "outputs": [],
   "source": [
    "questions[2].show()"
   ]
  },
  {
   "cell_type": "markdown",
   "id": "dutch-distribution",
   "metadata": {},
   "source": [
    "<hr>\n",
    "\n",
    "### Question 3\n",
    "\n",
    "In a client-server application on the web using sockets, which must come up first?\n",
    "\n",
    "1. Server\n",
    "2. Client\n",
    "3. It does not matter"
   ]
  },
  {
   "cell_type": "code",
   "execution_count": null,
   "id": "indoor-police",
   "metadata": {},
   "outputs": [],
   "source": [
    "questions[3].show()"
   ]
  },
  {
   "cell_type": "markdown",
   "id": "union-accent",
   "metadata": {},
   "source": [
    "<hr>\n",
    "\n",
    "### Question 4\n",
    "\n",
    "Which of the following is most like an open socket in an application?\n",
    "\n",
    "1. An \"in-progress\" phone conversation\n",
    "2. Fiber optic cables\n",
    "3. The wheels on an automobile\n",
    "4. The chain on a bicycle\n",
    "5. The ringer on a telephone"
   ]
  },
  {
   "cell_type": "code",
   "execution_count": null,
   "id": "proper-repeat",
   "metadata": {},
   "outputs": [],
   "source": [
    "questions[4].show()"
   ]
  },
  {
   "cell_type": "markdown",
   "id": "common-defensive",
   "metadata": {},
   "source": [
    "<hr>\n",
    "\n",
    "### Question 5\n",
    "\n",
    "What does the \"H\" of HTTP stand for?\n",
    "\n",
    "1. Hyperspeed\n",
    "2. Simple\n",
    "3. Manual\n",
    "4. HyperText\n",
    "5. wHolsitic"
   ]
  },
  {
   "cell_type": "code",
   "execution_count": null,
   "id": "improved-botswana",
   "metadata": {},
   "outputs": [],
   "source": [
    "questions[5].show()"
   ]
  },
  {
   "cell_type": "markdown",
   "id": "greater-milan",
   "metadata": {},
   "source": [
    "<hr>\n",
    "\n",
    "### Question 6\n",
    "\n",
    "What is an important aspect of an Application Layer protocol like HTTP?\n",
    "\n",
    "1. How long do we wait before packets are retransmitted?\n",
    "2. Which application talks first? The client or server?\n",
    "3. What is the IP address for a domain like www.google.com?\n",
    "4. How much memory does the server need to serve requests?"
   ]
  },
  {
   "cell_type": "code",
   "execution_count": null,
   "id": "asian-interview",
   "metadata": {},
   "outputs": [],
   "source": [
    "questions[6].show()"
   ]
  },
  {
   "cell_type": "markdown",
   "id": "fallen-context",
   "metadata": {},
   "source": [
    "<hr>\n",
    "\n",
    "### Question 7\n",
    "\n",
    "What are the three parts of this URL (Uniform Resource Locator)?\n",
    "\n",
    "```\n",
    "https://website.com/about.html\n",
    "```\n",
    "\n",
    "1. Page, offset, and count\n",
    "2. Protocol, document, and offset\n",
    "3. Host, offset, and page\n",
    "4. Protocol, host, and document\n",
    "5. Document, page, and protocol"
   ]
  },
  {
   "cell_type": "code",
   "execution_count": null,
   "id": "white-snake",
   "metadata": {},
   "outputs": [],
   "source": [
    "questions[7].show()"
   ]
  },
  {
   "cell_type": "markdown",
   "id": "alone-upper",
   "metadata": {},
   "source": [
    "<hr>\n",
    "\n",
    "### Question 8\n",
    "\n",
    "When you click on an anchor tag (`<a>`) in a web page like below, what HTTP request is sent to the server?\n",
    "\n",
    "```html\n",
    "<p>Please click <a href=\"about.html\">here</a>.</p>\n",
    "```\n",
    "\n",
    "1. `GET`\n",
    "2. `POST`\n",
    "3. `PUT`\n",
    "4. `DELETE`\n",
    "5. `INFO`"
   ]
  },
  {
   "cell_type": "code",
   "execution_count": null,
   "id": "measured-jonathan",
   "metadata": {},
   "outputs": [],
   "source": [
    "questions[8].show()"
   ]
  },
  {
   "cell_type": "markdown",
   "id": "frequent-insured",
   "metadata": {},
   "source": [
    "<hr>\n",
    "\n",
    "### Question 9\n",
    "\n",
    "Which organization publishes Internet Protocol Standards?\n",
    "\n",
    "1. IETF\n",
    "2. IMS\n",
    "3. LDAP\n",
    "4. SCORM\n",
    "5. SIFA"
   ]
  },
  {
   "cell_type": "code",
   "execution_count": null,
   "id": "adapted-basin",
   "metadata": {},
   "outputs": [],
   "source": [
    "questions[9].show()"
   ]
  },
  {
   "cell_type": "markdown",
   "id": "useful-courage",
   "metadata": {},
   "source": [
    "<hr>\n",
    "\n",
    "### Submit"
   ]
  },
  {
   "cell_type": "code",
   "execution_count": null,
   "id": "amended-pressure",
   "metadata": {},
   "outputs": [],
   "source": [
    "submitter.submit(questions)"
   ]
  },
  {
   "cell_type": "code",
   "execution_count": null,
   "id": "round-platform",
   "metadata": {},
   "outputs": [],
   "source": []
  }
 ],
 "metadata": {
  "kernelspec": {
   "display_name": "Python 3",
   "language": "python",
   "name": "python3"
  },
  "language_info": {
   "codemirror_mode": {
    "name": "ipython",
    "version": 3
   },
   "file_extension": ".py",
   "mimetype": "text/x-python",
   "name": "python",
   "nbconvert_exporter": "python",
   "pygments_lexer": "ipython3",
   "version": "3.8.5"
  }
 },
 "nbformat": 4,
 "nbformat_minor": 5
}
