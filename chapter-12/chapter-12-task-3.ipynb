{
 "cells": [
  {
   "cell_type": "code",
   "execution_count": null,
   "id": "deluxe-blackberry",
   "metadata": {},
   "outputs": [],
   "source": [
    "# Do not modify the code in this cell.\n",
    "\n",
    "%reset -f\n",
    "\n",
    "from sys import path\n",
    "path.append('../')\n",
    "\n",
    "from helpers.submitters import TaskSubmitter"
   ]
  },
  {
   "cell_type": "markdown",
   "id": "cosmetic-substance",
   "metadata": {},
   "source": [
    "## Task 12.3: Follow The Links (Crawler)\n",
    "\n",
    "Read the `http://py4e-data.dr-chuck.net/known_by_Fikret.html` page, looking for the anchor tags (`<a>`) like:\n",
    "\n",
    "```html\n",
    "<a href=\"http://py4e-data.dr-chuck.net/known_by_Aniqa.html\">Aniqa</a>\n",
    "```\n",
    "\n",
    "The page has many anchor tags. Choose the tag at position `position` and follow the link from its `href` attribute. Repeat that process `depth` times.\n",
    "\n",
    "Return the last name you find.\n",
    "\n",
    "---\n",
    "\n",
    "After running the cell, you should see the following output: `'Anayah'`"
   ]
  },
  {
   "cell_type": "code",
   "execution_count": null,
   "id": "fleet-adaptation",
   "metadata": {},
   "outputs": [],
   "source": [
    "# Modify the code only in the \"YOUR CODE HERE\" block.\n",
    "\n",
    "from urllib.request import urlopen\n",
    "\n",
    "from bs4 import BeautifulSoup\n",
    "\n",
    "\n",
    "def foo(url, position, depth):\n",
    "    for _ in range(depth):\n",
    "        html = urlopen(url).read()\n",
    "        soup = BeautifulSoup(html, \"html.parser\")\n",
    "\n",
    "        # ========== YOUR CODE HERE ==========\n",
    "        \n",
    "        \n",
    "        \n",
    "    # ====================================\n",
    "\n",
    "\n",
    "foo(\"http://py4e-data.dr-chuck.net/known_by_Fikret.html\", 2, 4)"
   ]
  },
  {
   "cell_type": "markdown",
   "id": "about-pillow",
   "metadata": {},
   "source": [
    "### Submit"
   ]
  },
  {
   "cell_type": "code",
   "execution_count": null,
   "id": "fitted-cookbook",
   "metadata": {},
   "outputs": [],
   "source": [
    "# Do not modify the code in this cell.\n",
    "\n",
    "with TaskSubmitter(\"12.3\", \"return\") as submitter:\n",
    "    submitter.submit(foo)"
   ]
  },
  {
   "cell_type": "code",
   "execution_count": null,
   "id": "revolutionary-transsexual",
   "metadata": {},
   "outputs": [],
   "source": []
  }
 ],
 "metadata": {
  "kernelspec": {
   "display_name": "Python 3",
   "language": "python",
   "name": "python3"
  },
  "language_info": {
   "codemirror_mode": {
    "name": "ipython",
    "version": 3
   },
   "file_extension": ".py",
   "mimetype": "text/x-python",
   "name": "python",
   "nbconvert_exporter": "python",
   "pygments_lexer": "ipython3",
   "version": "3.8.5"
  }
 },
 "nbformat": 4,
 "nbformat_minor": 5
}
