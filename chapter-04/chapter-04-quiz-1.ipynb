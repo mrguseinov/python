{
 "cells": [
  {
   "cell_type": "markdown",
   "id": "progressive-reservation",
   "metadata": {},
   "source": [
    "**DO NOT EDIT THE CODE IN THIS FILE**"
   ]
  },
  {
   "cell_type": "code",
   "execution_count": null,
   "id": "competent-coach",
   "metadata": {},
   "outputs": [],
   "source": [
    "%reset -f\n",
    "\n",
    "from sys import path\n",
    "path.append('../')\n",
    "\n",
    "from helpers.submitters import QuizSubmitter\n",
    "from helpers.widgets import MyRadioButtons\n",
    "\n",
    "questions = [MyRadioButtons() for i in range(10)]\n",
    "questions[6] = MyRadioButtons(5)\n",
    "\n",
    "submitter = QuizSubmitter(\"04\")"
   ]
  },
  {
   "cell_type": "markdown",
   "id": "collective-cream",
   "metadata": {},
   "source": [
    "<hr>\n",
    "\n",
    "### Question 0\n",
    "\n",
    "Which Python keyword indicates the start of a function definition?\n",
    "\n",
    " 1. `return`\n",
    " 2. `continue`\n",
    " 3. `rad`\n",
    " 4. `def`"
   ]
  },
  {
   "cell_type": "code",
   "execution_count": null,
   "id": "behind-ground",
   "metadata": {},
   "outputs": [],
   "source": [
    "questions[0].show()"
   ]
  },
  {
   "cell_type": "markdown",
   "id": "medical-physiology",
   "metadata": {},
   "source": [
    "<hr>\n",
    "\n",
    "### Question 1\n",
    "\n",
    "In Python, how do you indicate the end of the block of code that makes up the function?\n",
    "\n",
    "1. You add a line that has at least 10 dashes\n",
    "2. You de-indent a line of code to the same indent level as the `def` keyword\n",
    "3. You put the `'END'` keyword in column 7 of the line which is to be the last line of the function\n",
    "4. You put the colon character `:` in the first column of a line"
   ]
  },
  {
   "cell_type": "code",
   "execution_count": null,
   "id": "flexible-spectacular",
   "metadata": {},
   "outputs": [],
   "source": [
    "questions[1].show()"
   ]
  },
  {
   "cell_type": "markdown",
   "id": "accomplished-bones",
   "metadata": {},
   "source": [
    "<hr>\n",
    "\n",
    "### Question 2\n",
    "\n",
    "In Python what is the `input()` feature best described as?\n",
    "\n",
    "1. A reserved word\n",
    "2. A built-in function\n",
    "3. A data structure that can hold multiple values using strings as keys\n",
    "4. A user-defined function"
   ]
  },
  {
   "cell_type": "code",
   "execution_count": null,
   "id": "difficult-statistics",
   "metadata": {},
   "outputs": [],
   "source": [
    "questions[2].show()"
   ]
  },
  {
   "cell_type": "markdown",
   "id": "funny-distance",
   "metadata": {},
   "source": [
    "<hr>\n",
    "\n",
    "### Question 3\n",
    "\n",
    "What does the following code print out:\n",
    "\n",
    "```python\n",
    "def thing():\n",
    "    print('Hello')\n",
    "\n",
    "print('There')\n",
    "```\n",
    "\n",
    "1. `Hello`<br>\n",
    "   `There`\n",
    "2. `Hello`\n",
    "3. `There`\n",
    "4. `thing`<br>\n",
    "   `Hello`<br>\n",
    "   `There`"
   ]
  },
  {
   "cell_type": "code",
   "execution_count": null,
   "id": "respected-infrastructure",
   "metadata": {},
   "outputs": [],
   "source": [
    "questions[3].show()"
   ]
  },
  {
   "cell_type": "markdown",
   "id": "italic-detail",
   "metadata": {},
   "source": [
    "<hr>\n",
    "\n",
    "### Question 4\n",
    "\n",
    "In the following Python code, which of the following is an \"argument\" to a function?\n",
    "\n",
    "```python\n",
    "x = 'banana'\n",
    "y = max(x)\n",
    "z = y * 2\n",
    "```\n",
    "\n",
    "1. `x`\n",
    "2. `max`\n",
    "3. `'banana'`\n",
    "4. `y`"
   ]
  },
  {
   "cell_type": "code",
   "execution_count": null,
   "id": "capable-palmer",
   "metadata": {},
   "outputs": [],
   "source": [
    "questions[4].show()"
   ]
  },
  {
   "cell_type": "markdown",
   "id": "secure-render",
   "metadata": {},
   "source": [
    "<hr>\n",
    "\n",
    "### Question 5\n",
    "\n",
    "What will the following Python code print out:\n",
    "\n",
    "```python\n",
    "def func(x):\n",
    "    print(x)\n",
    "\n",
    "func(10)\n",
    "func(20)\n",
    "```\n",
    "\n",
    "1. `10`<br>\n",
    "   `20`\n",
    "2. `x`<br>\n",
    "   `10`<br>\n",
    "   `x`<br>\n",
    "   `20`\n",
    "3. `func`<br>\n",
    "   `func`\n",
    "4. `x`<br>\n",
    "   `20`"
   ]
  },
  {
   "cell_type": "code",
   "execution_count": null,
   "id": "statistical-death",
   "metadata": {},
   "outputs": [],
   "source": [
    "questions[5].show()"
   ]
  },
  {
   "cell_type": "markdown",
   "id": "attached-welsh",
   "metadata": {},
   "source": [
    "<hr>\n",
    "\n",
    "### Question 6\n",
    "\n",
    "Which line of the following Python program will never execute:\n",
    "\n",
    "```python\n",
    "def stuff():\n",
    "    print('Hello')\n",
    "    return\n",
    "    print('World')\n",
    "\n",
    "stuff()\n",
    "```\n",
    "\n",
    "1. `print('World')`\n",
    "2. `print('Hello')`\n",
    "3. `stuff()`\n",
    "4. `def stuff():`\n",
    "5. `return`"
   ]
  },
  {
   "cell_type": "code",
   "execution_count": null,
   "id": "academic-berkeley",
   "metadata": {},
   "outputs": [],
   "source": [
    "questions[6].show()"
   ]
  },
  {
   "cell_type": "markdown",
   "id": "amino-invention",
   "metadata": {},
   "source": [
    "<hr>\n",
    "\n",
    "### Question 7\n",
    "\n",
    "What will the following Python program print out:\n",
    "\n",
    "```python\n",
    "def greet(lang):\n",
    "    if lang == 'es':\n",
    "        return 'Hola'\n",
    "    elif lang == 'fr':\n",
    "        return 'Bonjour'\n",
    "    else:\n",
    "        return 'Hello'\n",
    "\n",
    "print(greet('fr'), 'Michael')\n",
    "```\n",
    "\n",
    "1. `Bonjour Michael`\n",
    "2. `def`<br>\n",
    "   `Hola`<br>\n",
    "   `Bonjour`<br>\n",
    "   `Hello`<br>\n",
    "   `Michael`\n",
    "3. `Hola Michael`\n",
    "4. `Hola`<br>\n",
    "   `Bonjour`<br>\n",
    "   `Hello`<br>\n",
    "   `Michael`"
   ]
  },
  {
   "cell_type": "code",
   "execution_count": null,
   "id": "random-claim",
   "metadata": {},
   "outputs": [],
   "source": [
    "questions[7].show()"
   ]
  },
  {
   "cell_type": "markdown",
   "id": "massive-recruitment",
   "metadata": {},
   "source": [
    "<hr>\n",
    "\n",
    "### Question 8\n",
    "\n",
    "What does the following Python code print out?\n",
    "\n",
    "```python\n",
    "def addtwo(a, b):\n",
    "    added = a + b\n",
    "    return a\n",
    "\n",
    "x = addtwo(2, 7)\n",
    "print(x)\n",
    "```\n",
    "\n",
    "*Note: this is a bit of a trick question and the code has what many would consider to be a flaw/bug — so read carefully.*\n",
    "\n",
    "1. `2`\n",
    "2. `7`\n",
    "3. `9`\n",
    "4. `14`"
   ]
  },
  {
   "cell_type": "code",
   "execution_count": null,
   "id": "outstanding-child",
   "metadata": {},
   "outputs": [],
   "source": [
    "questions[8].show()"
   ]
  },
  {
   "cell_type": "markdown",
   "id": "martial-projection",
   "metadata": {},
   "source": [
    "<hr>\n",
    "\n",
    "### Question 9\n",
    "\n",
    "What is the most important benefit of writing your own functions?\n",
    "\n",
    "1. Avoiding writing the same non-trivial code more than once in your program\n",
    "2. Following the rule that whenever a program is more than 10 lines you must use a function\n",
    "3. Following the rule that no function can have more than 10 statements in it\n",
    "4. To avoid having more than 10 lines of sequential code without an indent or de-indent"
   ]
  },
  {
   "cell_type": "code",
   "execution_count": null,
   "id": "cultural-thomson",
   "metadata": {},
   "outputs": [],
   "source": [
    "questions[9].show()"
   ]
  },
  {
   "cell_type": "markdown",
   "id": "applied-deputy",
   "metadata": {},
   "source": [
    "<hr>\n",
    "\n",
    "### Submit"
   ]
  },
  {
   "cell_type": "code",
   "execution_count": null,
   "id": "national-terminal",
   "metadata": {},
   "outputs": [],
   "source": [
    "submitter.submit(questions)"
   ]
  },
  {
   "cell_type": "code",
   "execution_count": null,
   "id": "korean-reality",
   "metadata": {},
   "outputs": [],
   "source": []
  }
 ],
 "metadata": {
  "kernelspec": {
   "display_name": "Python 3",
   "language": "python",
   "name": "python3"
  },
  "language_info": {
   "codemirror_mode": {
    "name": "ipython",
    "version": 3
   },
   "file_extension": ".py",
   "mimetype": "text/x-python",
   "name": "python",
   "nbconvert_exporter": "python",
   "pygments_lexer": "ipython3",
   "version": "3.8.5"
  }
 },
 "nbformat": 4,
 "nbformat_minor": 5
}
