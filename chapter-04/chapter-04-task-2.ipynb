{
 "cells": [
  {
   "cell_type": "code",
   "execution_count": null,
   "id": "lyric-contrast",
   "metadata": {},
   "outputs": [],
   "source": [
    "# Do not modify the code in this cell.\n",
    "\n",
    "%reset -f\n",
    "\n",
    "from sys import path\n",
    "path.append('../')\n",
    "\n",
    "from helpers.submitters import TaskSubmitter"
   ]
  },
  {
   "cell_type": "markdown",
   "id": "dirty-discrimination",
   "metadata": {},
   "source": [
    "## Task 4.2: Get Grade Again\n",
    "\n",
    "Rewrite the \"Task 3.3: Get Grade\" program using a function, that takes a `score` as its parameter and returns a `grade` as a string.\n",
    "\n",
    "Raise `ValueError` for out of range scores with the following code:\n",
    "\n",
    "```python\n",
    "if (score < 0.0) or (score > 1.0):\n",
    "    raise ValueError(\"Error! Score is out of range [0.0, 1.0].\")\n",
    "```"
   ]
  },
  {
   "cell_type": "code",
   "execution_count": null,
   "id": "double-complex",
   "metadata": {},
   "outputs": [],
   "source": [
    "# Modify the code only in the \"YOUR CODE HERE\" block.\n",
    "\n",
    "\n",
    "def foo(score):\n",
    "    if (score < 0.0) or (score > 1.0):\n",
    "        raise ValueError(\"Error! Score is out of range [0.0, 1.0].\")\n",
    "\n",
    "    # ========== YOUR CODE HERE ==========\n",
    "    \n",
    "    \n",
    "    \n",
    "    # ====================================\n",
    "\n",
    "    return grade\n",
    "\n",
    "\n",
    "foo(0.9)"
   ]
  },
  {
   "cell_type": "markdown",
   "id": "domestic-cursor",
   "metadata": {},
   "source": [
    "### Submit"
   ]
  },
  {
   "cell_type": "code",
   "execution_count": null,
   "id": "spread-sport",
   "metadata": {},
   "outputs": [],
   "source": [
    "# Do not modify the code in this cell.\n",
    "\n",
    "with TaskSubmitter(\"04.2\", \"return\") as submitter:\n",
    "    submitter.submit(foo)"
   ]
  },
  {
   "cell_type": "code",
   "execution_count": null,
   "id": "impossible-superior",
   "metadata": {},
   "outputs": [],
   "source": []
  }
 ],
 "metadata": {
  "kernelspec": {
   "display_name": "Python 3",
   "language": "python",
   "name": "python3"
  },
  "language_info": {
   "codemirror_mode": {
    "name": "ipython",
    "version": 3
   },
   "file_extension": ".py",
   "mimetype": "text/x-python",
   "name": "python",
   "nbconvert_exporter": "python",
   "pygments_lexer": "ipython3",
   "version": "3.8.5"
  }
 },
 "nbformat": 4,
 "nbformat_minor": 5
}
