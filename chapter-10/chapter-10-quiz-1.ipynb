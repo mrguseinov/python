{
 "cells": [
  {
   "cell_type": "markdown",
   "id": "pregnant-regard",
   "metadata": {},
   "source": [
    "**DO NOT EDIT THE CODE IN THIS FILE**"
   ]
  },
  {
   "cell_type": "code",
   "execution_count": null,
   "id": "incorporate-easter",
   "metadata": {},
   "outputs": [],
   "source": [
    "%reset -f\n",
    "\n",
    "from sys import path\n",
    "path.append('../')\n",
    "\n",
    "from helpers.submitters import QuizSubmitter\n",
    "from helpers.widgets import MyRadioButtons\n",
    "\n",
    "questions = [MyRadioButtons() for i in range(10)]\n",
    "questions[1] = MyRadioButtons(5)\n",
    "questions[2] = MyRadioButtons(5)\n",
    "questions[7] = MyRadioButtons(6)\n",
    "\n",
    "submitter = QuizSubmitter(\"10\")"
   ]
  },
  {
   "cell_type": "markdown",
   "id": "powered-homework",
   "metadata": {},
   "source": [
    "<hr>\n",
    "\n",
    "### Question 0\n",
    "\n",
    "What is the difference between a Python tuple and Python list?\n",
    "\n",
    "1. Lists maintain the order of the items and tuples do not maintain order\n",
    "2. Tuples can be expanded after they are created and lists cannot\n",
    "3. Lists are indexed by integers and tuples are indexed by strings\n",
    "4. Lists are mutable and tuples are not mutable"
   ]
  },
  {
   "cell_type": "code",
   "execution_count": null,
   "id": "interstate-death",
   "metadata": {},
   "outputs": [],
   "source": [
    "questions[0].show()"
   ]
  },
  {
   "cell_type": "markdown",
   "id": "mechanical-prerequisite",
   "metadata": {},
   "source": [
    "<hr>\n",
    "\n",
    "### Question 1\n",
    "\n",
    "Which of the following methods work both in Python lists and Python tuples?\n",
    "\n",
    "1. `reverse()`\n",
    "2. `sort()`\n",
    "3. `append()`\n",
    "4. `index()`\n",
    "5. `pop()`"
   ]
  },
  {
   "cell_type": "code",
   "execution_count": null,
   "id": "national-disclosure",
   "metadata": {},
   "outputs": [],
   "source": [
    "questions[1].show()"
   ]
  },
  {
   "cell_type": "markdown",
   "id": "aggressive-failing",
   "metadata": {},
   "source": [
    "<hr>\n",
    "\n",
    "### Question 2\n",
    "\n",
    "What will end up in the variable `y` after this code is executed?\n",
    "\n",
    "```python\n",
    "x, y = 3, 4\n",
    "```\n",
    "\n",
    "1. `4`\n",
    "2. A two item tuple\n",
    "3. `3`\n",
    "4. A dictionary with the key `3` mapped to the value `4`\n",
    "5. A two item list"
   ]
  },
  {
   "cell_type": "code",
   "execution_count": null,
   "id": "innovative-planet",
   "metadata": {},
   "outputs": [],
   "source": [
    "questions[2].show()"
   ]
  },
  {
   "cell_type": "markdown",
   "id": "duplicate-benefit",
   "metadata": {},
   "source": [
    "<hr>\n",
    "\n",
    "### Question 3\n",
    "\n",
    "In the following Python code, what will end up in the variable `y`?\n",
    "\n",
    "```python\n",
    "x = {'chuck': 1, 'fred': 42, 'jan': 100}\n",
    "y = x.items()\n",
    "```\n",
    "\n",
    "1. A list of integers\n",
    "2. A tuple with three integers\n",
    "3. A list of strings\n",
    "4. A list of tuples"
   ]
  },
  {
   "cell_type": "code",
   "execution_count": null,
   "id": "subsequent-thompson",
   "metadata": {},
   "outputs": [],
   "source": [
    "questions[3].show()"
   ]
  },
  {
   "cell_type": "markdown",
   "id": "rural-merchant",
   "metadata": {},
   "source": [
    "<hr>\n",
    "\n",
    "### Question 4\n",
    "\n",
    "Which of the following tuples is greater than `x` in the following Python sequence?\n",
    "\n",
    "```python\n",
    "x = (5, 1, 3)\n",
    "if ??? > x:\n",
    "    ...\n",
    "```\n",
    "\n",
    "1. `(5, 0, 300)`\n",
    "2. `(6, 0, 0)`\n",
    "3. `(0, 1000, 2000)`\n",
    "4. `(4, 100, 200)`"
   ]
  },
  {
   "cell_type": "code",
   "execution_count": null,
   "id": "essential-softball",
   "metadata": {},
   "outputs": [],
   "source": [
    "questions[4].show()"
   ]
  },
  {
   "cell_type": "markdown",
   "id": "chronic-louisville",
   "metadata": {},
   "source": [
    "<hr>\n",
    "\n",
    "### Question 5\n",
    "\n",
    "What does the following Python code accomplish, assuming that `c` is a non-empty dictionary?\n",
    "\n",
    "```python\n",
    "tmp = []\n",
    "for k, v in c.items():\n",
    "    tmp.append((v, k))\n",
    "```\n",
    "\n",
    "1. It computes the largest of all of the values in the dictionary\n",
    "2. It sorts the dictionary based on its key values\n",
    "3. It creates a list of tuples where each tuple is a (value, key) pair\n",
    "4. It computes the average of all of the values in the dictionary"
   ]
  },
  {
   "cell_type": "code",
   "execution_count": null,
   "id": "delayed-georgia",
   "metadata": {},
   "outputs": [],
   "source": [
    "questions[5].show()"
   ]
  },
  {
   "cell_type": "markdown",
   "id": "partial-darkness",
   "metadata": {},
   "source": [
    "<hr>\n",
    "\n",
    "### Question 6\n",
    "\n",
    "If the variable `data` is a Python list, how do we sort it in reverse order?\n",
    "\n",
    "1. `data.sort.reverse()`\n",
    "2. `data = sortrev(data)`\n",
    "3. `data = data.sort(-1)`\n",
    "4. `data.sort(reverse=True)`"
   ]
  },
  {
   "cell_type": "code",
   "execution_count": null,
   "id": "nutritional-planning",
   "metadata": {},
   "outputs": [],
   "source": [
    "questions[6].show()"
   ]
  },
  {
   "cell_type": "markdown",
   "id": "solid-chorus",
   "metadata": {},
   "source": [
    "<hr>\n",
    "\n",
    "### Question 7\n",
    "\n",
    "Using the following tuple, how would you print `'Wed'`?\n",
    "\n",
    "```python\n",
    "days = ('Mon', 'Tue', 'Wed', 'Thu', 'Fri', 'Sat', 'Sun')\n",
    "```\n",
    "\n",
    "1. `print(days.get(1, -1))`\n",
    "2. `print(days(2))`\n",
    "3. `print[days(2)]`\n",
    "4. `print(days[2])`\n",
    "5. `print(days{2})`\n",
    "6. `print(days[1])`"
   ]
  },
  {
   "cell_type": "code",
   "execution_count": null,
   "id": "sunset-geometry",
   "metadata": {},
   "outputs": [],
   "source": [
    "questions[7].show()"
   ]
  },
  {
   "cell_type": "markdown",
   "id": "married-county",
   "metadata": {},
   "source": [
    "<hr>\n",
    "\n",
    "### Question 8\n",
    "\n",
    "In the following Python loop, why are there two iteration variables (`k` and `v`)?\n",
    "\n",
    "```python\n",
    "c = {'a': 10, 'b': 1, 'c': 22}\n",
    "for k, v in c.items():\n",
    "    ...\n",
    "```\n",
    "\n",
    "1. Because the `items()` method in dictionaries returns a list of tuples\n",
    "2. Because the keys for the dictionary are strings\n",
    "3. Because for each item we want the previous and current key\n",
    "4. Because there are two items in the dictionary"
   ]
  },
  {
   "cell_type": "code",
   "execution_count": null,
   "id": "postal-presence",
   "metadata": {},
   "outputs": [],
   "source": [
    "questions[8].show()"
   ]
  },
  {
   "cell_type": "markdown",
   "id": "commercial-vermont",
   "metadata": {},
   "source": [
    "<hr>\n",
    "\n",
    "### Question 9\n",
    "\n",
    "Given that Python lists and Python tuples are quite similar - when might you prefer to use a tuple over a list?\n",
    "\n",
    "1. For a list of items that want to use strings as key values instead of integers\n",
    "2. For a temporary variable that you will use and discard without modifying\n",
    "3. For a list of items that will be extended as new items are found\n",
    "4. For a list of items you intend to sort in place"
   ]
  },
  {
   "cell_type": "code",
   "execution_count": null,
   "id": "pointed-communications",
   "metadata": {},
   "outputs": [],
   "source": [
    "questions[9].show()"
   ]
  },
  {
   "cell_type": "markdown",
   "id": "equal-possession",
   "metadata": {},
   "source": [
    "<hr>\n",
    "\n",
    "### Submit"
   ]
  },
  {
   "cell_type": "code",
   "execution_count": null,
   "id": "judicial-bacteria",
   "metadata": {},
   "outputs": [],
   "source": [
    "submitter.submit(questions)"
   ]
  },
  {
   "cell_type": "code",
   "execution_count": null,
   "id": "engaging-gregory",
   "metadata": {},
   "outputs": [],
   "source": []
  }
 ],
 "metadata": {
  "kernelspec": {
   "display_name": "Python 3",
   "language": "python",
   "name": "python3"
  },
  "language_info": {
   "codemirror_mode": {
    "name": "ipython",
    "version": 3
   },
   "file_extension": ".py",
   "mimetype": "text/x-python",
   "name": "python",
   "nbconvert_exporter": "python",
   "pygments_lexer": "ipython3",
   "version": "3.8.5"
  }
 },
 "nbformat": 4,
 "nbformat_minor": 5
}
