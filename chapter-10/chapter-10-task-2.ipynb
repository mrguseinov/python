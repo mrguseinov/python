{
 "cells": [
  {
   "cell_type": "code",
   "execution_count": null,
   "id": "vocational-update",
   "metadata": {},
   "outputs": [],
   "source": [
    "# Do not modify the code in this cell.\n",
    "\n",
    "%reset -f\n",
    "\n",
    "from sys import path\n",
    "path.append('../')\n",
    "\n",
    "from helpers.submitters import TaskSubmitter"
   ]
  },
  {
   "cell_type": "markdown",
   "id": "mobile-fabric",
   "metadata": {},
   "source": [
    "## Task 10.2: Compute Letters Frequency\n",
    "\n",
    "Write a program that reads the `sample.txt` file and prints letters in alphabetical order with their corresponding frequencies.\n",
    "\n",
    "Convert all the input to lower case. Do not count spaces, digits, punctuation, or anything other than the letters `a-z`.\n",
    "\n",
    "Compare your results with the tables on [Wikipedia](https://wikipedia.org/wiki/Letter_frequencies).\n",
    "\n",
    "---\n",
    "\n",
    "After running the cell, you should see the following output:\n",
    "\n",
    "`a: 7.18%`<br>\n",
    "`b: 1.46%`<br>\n",
    "`c: 2.80%`<br>\n",
    "`...`<br>\n",
    "`x: 0.43%`<br>\n",
    "`y: 2.38%`<br>\n",
    "`z: 0.05%`<br>"
   ]
  },
  {
   "cell_type": "code",
   "execution_count": null,
   "id": "appropriate-weekend",
   "metadata": {},
   "outputs": [],
   "source": [
    "# Modify the code only in the \"YOUR CODE HERE\" block.\n",
    "\n",
    "from string import ascii_lowercase\n",
    "\n",
    "\n",
    "def foo():\n",
    "\n",
    "    # ========== YOUR CODE HERE ==========\n",
    "    \n",
    "    \n",
    "    \n",
    "    # ====================================\n",
    "\n",
    "\n",
    "foo()"
   ]
  },
  {
   "cell_type": "markdown",
   "id": "joined-diagnosis",
   "metadata": {},
   "source": [
    "### Submit"
   ]
  },
  {
   "cell_type": "code",
   "execution_count": null,
   "id": "after-pontiac",
   "metadata": {},
   "outputs": [],
   "source": [
    "# Do not modify the code in this cell.\n",
    "\n",
    "with TaskSubmitter(\"10.2\", \"print\") as submitter:\n",
    "    submitter.submit(foo)"
   ]
  },
  {
   "cell_type": "code",
   "execution_count": null,
   "id": "mobile-flash",
   "metadata": {},
   "outputs": [],
   "source": []
  }
 ],
 "metadata": {
  "kernelspec": {
   "display_name": "Python 3",
   "language": "python",
   "name": "python3"
  },
  "language_info": {
   "codemirror_mode": {
    "name": "ipython",
    "version": 3
   },
   "file_extension": ".py",
   "mimetype": "text/x-python",
   "name": "python",
   "nbconvert_exporter": "python",
   "pygments_lexer": "ipython3",
   "version": "3.8.5"
  }
 },
 "nbformat": 4,
 "nbformat_minor": 5
}
