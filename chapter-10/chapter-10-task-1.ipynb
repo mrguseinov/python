{
 "cells": [
  {
   "cell_type": "code",
   "execution_count": null,
   "id": "detected-malta",
   "metadata": {},
   "outputs": [],
   "source": [
    "# Do not modify the code in this cell.\n",
    "\n",
    "%reset -f\n",
    "\n",
    "from sys import path\n",
    "path.append('../')\n",
    "\n",
    "from helpers.submitters import TaskSubmitter"
   ]
  },
  {
   "cell_type": "markdown",
   "id": "certified-relay",
   "metadata": {},
   "source": [
    "## Task 10.1: Compute Hour Frequency\n",
    "\n",
    "Read through the `emails.txt` file and figure out the distribution by hour of the day for each of the messages.\n",
    "\n",
    "Pull the hour out from the `'From '` lines by finding the time and then splitting the string a second time using the colon (`:`).\n",
    "\n",
    "Once you have accumulated the counts for each hour, print out them.\n",
    "\n",
    "Use string interpolation to properly format the output. You may find the [PyFormat](https://pyformat.info/) website helpful.\n",
    "\n",
    "---\n",
    "\n",
    "After running the cell, you should see the following output:\n",
    "\n",
    "`--------------`<br>\n",
    "`| hour | frq |`<br>\n",
    "`--------------`<br>\n",
    "`|  04  |  3  |`<br>\n",
    "`|  06  |  1  |`<br>\n",
    "`|  07  |  1  |`<br>\n",
    "`|  09  |  2  |`<br>\n",
    "`|  10  |  3  |`<br>\n",
    "`|  11  |  6  |`<br>\n",
    "`|  14  |  1  |`<br>\n",
    "`|  15  |  2  |`<br>\n",
    "`|  16  |  4  |`<br>\n",
    "`|  17  |  2  |`<br>\n",
    "`|  18  |  1  |`<br>\n",
    "`|  19  |  1  |`<br>\n",
    "`--------------`<br>"
   ]
  },
  {
   "cell_type": "code",
   "execution_count": null,
   "id": "alike-latin",
   "metadata": {},
   "outputs": [],
   "source": [
    "# Modify the code only in the \"YOUR CODE HERE\" block.\n",
    "\n",
    "\n",
    "def foo():\n",
    "\n",
    "    # ========== YOUR CODE HERE ==========\n",
    "    \n",
    "    \n",
    "    # ====================================\n",
    "\n",
    "\n",
    "foo()"
   ]
  },
  {
   "cell_type": "markdown",
   "id": "abandoned-portrait",
   "metadata": {},
   "source": [
    "### Submit"
   ]
  },
  {
   "cell_type": "code",
   "execution_count": null,
   "id": "wrong-chart",
   "metadata": {},
   "outputs": [],
   "source": [
    "# Do not modify the code in this cell.\n",
    "\n",
    "with TaskSubmitter(\"10.1\", \"print\") as submitter:\n",
    "    submitter.submit(foo)"
   ]
  },
  {
   "cell_type": "code",
   "execution_count": null,
   "id": "northern-valve",
   "metadata": {},
   "outputs": [],
   "source": []
  }
 ],
 "metadata": {
  "kernelspec": {
   "display_name": "Python 3",
   "language": "python",
   "name": "python3"
  },
  "language_info": {
   "codemirror_mode": {
    "name": "ipython",
    "version": 3
   },
   "file_extension": ".py",
   "mimetype": "text/x-python",
   "name": "python",
   "nbconvert_exporter": "python",
   "pygments_lexer": "ipython3",
   "version": "3.8.5"
  }
 },
 "nbformat": 4,
 "nbformat_minor": 5
}
