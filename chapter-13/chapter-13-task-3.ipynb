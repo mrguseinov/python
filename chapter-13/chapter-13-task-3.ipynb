{
 "cells": [
  {
   "cell_type": "code",
   "execution_count": null,
   "id": "private-racing",
   "metadata": {},
   "outputs": [],
   "source": [
    "# Do not modify the code in this cell.\n",
    "\n",
    "%reset -f\n",
    "\n",
    "from sys import path\n",
    "path.append('../')\n",
    "\n",
    "from helpers.submitters import TaskSubmitter"
   ]
  },
  {
   "cell_type": "markdown",
   "id": "proud-brother",
   "metadata": {},
   "source": [
    "## Task 13.3: Call External API\n",
    "\n",
    "Contact a web service to retrieve and parse some JSON data.\n",
    "\n",
    "Use the following API endpoint: `http://py4e-data.dr-chuck.net/json?`. It has a static subset of the Google Maps data.\n",
    "\n",
    "To call the API, include a `key=42` parameter and provide the address that you are requesting as the `address` parameter. To properly encode parameters use the `urllib.parse.urlencode()` function.\n",
    "\n",
    "Return the first `place_id` from the response.\n",
    "\n",
    "---\n",
    "\n",
    "After running the cell, you should see the following output: `ChIJ1Z9sheJZkFQRDePQqQebCdg`"
   ]
  },
  {
   "cell_type": "code",
   "execution_count": null,
   "id": "historic-clinic",
   "metadata": {},
   "outputs": [],
   "source": [
    "# Modify the code only in the \"YOUR CODE HERE\" block.\n",
    "\n",
    "import json\n",
    "import urllib.parse\n",
    "import urllib.request\n",
    "\n",
    "\n",
    "def foo(address):\n",
    "    endpoint = \"http://py4e-data.dr-chuck.net/json?\"\n",
    "    parameters = {\"address\": address, \"key\": 42}\n",
    "    url = endpoint + urllib.parse.urlencode(parameters)\n",
    "\n",
    "    # ========== YOUR CODE HERE ==========\n",
    "    \n",
    "    \n",
    "    \n",
    "    # ====================================\n",
    "\n",
    "\n",
    "foo(\"South Federal University\")"
   ]
  },
  {
   "cell_type": "markdown",
   "id": "exotic-orleans",
   "metadata": {},
   "source": [
    "### Submit"
   ]
  },
  {
   "cell_type": "code",
   "execution_count": null,
   "id": "suited-hawaii",
   "metadata": {},
   "outputs": [],
   "source": [
    "# Do not modify the code in this cell.\n",
    "\n",
    "with TaskSubmitter(\"13.3\", \"return\") as submitter:\n",
    "    submitter.submit(foo)"
   ]
  },
  {
   "cell_type": "code",
   "execution_count": null,
   "id": "signal-practice",
   "metadata": {},
   "outputs": [],
   "source": []
  }
 ],
 "metadata": {
  "kernelspec": {
   "display_name": "Python 3",
   "language": "python",
   "name": "python3"
  },
  "language_info": {
   "codemirror_mode": {
    "name": "ipython",
    "version": 3
   },
   "file_extension": ".py",
   "mimetype": "text/x-python",
   "name": "python",
   "nbconvert_exporter": "python",
   "pygments_lexer": "ipython3",
   "version": "3.8.5"
  }
 },
 "nbformat": 4,
 "nbformat_minor": 5
}
