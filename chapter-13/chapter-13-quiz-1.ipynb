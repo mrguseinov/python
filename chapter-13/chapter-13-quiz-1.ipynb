{
 "cells": [
  {
   "cell_type": "markdown",
   "id": "manufactured-update",
   "metadata": {},
   "source": [
    "**DO NOT EDIT THE CODE IN THIS FILE**"
   ]
  },
  {
   "cell_type": "code",
   "execution_count": null,
   "id": "narrative-translation",
   "metadata": {},
   "outputs": [],
   "source": [
    "%reset -f\n",
    "\n",
    "from sys import path\n",
    "path.append('../')\n",
    "\n",
    "from helpers.submitters import QuizSubmitter\n",
    "from helpers.widgets import MyCheckBoxes, MyRadioButtons\n",
    "\n",
    "questions = [MyRadioButtons() for i in range(10)]\n",
    "questions[1] = MyCheckBoxes(5)\n",
    "questions[2] = MyCheckBoxes(5)\n",
    "questions[3] = MyCheckBoxes(5)\n",
    "questions[5] = MyRadioButtons(5)\n",
    "questions[7] = MyRadioButtons(5)\n",
    "\n",
    "submitter = QuizSubmitter(\"13.1\")"
   ]
  },
  {
   "cell_type": "markdown",
   "id": "smoking-parent",
   "metadata": {},
   "source": [
    "<hr>\n",
    "\n",
    "### Question 0\n",
    "\n",
    "What is the name of the Python library to parse XML data?\n",
    "\n",
    "1. `xml3`\n",
    "2. `xml.etree.ElementTree`\n",
    "3. `xml.json`\n",
    "4. `xml-misc`"
   ]
  },
  {
   "cell_type": "code",
   "execution_count": null,
   "id": "authentic-knowing",
   "metadata": {},
   "outputs": [],
   "source": [
    "questions[0].show()"
   ]
  },
  {
   "cell_type": "markdown",
   "id": "olympic-restaurant",
   "metadata": {},
   "source": [
    "<hr>\n",
    "\n",
    "### Question 1\n",
    "\n",
    "Which of the following are not commonly used serialization formats?\n",
    "\n",
    "1. TCP\n",
    "2. XML\n",
    "3. JSON\n",
    "4. Dictionaries\n",
    "5. HTTP"
   ]
  },
  {
   "cell_type": "code",
   "execution_count": null,
   "id": "growing-nerve",
   "metadata": {},
   "outputs": [],
   "source": [
    "questions[1].show()"
   ]
  },
  {
   "cell_type": "markdown",
   "id": "sexual-lingerie",
   "metadata": {},
   "source": [
    "<hr>\n",
    "\n",
    "### Question 2\n",
    "\n",
    "In this XML, which are the \"complex elements\"?\n",
    "\n",
    "```XML\n",
    "<people>\n",
    "    <person>\n",
    "        <name>Chuck</name>\n",
    "        <phone>303 4456</phone>\n",
    "    </person>\n",
    "    <person>\n",
    "        <name>Noah</name>\n",
    "        <phone>622 7421</phone>\n",
    "    </person>\n",
    "</people>\n",
    "```\n",
    "\n",
    "1. `Noah`\n",
    "2. `people`\n",
    "3. `person`\n",
    "4. `name`\n",
    "5. `phone`"
   ]
  },
  {
   "cell_type": "code",
   "execution_count": null,
   "id": "intimate-packing",
   "metadata": {},
   "outputs": [],
   "source": [
    "questions[2].show()"
   ]
  },
  {
   "cell_type": "markdown",
   "id": "finite-guess",
   "metadata": {},
   "source": [
    "<hr>\n",
    "\n",
    "### Question 3\n",
    "\n",
    "In the following XML, which are attributes?\n",
    "\n",
    "```XML\n",
    "<person>\n",
    "    <name>Chuck</name>\n",
    "    <phone type=\"intl\">\n",
    "        +1 734 303 4456\n",
    "    </phone>\n",
    "    <email hide=\"yes\" />\n",
    "</person>\n",
    "\n",
    "```\n",
    "\n",
    "1. `hide`\n",
    "2. `name`\n",
    "3. `person`\n",
    "4. `email`\n",
    "5. `type`"
   ]
  },
  {
   "cell_type": "code",
   "execution_count": null,
   "id": "certain-kernel",
   "metadata": {},
   "outputs": [],
   "source": [
    "questions[3].show()"
   ]
  },
  {
   "cell_type": "markdown",
   "id": "integrated-raise",
   "metadata": {},
   "source": [
    "<hr>\n",
    "\n",
    "### Question 4\n",
    "\n",
    "In the following XML, which node is the parent of `<e>`?\n",
    "\n",
    "```XML\n",
    "<a>\n",
    "  <b>X</b>\n",
    "  <c>\n",
    "      <d>Y</d>\n",
    "      <e>Z</e>\n",
    "  </c>\n",
    "</a>\n",
    "```\n",
    "1. `b`\n",
    "2. `a`\n",
    "3. `e`\n",
    "4. `c`"
   ]
  },
  {
   "cell_type": "code",
   "execution_count": null,
   "id": "after-architect",
   "metadata": {},
   "outputs": [],
   "source": [
    "questions[4].show()"
   ]
  },
  {
   "cell_type": "markdown",
   "id": "younger-minutes",
   "metadata": {},
   "source": [
    "<hr>\n",
    "\n",
    "### Question 5\n",
    "\n",
    "Looking at the following XML, what text value would we find at path `/a/c/e`?\n",
    "\n",
    "```XML\n",
    "<a>\n",
    "  <b>X</b>\n",
    "  <c>\n",
    "    <d>Y</d>\n",
    "    <e>Z</e>\n",
    "  </c>\n",
    "</a>\n",
    "```\n",
    "\n",
    "1. `b`\n",
    "2. `Z`\n",
    "3. `a`\n",
    "4. `e`\n",
    "5. `Y`"
   ]
  },
  {
   "cell_type": "code",
   "execution_count": null,
   "id": "moved-blake",
   "metadata": {},
   "outputs": [],
   "source": [
    "questions[5].show()"
   ]
  },
  {
   "cell_type": "markdown",
   "id": "equipped-damage",
   "metadata": {},
   "source": [
    "<hr>\n",
    "\n",
    "### Question 6\n",
    "\n",
    "What is the purpose of XML Schema?\n",
    "\n",
    "1. To compute SHA1 checksums on data to make sure it is not modified in transit\n",
    "2. To establish a contract as to what is valid XML\n",
    "3. To transfer XML data reliably during network outages\n",
    "4. A Python program to tranform XML files"
   ]
  },
  {
   "cell_type": "code",
   "execution_count": null,
   "id": "authorized-induction",
   "metadata": {},
   "outputs": [],
   "source": [
    "questions[6].show()"
   ]
  },
  {
   "cell_type": "markdown",
   "id": "valued-oklahoma",
   "metadata": {},
   "source": [
    "<hr>\n",
    "\n",
    "### Question 7\n",
    "\n",
    "If you were building an XML Schema and wanted to limit the values allowed in an `xs:string` field to only those in a particular list, what XML tag would you use in your XML Schema definition?\n",
    "\n",
    "1. `xs:sequence`\n",
    "2. `xs:enumeration`\n",
    "3. `xs:element`\n",
    "4. `xs:complexType`\n",
    "5. `maxOccurs`"
   ]
  },
  {
   "cell_type": "code",
   "execution_count": null,
   "id": "upset-gibson",
   "metadata": {},
   "outputs": [],
   "source": [
    "questions[7].show()"
   ]
  },
  {
   "cell_type": "markdown",
   "id": "vertical-investment",
   "metadata": {},
   "source": [
    "<hr>\n",
    "\n",
    "### Question 8\n",
    "\n",
    "What does the `Z` mean in this representation of a time:\n",
    "\n",
    "```\n",
    "2002-05-30T09:30:10Z\n",
    "```\n",
    "\n",
    "1. This time is in the UTC timezone\n",
    "2. The hours value is in the range 0-12\n",
    "3. The local timezone for this time is New Zealand\n",
    "4. This time is Daylight Savings Time"
   ]
  },
  {
   "cell_type": "code",
   "execution_count": null,
   "id": "recent-coordinate",
   "metadata": {},
   "outputs": [],
   "source": [
    "questions[8].show()"
   ]
  },
  {
   "cell_type": "markdown",
   "id": "mathematical-parker",
   "metadata": {},
   "source": [
    "<hr>\n",
    "\n",
    "### Question 9\n",
    "\n",
    "Which of the following dates is in ISO8601 format?\n",
    "\n",
    "1. May 30, 2002\n",
    "2. 05/30/2002\n",
    "3. 2002-May-30\n",
    "4. 2002-05-30T09:30:10Z"
   ]
  },
  {
   "cell_type": "code",
   "execution_count": null,
   "id": "tribal-hospital",
   "metadata": {},
   "outputs": [],
   "source": [
    "questions[9].show()"
   ]
  },
  {
   "cell_type": "markdown",
   "id": "played-acrylic",
   "metadata": {},
   "source": [
    "<hr>\n",
    "\n",
    "### Submit"
   ]
  },
  {
   "cell_type": "code",
   "execution_count": null,
   "id": "mexican-citizenship",
   "metadata": {},
   "outputs": [],
   "source": [
    "submitter.submit(questions)"
   ]
  },
  {
   "cell_type": "code",
   "execution_count": null,
   "id": "finnish-animation",
   "metadata": {},
   "outputs": [],
   "source": []
  }
 ],
 "metadata": {
  "kernelspec": {
   "display_name": "Python 3",
   "language": "python",
   "name": "python3"
  },
  "language_info": {
   "codemirror_mode": {
    "name": "ipython",
    "version": 3
   },
   "file_extension": ".py",
   "mimetype": "text/x-python",
   "name": "python",
   "nbconvert_exporter": "python",
   "pygments_lexer": "ipython3",
   "version": "3.8.5"
  }
 },
 "nbformat": 4,
 "nbformat_minor": 5
}
