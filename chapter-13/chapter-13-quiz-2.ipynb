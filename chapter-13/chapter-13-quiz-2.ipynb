{
 "cells": [
  {
   "cell_type": "markdown",
   "id": "exciting-marketplace",
   "metadata": {},
   "source": [
    "**DO NOT EDIT THE CODE IN THIS FILE**"
   ]
  },
  {
   "cell_type": "code",
   "execution_count": null,
   "id": "sealed-start",
   "metadata": {},
   "outputs": [],
   "source": [
    "%reset -f\n",
    "\n",
    "from sys import path\n",
    "path.append('../')\n",
    "\n",
    "from helpers.submitters import QuizSubmitter\n",
    "from helpers.widgets import MyCheckBoxes, MyRadioButtons\n",
    "\n",
    "questions = [MyRadioButtons() for i in range(10)]\n",
    "questions[3] = MyRadioButtons(5)\n",
    "questions[5] = MyRadioButtons(2)\n",
    "questions[7] = MyCheckBoxes()\n",
    "questions[8] = MyRadioButtons(6)\n",
    "\n",
    "submitter = QuizSubmitter(\"13.2\")"
   ]
  },
  {
   "cell_type": "markdown",
   "id": "removed-jackson",
   "metadata": {},
   "source": [
    "<hr>\n",
    "\n",
    "### Question 0\n",
    "\n",
    "Who is credited with getting the JSON movement started?\n",
    "\n",
    "1. Bjarne Stroustrup\n",
    "2. Mitchell Baker\n",
    "3. Pooja Sankar\n",
    "4. Douglas Crockford"
   ]
  },
  {
   "cell_type": "code",
   "execution_count": null,
   "id": "dental-assessment",
   "metadata": {},
   "outputs": [],
   "source": [
    "questions[0].show()"
   ]
  },
  {
   "cell_type": "markdown",
   "id": "dying-latitude",
   "metadata": {},
   "source": [
    "<hr>\n",
    "\n",
    "### Question 1\n",
    "\n",
    "What Python library do you have to import to parse and handle JSON?\n",
    "\n",
    "1. `BeautifulSoup`\n",
    "2. `import re`\n",
    "3. `ElementTree`\n",
    "4. `import json`"
   ]
  },
  {
   "cell_type": "code",
   "execution_count": null,
   "id": "amateur-windsor",
   "metadata": {},
   "outputs": [],
   "source": [
    "questions[1].show()"
   ]
  },
  {
   "cell_type": "markdown",
   "id": "perfect-australian",
   "metadata": {},
   "source": [
    "<hr>\n",
    "\n",
    "### Question 2\n",
    "\n",
    "What is the method used to parse a string containing JSON data so that you can work with the data in Python?\n",
    "\n",
    "1. `json.read()`\n",
    "2. `json.loads()`\n",
    "3. `json.parse()`\n",
    "4. `json.connect()`"
   ]
  },
  {
   "cell_type": "code",
   "execution_count": null,
   "id": "accomplished-present",
   "metadata": {},
   "outputs": [],
   "source": [
    "questions[2].show()"
   ]
  },
  {
   "cell_type": "markdown",
   "id": "southwest-diabetes",
   "metadata": {},
   "source": [
    "<hr>\n",
    "\n",
    "### Question 3\n",
    "\n",
    "What kind of variable will you get in Python when the following JSON is parsed:\n",
    "\n",
    "```json\n",
    "[\"Glenn\", \"Sally\", \"Jen\"]\n",
    "```\n",
    "\n",
    "1. A list with three items\n",
    "2. A dictionary with three key/value pairs\n",
    "3. A dictionary with one key/value pair\n",
    "4. Three tuples\n",
    "5. One Tuple"
   ]
  },
  {
   "cell_type": "code",
   "execution_count": null,
   "id": "congressional-violence",
   "metadata": {},
   "outputs": [],
   "source": [
    "questions[3].show()"
   ]
  },
  {
   "cell_type": "markdown",
   "id": "athletic-exercise",
   "metadata": {},
   "source": [
    "<hr>\n",
    "\n",
    "### Question 4\n",
    "\n",
    "Which of the following is **not** true about the service-oriented approach?\n",
    "\n",
    "1. An application makes use of the services provided by other applications\n",
    "2. Web services and APIs are used to transfer data between applications\n",
    "3. Standards are developed where many pairs of applications must work together\n",
    "4. An application runs together all in one place"
   ]
  },
  {
   "cell_type": "code",
   "execution_count": null,
   "id": "thick-burden",
   "metadata": {},
   "outputs": [],
   "source": [
    "questions[4].show()"
   ]
  },
  {
   "cell_type": "markdown",
   "id": "current-banana",
   "metadata": {},
   "source": [
    "<hr>\n",
    "\n",
    "### Question 5\n",
    "\n",
    "Which of these two web service approaches is preferred in most modern service-oriented applications?\n",
    "\n",
    "1. Simple Object Access Protocol (SOAP)\n",
    "2. REpresentational State Transfer (REST)"
   ]
  },
  {
   "cell_type": "code",
   "execution_count": null,
   "id": "adjustable-earthquake",
   "metadata": {},
   "outputs": [],
   "source": [
    "questions[5].show()"
   ]
  },
  {
   "cell_type": "markdown",
   "id": "unsigned-herald",
   "metadata": {},
   "source": [
    "<hr>\n",
    "\n",
    "### Question 6\n",
    "\n",
    "What library call do you make to append properly encoded parameters to the end of a URL like the following:\n",
    "\n",
    "```\n",
    "http://maps.googleapis.com/maps/api/geocode/json?sensor=false&address=Ann+Arbor%2C+MI\n",
    "```\n",
    "\n",
    "1. `re.match()`\n",
    "2. `urllib.parse.urlencode()`\n",
    "3. `re.encode()`\n",
    "4. `urllib.urlcat()`"
   ]
  },
  {
   "cell_type": "code",
   "execution_count": null,
   "id": "endless-retail",
   "metadata": {},
   "outputs": [],
   "source": [
    "questions[6].show()"
   ]
  },
  {
   "cell_type": "markdown",
   "id": "tutorial-penalty",
   "metadata": {},
   "source": [
    "<hr>\n",
    "\n",
    "### Question 7\n",
    "\n",
    "Check all that apply.\n",
    "\n",
    "1. `json.dumps()` can convert a Python object into a JSON string\n",
    "2. `json.load()` takes a file object and returns the JSON object\n",
    "3. `json.loads()` can be used to parse a JSON string to convert it into a Python dict\n",
    "4. `json.dump()` can be used for writing to JSON file"
   ]
  },
  {
   "cell_type": "code",
   "execution_count": null,
   "id": "racial-calvin",
   "metadata": {},
   "outputs": [],
   "source": [
    "questions[7].show()"
   ]
  },
  {
   "cell_type": "markdown",
   "id": "underlying-flooring",
   "metadata": {},
   "source": [
    "<hr>\n",
    "\n",
    "### Question 8\n",
    "\n",
    "What protocol does Twitter use to protect its API?\n",
    "\n",
    "1. HMAC\n",
    "2. Java Web Tokens\n",
    "3. SHA1\n",
    "4. SOAP\n",
    "5. OAuth\n",
    "6. WS-Security"
   ]
  },
  {
   "cell_type": "code",
   "execution_count": null,
   "id": "present-apple",
   "metadata": {},
   "outputs": [],
   "source": [
    "questions[8].show()"
   ]
  },
  {
   "cell_type": "markdown",
   "id": "transsexual-harvey",
   "metadata": {},
   "source": [
    "<hr>\n",
    "\n",
    "### Question 9\n",
    "\n",
    "What header does Twitter use to tell you how many more API requests you can make before you will be rate limited?\n",
    "\n",
    "1. `content-type`\n",
    "2. `x-max-requests`\n",
    "3. `x-request-count-down`\n",
    "4. `x-rate-limit-remaining`"
   ]
  },
  {
   "cell_type": "code",
   "execution_count": null,
   "id": "featured-hebrew",
   "metadata": {},
   "outputs": [],
   "source": [
    "questions[9].show()"
   ]
  },
  {
   "cell_type": "markdown",
   "id": "requested-milton",
   "metadata": {},
   "source": [
    "<hr>\n",
    "\n",
    "### Submit"
   ]
  },
  {
   "cell_type": "code",
   "execution_count": null,
   "id": "backed-teacher",
   "metadata": {},
   "outputs": [],
   "source": [
    "submitter.submit(questions)"
   ]
  },
  {
   "cell_type": "code",
   "execution_count": null,
   "id": "smooth-studio",
   "metadata": {},
   "outputs": [],
   "source": []
  }
 ],
 "metadata": {
  "kernelspec": {
   "display_name": "Python 3",
   "language": "python",
   "name": "python3"
  },
  "language_info": {
   "codemirror_mode": {
    "name": "ipython",
    "version": 3
   },
   "file_extension": ".py",
   "mimetype": "text/x-python",
   "name": "python",
   "nbconvert_exporter": "python",
   "pygments_lexer": "ipython3",
   "version": "3.8.5"
  }
 },
 "nbformat": 4,
 "nbformat_minor": 5
}
