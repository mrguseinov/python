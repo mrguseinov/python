{
 "cells": [
  {
   "cell_type": "code",
   "execution_count": null,
   "id": "exclusive-lancaster",
   "metadata": {},
   "outputs": [],
   "source": [
    "# Do not modify the code in this cell.\n",
    "\n",
    "%reset -f\n",
    "\n",
    "from sys import path\n",
    "path.append('../')\n",
    "\n",
    "from helpers.submitters import TaskSubmitter"
   ]
  },
  {
   "cell_type": "markdown",
   "id": "complete-delaware",
   "metadata": {},
   "source": [
    "## Task 13.2: Parse JSON File\n",
    "\n",
    "Read the JSON data from `http://py4e-data.dr-chuck.net/comments_42.json` and extract the comment counts from it. Return the sum of the counts.\n",
    "\n",
    "The data consists of names and comment counts:\n",
    "\n",
    "```json\n",
    "{\n",
    "    \"comments\": [\n",
    "        {\n",
    "            \"name\": \"Matthias\",\n",
    "            \"count\": 97\n",
    "        },\n",
    "        {\n",
    "            \"name\": \"Geomer\",\n",
    "            \"count\": 97\n",
    "        }\n",
    "    ]\n",
    "}\n",
    "```\n",
    "\n",
    "---\n",
    "\n",
    "After running the cell, you should see the following output: `2553`"
   ]
  },
  {
   "cell_type": "code",
   "execution_count": null,
   "id": "consistent-sight",
   "metadata": {},
   "outputs": [],
   "source": [
    "# Modify the code only in the \"YOUR CODE HERE\" block.\n",
    "\n",
    "import json\n",
    "from urllib.request import urlopen\n",
    "\n",
    "\n",
    "def foo(url):\n",
    "    data = json.loads(urlopen(url).read())\n",
    "\n",
    "    # ========== YOUR CODE HERE ==========\n",
    "    \n",
    "    \n",
    "    \n",
    "    # ====================================\n",
    "\n",
    "\n",
    "foo(\"http://py4e-data.dr-chuck.net/comments_42.json\")"
   ]
  },
  {
   "cell_type": "markdown",
   "id": "given-james",
   "metadata": {},
   "source": [
    "### Submit"
   ]
  },
  {
   "cell_type": "code",
   "execution_count": null,
   "id": "indie-narrow",
   "metadata": {},
   "outputs": [],
   "source": [
    "# Do not modify the code in this cell.\n",
    "\n",
    "with TaskSubmitter(\"13.2\", \"return\") as submitter:\n",
    "    submitter.submit(foo)"
   ]
  },
  {
   "cell_type": "code",
   "execution_count": null,
   "id": "indie-carolina",
   "metadata": {},
   "outputs": [],
   "source": []
  }
 ],
 "metadata": {
  "kernelspec": {
   "display_name": "Python 3",
   "language": "python",
   "name": "python3"
  },
  "language_info": {
   "codemirror_mode": {
    "name": "ipython",
    "version": 3
   },
   "file_extension": ".py",
   "mimetype": "text/x-python",
   "name": "python",
   "nbconvert_exporter": "python",
   "pygments_lexer": "ipython3",
   "version": "3.8.5"
  }
 },
 "nbformat": 4,
 "nbformat_minor": 5
}
