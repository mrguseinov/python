{
 "cells": [
  {
   "cell_type": "code",
   "execution_count": null,
   "id": "consistent-culture",
   "metadata": {},
   "outputs": [],
   "source": [
    "# Do not modify the code in this cell.\n",
    "\n",
    "%reset -f\n",
    "\n",
    "from sys import path\n",
    "path.append('../')\n",
    "\n",
    "from helpers.submitters import TaskSubmitter"
   ]
  },
  {
   "cell_type": "markdown",
   "id": "employed-consultancy",
   "metadata": {},
   "source": [
    "## Task 13.1: Parse XML File\n",
    "\n",
    "Read the XML data from `http://py4e-data.dr-chuck.net/comments_42.xml` and extract the comment counts from it. Return the sum of the counts.\n",
    "\n",
    "The data consists of names and comment counts:\n",
    "\n",
    "```xml\n",
    "<comment>\n",
    "    <name>Matthias</name>\n",
    "    <count>97</count>\n",
    "</comment>\n",
    "```\n",
    "\n",
    "To make it simpler, you can use [XPath](https://www.w3schools.com/xml/xpath_syntax.asp) to look through the entire XML tree for tags named `count`:\n",
    "\n",
    "```python\n",
    "counts = tree.findall('.//count')\n",
    "```\n",
    "\n",
    "---\n",
    "\n",
    "After running the cell, you should see the following output: `2553`"
   ]
  },
  {
   "cell_type": "code",
   "execution_count": null,
   "id": "central-classics",
   "metadata": {},
   "outputs": [],
   "source": [
    "# Modify the code only in the \"YOUR CODE HERE\" block.\n",
    "\n",
    "import xml.etree.ElementTree as ET\n",
    "from urllib.request import urlopen\n",
    "\n",
    "\n",
    "def foo(url):\n",
    "    data = urlopen(url).read()\n",
    "    tree = ET.fromstring(data)\n",
    "\n",
    "    # ========== YOUR CODE HERE ==========\n",
    "    \n",
    "    \n",
    "    \n",
    "    # ====================================\n",
    "\n",
    "\n",
    "foo(\"http://py4e-data.dr-chuck.net/comments_42.xml\")"
   ]
  },
  {
   "cell_type": "markdown",
   "id": "silent-behalf",
   "metadata": {},
   "source": [
    "### Submit"
   ]
  },
  {
   "cell_type": "code",
   "execution_count": null,
   "id": "quarterly-handling",
   "metadata": {},
   "outputs": [],
   "source": [
    "# Do not modify the code in this cell.\n",
    "\n",
    "with TaskSubmitter(\"13.1\", \"return\") as submitter:\n",
    "    submitter.submit(foo)"
   ]
  },
  {
   "cell_type": "code",
   "execution_count": null,
   "id": "dedicated-video",
   "metadata": {},
   "outputs": [],
   "source": []
  }
 ],
 "metadata": {
  "kernelspec": {
   "display_name": "Python 3",
   "language": "python",
   "name": "python3"
  },
  "language_info": {
   "codemirror_mode": {
    "name": "ipython",
    "version": 3
   },
   "file_extension": ".py",
   "mimetype": "text/x-python",
   "name": "python",
   "nbconvert_exporter": "python",
   "pygments_lexer": "ipython3",
   "version": "3.8.5"
  }
 },
 "nbformat": 4,
 "nbformat_minor": 5
}
