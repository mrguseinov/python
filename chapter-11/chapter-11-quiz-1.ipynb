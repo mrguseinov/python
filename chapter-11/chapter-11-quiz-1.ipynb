{
 "cells": [
  {
   "cell_type": "markdown",
   "id": "verbal-creator",
   "metadata": {},
   "source": [
    "**DO NOT EDIT THE CODE IN THIS FILE**"
   ]
  },
  {
   "cell_type": "code",
   "execution_count": null,
   "id": "convenient-finance",
   "metadata": {},
   "outputs": [],
   "source": [
    "%reset -f\n",
    "\n",
    "from sys import path\n",
    "path.append('../')\n",
    "\n",
    "from helpers.submitters import QuizSubmitter\n",
    "from helpers.widgets import MyRadioButtons\n",
    "\n",
    "questions = [MyRadioButtons(5) for i in range(10)]\n",
    "questions[0] = MyRadioButtons(4)\n",
    "questions[4] = MyRadioButtons(6)\n",
    "questions[8] = MyRadioButtons(6)\n",
    "\n",
    "submitter = QuizSubmitter(\"11\")"
   ]
  },
  {
   "cell_type": "markdown",
   "id": "nutritional-criticism",
   "metadata": {},
   "source": [
    "<hr>\n",
    "\n",
    "### Question 0\n",
    "\n",
    "Which of the following best describes \"Regular Expressions\"?\n",
    "\n",
    "1. A small programming language\n",
    "2. A way to solve Algebra formulas for the unknown value\n",
    "3. The way Python handles and recovers from errors that would otherwise cause a traceback\n",
    "4. A way to calculate mathematical values paying attention to operator precedence"
   ]
  },
  {
   "cell_type": "code",
   "execution_count": null,
   "id": "lightweight-webster",
   "metadata": {},
   "outputs": [],
   "source": [
    "questions[0].show()"
   ]
  },
  {
   "cell_type": "markdown",
   "id": "conscious-consolidation",
   "metadata": {},
   "source": [
    "<hr>\n",
    "\n",
    "### Question 1\n",
    "\n",
    "Which of the following is the way we match the \"start of a line\" in a regular expression?\n",
    "\n",
    "1. `^`\n",
    "2. `str.startswith()`\n",
    "3. `\\linestart`\n",
    "4. `String.startsWith()`\n",
    "5. `variable[0:1]`"
   ]
  },
  {
   "cell_type": "code",
   "execution_count": null,
   "id": "breathing-benchmark",
   "metadata": {},
   "outputs": [],
   "source": [
    "questions[1].show()"
   ]
  },
  {
   "cell_type": "markdown",
   "id": "ahead-column",
   "metadata": {},
   "source": [
    "<hr>\n",
    "\n",
    "### Question 2\n",
    "\n",
    "What would the following mean in a regular expression:`[a-z0-9]`?\n",
    "\n",
    "1. Match any number of lowercase letters followed by any number of digits\n",
    "2. Match a lowercase letter or a digit\n",
    "3. Match an entire line as long as it is lowercase letters or digits\n",
    "4. Match any text that is surrounded by square braces\n",
    "5. Match anything but a lowercase letter or digit"
   ]
  },
  {
   "cell_type": "code",
   "execution_count": null,
   "id": "married-monroe",
   "metadata": {},
   "outputs": [],
   "source": [
    "questions[2].show()"
   ]
  },
  {
   "cell_type": "markdown",
   "id": "german-receiver",
   "metadata": {},
   "source": [
    "<hr>\n",
    "\n",
    "### Question 3\n",
    "\n",
    "What is the type of the return value of the `re.findall()` method?\n",
    "\n",
    "1. A list of strings\n",
    "2. An integer\n",
    "3. A boolean\n",
    "4. A single character\n",
    "5. A string"
   ]
  },
  {
   "cell_type": "code",
   "execution_count": null,
   "id": "negative-snowboard",
   "metadata": {},
   "outputs": [],
   "source": [
    "questions[3].show()"
   ]
  },
  {
   "cell_type": "markdown",
   "id": "severe-reducing",
   "metadata": {},
   "source": [
    "<hr>\n",
    "\n",
    "### Question 4\n",
    "\n",
    "What is the \"wild card\" character in a regular expression (i.e., the character that matches any character)?\n",
    "\n",
    "1. `.`\n",
    "2. `*`\n",
    "3. `$`\n",
    "4. `^`\n",
    "5. `+`\n",
    "6. `?`"
   ]
  },
  {
   "cell_type": "code",
   "execution_count": null,
   "id": "light-chaos",
   "metadata": {},
   "outputs": [],
   "source": [
    "questions[4].show()"
   ]
  },
  {
   "cell_type": "markdown",
   "id": "veterinary-training",
   "metadata": {},
   "source": [
    "<hr>\n",
    "\n",
    "### Question 5\n",
    "\n",
    "What is the difference between the `+` and `*` character in regular expressions?\n",
    "\n",
    "1. The `+` matches at least one character and the `*` matches zero or more characters\n",
    "2. The `+` matches upper case characters and the `*` matches lowercase characters\n",
    "3. The `+` matches the beginning of a line and the `*` matches the end of a line\n",
    "4. The `+` matches the actual plus character and the `*` matches any character\n",
    "5. The `+` indicates \"start of extraction\" and the `*` indicates the \"end of extraction\""
   ]
  },
  {
   "cell_type": "code",
   "execution_count": null,
   "id": "incredible-makeup",
   "metadata": {},
   "outputs": [],
   "source": [
    "questions[5].show()"
   ]
  },
  {
   "cell_type": "markdown",
   "id": "aggressive-mistake",
   "metadata": {},
   "source": [
    "<hr>\n",
    "\n",
    "### Question 6\n",
    "\n",
    "What does the `[0-9]+` match in a regular expression?\n",
    "\n",
    "1. Several digits followed by a plus sign\n",
    "2. Any number of digits at the beginning of a line\n",
    "3. Any mathematical expression\n",
    "4. Zero or more digits\n",
    "5. One or more digits"
   ]
  },
  {
   "cell_type": "code",
   "execution_count": null,
   "id": "mysterious-dover",
   "metadata": {},
   "outputs": [],
   "source": [
    "questions[6].show()"
   ]
  },
  {
   "cell_type": "markdown",
   "id": "following-backup",
   "metadata": {},
   "source": [
    "<hr>\n",
    "\n",
    "### Question 7\n",
    "\n",
    "What does the following Python sequence print out?\n",
    "\n",
    "```python\n",
    "x = 'From: Using the : character'\n",
    "y = re.findall('^F.+:', x)\n",
    "print(y)\n",
    "```\n",
    "\n",
    "1. `:`\n",
    "2. `^F.+:`\n",
    "3. `['From:']`\n",
    "4. `From:`\n",
    "5. `['From: Using the :']`"
   ]
  },
  {
   "cell_type": "code",
   "execution_count": null,
   "id": "solid-harvard",
   "metadata": {},
   "outputs": [],
   "source": [
    "questions[7].show()"
   ]
  },
  {
   "cell_type": "markdown",
   "id": "freelance-bacteria",
   "metadata": {},
   "source": [
    "<hr>\n",
    "\n",
    "### Question 8\n",
    "\n",
    "What character do you add to the `+` or `*` to indicate that the match is to be done in a non-greedy mode?\n",
    "\n",
    "1. `\\g`\n",
    "2. `**`\n",
    "3. `++`\n",
    "4. `$`\n",
    "5. `?`\n",
    "6. `^`"
   ]
  },
  {
   "cell_type": "code",
   "execution_count": null,
   "id": "apparent-girlfriend",
   "metadata": {},
   "outputs": [],
   "source": [
    "questions[8].show()"
   ]
  },
  {
   "cell_type": "markdown",
   "id": "pleasant-transaction",
   "metadata": {},
   "source": [
    "<hr>\n",
    "\n",
    "### Question 9\n",
    "\n",
    "Given the following line of text:\n",
    "\n",
    "```\n",
    "From stephen.marquard@uct.ac.za Sat Jan 5 09:14:16 2008\n",
    "```\n",
    "\n",
    "What would the regular expression `\\S+@\\S+` match?\n",
    "\n",
    "1. `d@u`\n",
    "2. `\\@\\`\n",
    "3. `From`\n",
    "4. `marquard@uct`\n",
    "5. `stephen.marquard@uct.ac.za`"
   ]
  },
  {
   "cell_type": "code",
   "execution_count": null,
   "id": "little-attempt",
   "metadata": {},
   "outputs": [],
   "source": [
    "questions[9].show()"
   ]
  },
  {
   "cell_type": "markdown",
   "id": "inside-thanks",
   "metadata": {},
   "source": [
    "<hr>\n",
    "\n",
    "### Submit"
   ]
  },
  {
   "cell_type": "code",
   "execution_count": null,
   "id": "composite-roots",
   "metadata": {},
   "outputs": [],
   "source": [
    "submitter.submit(questions)"
   ]
  },
  {
   "cell_type": "code",
   "execution_count": null,
   "id": "physical-fields",
   "metadata": {},
   "outputs": [],
   "source": []
  }
 ],
 "metadata": {
  "kernelspec": {
   "display_name": "Python 3",
   "language": "python",
   "name": "python3"
  },
  "language_info": {
   "codemirror_mode": {
    "name": "ipython",
    "version": 3
   },
   "file_extension": ".py",
   "mimetype": "text/x-python",
   "name": "python",
   "nbconvert_exporter": "python",
   "pygments_lexer": "ipython3",
   "version": "3.8.5"
  }
 },
 "nbformat": 4,
 "nbformat_minor": 5
}
