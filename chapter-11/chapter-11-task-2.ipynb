{
 "cells": [
  {
   "cell_type": "code",
   "execution_count": null,
   "id": "wicked-cemetery",
   "metadata": {},
   "outputs": [],
   "source": [
    "# Do not modify the code in this cell.\n",
    "\n",
    "%reset -f\n",
    "\n",
    "from sys import path\n",
    "path.append('../')\n",
    "\n",
    "from helpers.submitters import TaskSubmitter"
   ]
  },
  {
   "cell_type": "markdown",
   "id": "impossible-occasion",
   "metadata": {},
   "source": [
    "## Task 11.2: Simulate Unix Grep\n",
    "\n",
    "Simulate the operation of the grep command on Unix.\n",
    "\n",
    "Ask the user to enter a regular expression and count the number of lines that matched that regular expression.\n",
    "\n",
    "---\n",
    "\n",
    "After running the cell two times with the following inputs, you should see the following output:\n",
    "\n",
    "`Enter a regular expression: ^Author`<br>\n",
    "`Found 27 lines.`<br>\n",
    "\n",
    "`Enter a regular expression: java$`<br>\n",
    "`Found 59 lines.`<br>"
   ]
  },
  {
   "cell_type": "code",
   "execution_count": null,
   "id": "rising-applicant",
   "metadata": {},
   "outputs": [],
   "source": [
    "# Modify the code only in the \"YOUR CODE HERE\" block.\n",
    "\n",
    "import re\n",
    "\n",
    "\n",
    "def foo():\n",
    "    regex = input(\"Enter a regular expression:\")\n",
    "\n",
    "    # ========== YOUR CODE HERE ==========\n",
    "    \n",
    "    \n",
    "    \n",
    "    # ====================================\n",
    "\n",
    "    print(f\"Found {len(matches)} lines.\")\n",
    "\n",
    "\n",
    "foo()"
   ]
  },
  {
   "cell_type": "markdown",
   "id": "natural-planning",
   "metadata": {},
   "source": [
    "### Submit"
   ]
  },
  {
   "cell_type": "code",
   "execution_count": null,
   "id": "artificial-robin",
   "metadata": {},
   "outputs": [],
   "source": [
    "# Do not modify the code in this cell.\n",
    "\n",
    "with TaskSubmitter(\"11.2\", \"print\") as submitter:\n",
    "    submitter.submit(foo)"
   ]
  },
  {
   "cell_type": "code",
   "execution_count": null,
   "id": "otherwise-still",
   "metadata": {},
   "outputs": [],
   "source": []
  }
 ],
 "metadata": {
  "kernelspec": {
   "display_name": "Python 3",
   "language": "python",
   "name": "python3"
  },
  "language_info": {
   "codemirror_mode": {
    "name": "ipython",
    "version": 3
   },
   "file_extension": ".py",
   "mimetype": "text/x-python",
   "name": "python",
   "nbconvert_exporter": "python",
   "pygments_lexer": "ipython3",
   "version": "3.8.5"
  }
 },
 "nbformat": 4,
 "nbformat_minor": 5
}
