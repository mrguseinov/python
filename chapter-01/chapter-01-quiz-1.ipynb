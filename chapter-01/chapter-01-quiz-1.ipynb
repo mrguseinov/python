{
 "cells": [
  {
   "cell_type": "markdown",
   "id": "extended-climb",
   "metadata": {},
   "source": [
    "**DO NOT EDIT THE CODE IN THIS FILE**"
   ]
  },
  {
   "cell_type": "code",
   "execution_count": null,
   "id": "expanded-irish",
   "metadata": {},
   "outputs": [],
   "source": [
    "%reset -f\n",
    "\n",
    "from sys import path\n",
    "path.append('../')\n",
    "\n",
    "from helpers.submitters import QuizSubmitter\n",
    "from helpers.widgets import MyRadioButtons\n",
    "\n",
    "questions = [MyRadioButtons() for i in range(10)]\n",
    "questions[1] = MyRadioButtons(5)\n",
    "\n",
    "submitter = QuizSubmitter(\"01\")"
   ]
  },
  {
   "cell_type": "markdown",
   "id": "crude-meeting",
   "metadata": {},
   "source": [
    "<hr>\n",
    "\n",
    "### Question 0\n",
    "\n",
    "When Python is running in the interactive mode and displaying the chevron prompt (`>>>`), what question is Python asking you?\n",
    "\n",
    "1. What is your favourite color?\n",
    "2. What Python statement would you like me to run?\n",
    "3. What is the next machine language instruction to run?\n",
    "4. What Python script would you like me to run?"
   ]
  },
  {
   "cell_type": "code",
   "execution_count": null,
   "id": "knowing-sampling",
   "metadata": {},
   "outputs": [],
   "source": [
    "questions[0].show()"
   ]
  },
  {
   "cell_type": "markdown",
   "id": "measured-weekend",
   "metadata": {},
   "source": [
    "<hr>\n",
    "\n",
    "### Question 1\n",
    "\n",
    "What will the following program print out:\n",
    "\n",
    "```python\n",
    "x = 15\n",
    "x = x + 5\n",
    "print(x)\n",
    "```\n",
    "\n",
    "1. `20`\n",
    "2. `5`\n",
    "3. `15`\n",
    "4. `print(x)`\n",
    "5. `x + 5`"
   ]
  },
  {
   "cell_type": "code",
   "execution_count": null,
   "id": "british-conviction",
   "metadata": {},
   "outputs": [],
   "source": [
    "questions[1].show()"
   ]
  },
  {
   "cell_type": "markdown",
   "id": "healthy-fight",
   "metadata": {},
   "source": [
    "<hr>\n",
    "\n",
    "### Question 2\n",
    "\n",
    "Python scripts (files) have names that end with:\n",
    "\n",
    "1. `.png`\n",
    "2. `.py`\n",
    "3. `.doc`\n",
    "4. `.exe`"
   ]
  },
  {
   "cell_type": "code",
   "execution_count": null,
   "id": "dramatic-newman",
   "metadata": {},
   "outputs": [],
   "source": [
    "questions[2].show()"
   ]
  },
  {
   "cell_type": "markdown",
   "id": "mobile-breakfast",
   "metadata": {},
   "source": [
    "<hr>\n",
    "\n",
    "### Question 3\n",
    "\n",
    "Which of these words is a reserved word in Python?\n",
    "\n",
    "1. `for`\n",
    "2. `names`\n",
    "3. `pizza`\n",
    "4. `payroll`"
   ]
  },
  {
   "cell_type": "code",
   "execution_count": null,
   "id": "bored-surge",
   "metadata": {},
   "outputs": [],
   "source": [
    "questions[3].show()"
   ]
  },
  {
   "cell_type": "markdown",
   "id": "atmospheric-committee",
   "metadata": {},
   "source": [
    "<hr>\n",
    "\n",
    "### Question 4\n",
    "\n",
    "What is the proper way to say \"good-bye\" to Python?\n",
    "\n",
    "1. `// stop`\n",
    "2. `while`\n",
    "3. `#EXIT`\n",
    "4. `quit()`"
   ]
  },
  {
   "cell_type": "code",
   "execution_count": null,
   "id": "decent-treat",
   "metadata": {},
   "outputs": [],
   "source": [
    "questions[4].show()"
   ]
  },
  {
   "cell_type": "markdown",
   "id": "enormous-intersection",
   "metadata": {},
   "source": [
    "<hr>\n",
    "\n",
    "### Question 5\n",
    "\n",
    "Which part of a computer actually executes the program instructions?\n",
    "\n",
    "1. Main memory\n",
    "2. Secondary memory\n",
    "3. Input/output device (IO device)\n",
    "4. Central processing unit (CPU)"
   ]
  },
  {
   "cell_type": "code",
   "execution_count": null,
   "id": "broad-woman",
   "metadata": {},
   "outputs": [],
   "source": [
    "questions[5].show()"
   ]
  },
  {
   "cell_type": "markdown",
   "id": "inclusive-player",
   "metadata": {},
   "source": [
    "<hr>\n",
    "\n",
    "### Question 6\n",
    "\n",
    "What is \"code\" in the context of this book?\n",
    "\n",
    "1. A way to encrypt data during World War II\n",
    "2. A password we use to unlock Python features\n",
    "3. A sequence of instructions in a programming language\n",
    "4. A set of rules that govern the style of programs"
   ]
  },
  {
   "cell_type": "code",
   "execution_count": null,
   "id": "rational-defensive",
   "metadata": {},
   "outputs": [],
   "source": [
    "questions[6].show()"
   ]
  },
  {
   "cell_type": "markdown",
   "id": "agricultural-acquisition",
   "metadata": {},
   "source": [
    "<hr>\n",
    "\n",
    "### Question 7\n",
    "\n",
    "A USB flash drive is an example of which of the following components of computer architecture?\n",
    "\n",
    "1. Central Processing Unit\n",
    "2. Main Memory\n",
    "3. Secondary Memory\n",
    "4. Output Device"
   ]
  },
  {
   "cell_type": "code",
   "execution_count": null,
   "id": "center-campus",
   "metadata": {},
   "outputs": [],
   "source": [
    "questions[7].show()"
   ]
  },
  {
   "cell_type": "markdown",
   "id": "accessible-capital",
   "metadata": {},
   "source": [
    "<hr>\n",
    "\n",
    "### Question 8\n",
    "\n",
    "What is the best way to think about a \"Syntax Error\" while programming?\n",
    "\n",
    "1. The computer has used GPS to find your location and hates everyone from your town\n",
    "2. The computer did not understand the statement that you entered\n",
    "3. The computer needs to have its software upgraded\n",
    "4. The computer is overheating and just wants you to stop to let it cool down"
   ]
  },
  {
   "cell_type": "code",
   "execution_count": null,
   "id": "municipal-symbol",
   "metadata": {},
   "outputs": [],
   "source": [
    "questions[8].show()"
   ]
  },
  {
   "cell_type": "markdown",
   "id": "crude-defeat",
   "metadata": {},
   "source": [
    "<hr>\n",
    "\n",
    "### Question 9\n",
    "\n",
    "Which of the following is **not** one of the programming patterns covered in Chapter 1?\n",
    "\n",
    "1. Random steps\n",
    "2. Conditional steps\n",
    "3. Repeated steps\n",
    "4. Sequential steps"
   ]
  },
  {
   "cell_type": "code",
   "execution_count": null,
   "id": "handy-richardson",
   "metadata": {},
   "outputs": [],
   "source": [
    "questions[9].show()"
   ]
  },
  {
   "cell_type": "markdown",
   "id": "composite-placement",
   "metadata": {},
   "source": [
    "<hr>\n",
    "\n",
    "### Submit"
   ]
  },
  {
   "cell_type": "code",
   "execution_count": null,
   "id": "falling-ceiling",
   "metadata": {},
   "outputs": [],
   "source": [
    "submitter.submit(questions)"
   ]
  },
  {
   "cell_type": "code",
   "execution_count": null,
   "id": "american-tragedy",
   "metadata": {},
   "outputs": [],
   "source": []
  }
 ],
 "metadata": {
  "kernelspec": {
   "display_name": "Python 3",
   "language": "python",
   "name": "python3"
  },
  "language_info": {
   "codemirror_mode": {
    "name": "ipython",
    "version": 3
   },
   "file_extension": ".py",
   "mimetype": "text/x-python",
   "name": "python",
   "nbconvert_exporter": "python",
   "pygments_lexer": "ipython3",
   "version": "3.8.5"
  }
 },
 "nbformat": 4,
 "nbformat_minor": 5
}
