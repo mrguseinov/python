{
 "cells": [
  {
   "cell_type": "code",
   "execution_count": null,
   "id": "classified-colors",
   "metadata": {},
   "outputs": [],
   "source": [
    "# Do not modify the code in this cell.\n",
    "\n",
    "%reset -f\n",
    "\n",
    "from sys import path\n",
    "path.append('../')\n",
    "\n",
    "from helpers.submitters import TaskSubmitter"
   ]
  },
  {
   "cell_type": "markdown",
   "id": "competent-invitation",
   "metadata": {},
   "source": [
    "## Task 5.2: Process Stream Of Numbers Part 2\n",
    "\n",
    "Write a program that repeatedly prompts a user for integer numbers until the user enters `done`. Once `done` is entered, print out the largest and smallest of the numbers.\n",
    "\n",
    "If the user enters anything other than a valid number, catch it with a `try / except`, print an appropriate message and ignore the input.\n",
    "\n",
    "---\n",
    "\n",
    "After running the cell with the following inputs, you should see the following output:\n",
    "\n",
    "`Enter a number: 7`<br>\n",
    "`Enter a number: 2`<br>\n",
    "`Enter a number: bob`<br>\n",
    "`Error: Invalid input.`<br>\n",
    "`Enter a number: 10`<br>\n",
    "`Enter a number: 4`<br>\n",
    "`Enter a number: done`<br>\n",
    "\n",
    "`Minimum is 2`<br>\n",
    "`Maximum is 10`"
   ]
  },
  {
   "cell_type": "code",
   "execution_count": null,
   "id": "absent-stuart",
   "metadata": {},
   "outputs": [],
   "source": [
    "# Modify the code only in the \"YOUR CODE HERE\" block.\n",
    "\n",
    "\n",
    "def foo():\n",
    "    minimum = None\n",
    "    maximum = None\n",
    "\n",
    "    while True:\n",
    "        number = input(\"Enter a number:\")\n",
    "\n",
    "        # ========== YOUR CODE HERE ==========\n",
    "        \n",
    "        \n",
    "        \n",
    "        # ====================================\n",
    "\n",
    "    print(f\"\\nMinimum is {minimum}\")\n",
    "    print(f\"Maximum is {maximum}\")\n",
    "\n",
    "\n",
    "foo()"
   ]
  },
  {
   "cell_type": "markdown",
   "id": "anonymous-identity",
   "metadata": {},
   "source": [
    "### Submit"
   ]
  },
  {
   "cell_type": "code",
   "execution_count": null,
   "id": "undefined-bubble",
   "metadata": {},
   "outputs": [],
   "source": [
    "# Do not modify the code in this cell.\n",
    "\n",
    "with TaskSubmitter(\"05.2\", \"print\") as submitter:\n",
    "    submitter.submit(foo)"
   ]
  },
  {
   "cell_type": "code",
   "execution_count": null,
   "id": "planned-deviation",
   "metadata": {},
   "outputs": [],
   "source": []
  }
 ],
 "metadata": {
  "kernelspec": {
   "display_name": "Python 3",
   "language": "python",
   "name": "python3"
  },
  "language_info": {
   "codemirror_mode": {
    "name": "ipython",
    "version": 3
   },
   "file_extension": ".py",
   "mimetype": "text/x-python",
   "name": "python",
   "nbconvert_exporter": "python",
   "pygments_lexer": "ipython3",
   "version": "3.8.5"
  }
 },
 "nbformat": 4,
 "nbformat_minor": 5
}
