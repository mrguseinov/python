{
 "cells": [
  {
   "cell_type": "code",
   "execution_count": null,
   "id": "interstate-bullet",
   "metadata": {},
   "outputs": [],
   "source": [
    "# Do not modify the code in this cell.\n",
    "\n",
    "%reset -f\n",
    "\n",
    "from sys import path\n",
    "path.append('../')\n",
    "\n",
    "from helpers.submitters import TaskSubmitter"
   ]
  },
  {
   "cell_type": "markdown",
   "id": "posted-syndrome",
   "metadata": {},
   "source": [
    "## Task 5.1: Process Stream Of Numbers Part 1\n",
    "\n",
    "Write a program which repeatedly reads numbers until the user enters `done`. Once `done` is entered, print out the total, count, and average of the numbers. Round the average to three decimal places.\n",
    "\n",
    "If the user enters anything other than a number, detect their mistake using `try / except`, print an error message and skip to the next number.\n",
    "\n",
    "---\n",
    "\n",
    "After running the cell with the following inputs, you should see the following output:\n",
    "\n",
    "`Enter a number: 4`<br>\n",
    "`Enter a number: 5.55`<br>\n",
    "`Enter a number: qwe`<br>\n",
    "`Error: Invalid input.`<br>\n",
    "`Enter a number: 7`<br>\n",
    "`Enter a number: done`<br>\n",
    "\n",
    "`Total: 16.55`<br>\n",
    "`Count: 3`<br>\n",
    "`Average: 5.517`"
   ]
  },
  {
   "cell_type": "code",
   "execution_count": null,
   "id": "alternate-lighting",
   "metadata": {},
   "outputs": [],
   "source": [
    "# Modify the code only in the \"YOUR CODE HERE\" block.\n",
    "\n",
    "\n",
    "def foo():\n",
    "    total = 0\n",
    "    count = 0\n",
    "\n",
    "    while True:\n",
    "        number = input(\"Enter a number:\")\n",
    "\n",
    "        # ========== YOUR CODE HERE ==========\n",
    "        \n",
    "        \n",
    "        \n",
    "        # ====================================\n",
    "\n",
    "    print(f\"\\nTotal: {total}\")\n",
    "    print(f\"Count: {count}\")\n",
    "    print(f\"Average: {round(total / count, 3)}\")\n",
    "\n",
    "\n",
    "foo()"
   ]
  },
  {
   "cell_type": "markdown",
   "id": "statistical-international",
   "metadata": {},
   "source": [
    "### Submit"
   ]
  },
  {
   "cell_type": "code",
   "execution_count": null,
   "id": "stunning-regard",
   "metadata": {},
   "outputs": [],
   "source": [
    "# Do not modify the code in this cell.\n",
    "\n",
    "with TaskSubmitter(\"05.1\", \"print\") as submitter:\n",
    "    submitter.submit(foo)"
   ]
  },
  {
   "cell_type": "code",
   "execution_count": null,
   "id": "polish-coordination",
   "metadata": {},
   "outputs": [],
   "source": []
  }
 ],
 "metadata": {
  "kernelspec": {
   "display_name": "Python 3",
   "language": "python",
   "name": "python3"
  },
  "language_info": {
   "codemirror_mode": {
    "name": "ipython",
    "version": 3
   },
   "file_extension": ".py",
   "mimetype": "text/x-python",
   "name": "python",
   "nbconvert_exporter": "python",
   "pygments_lexer": "ipython3",
   "version": "3.8.5"
  }
 },
 "nbformat": 4,
 "nbformat_minor": 5
}
