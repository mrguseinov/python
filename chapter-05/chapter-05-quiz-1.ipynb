{
 "cells": [
  {
   "cell_type": "markdown",
   "id": "flexible-wichita",
   "metadata": {},
   "source": [
    "**DO NOT EDIT THE CODE IN THIS FILE**"
   ]
  },
  {
   "cell_type": "code",
   "execution_count": null,
   "id": "coated-resolution",
   "metadata": {},
   "outputs": [],
   "source": [
    "%reset -f\n",
    "\n",
    "from sys import path\n",
    "path.append('../')\n",
    "\n",
    "from helpers.submitters import QuizSubmitter\n",
    "from helpers.widgets import MyCheckBoxes, MyRadioButtons\n",
    "\n",
    "questions = [MyRadioButtons() for i in range(10)]\n",
    "questions[7] = MyCheckBoxes()\n",
    "questions[8] = MyRadioButtons(5)\n",
    "\n",
    "submitter = QuizSubmitter(\"05\")"
   ]
  },
  {
   "cell_type": "markdown",
   "id": "systematic-circus",
   "metadata": {},
   "source": [
    "<hr>\n",
    "\n",
    "### Question 0\n",
    "\n",
    "What is wrong with this Python loop:\n",
    "\n",
    "```python\n",
    "n = 5\n",
    "while n > 0:\n",
    "    print(n)\n",
    "print('All done')\n",
    "```\n",
    "\n",
    "1. This loop will run forever\n",
    "2. The `print('All done')` statement should be indented four spaces\n",
    "3. There should be no colon (`:`) on the while statement\n",
    "4. `while` is not a Python reserved word"
   ]
  },
  {
   "cell_type": "code",
   "execution_count": null,
   "id": "regular-september",
   "metadata": {},
   "outputs": [],
   "source": [
    "questions[0].show()"
   ]
  },
  {
   "cell_type": "markdown",
   "id": "removable-glance",
   "metadata": {},
   "source": [
    "<hr>\n",
    "\n",
    "### Question 1\n",
    "\n",
    "What does the `break` statement do?\n",
    "\n",
    "1. Jumps to the \"top\" of the loop and starts the next iteration\n",
    "2. Exits the currently executing loop\n",
    "3. Exits the program\n",
    "4. Resets the iteration variable to its initial value"
   ]
  },
  {
   "cell_type": "code",
   "execution_count": null,
   "id": "environmental-smile",
   "metadata": {},
   "outputs": [],
   "source": [
    "questions[1].show()"
   ]
  },
  {
   "cell_type": "markdown",
   "id": "broken-tyler",
   "metadata": {},
   "source": [
    "<hr>\n",
    "\n",
    "### Question 2\n",
    "\n",
    "What does the `continue` statement do?\n",
    "\n",
    "1. Resets the iteration variable to its initial value\n",
    "2. Jumps to the \"top\" of the loop and starts the next iteration\n",
    "3. Exits the currently executing loop\n",
    "4. Exits the program"
   ]
  },
  {
   "cell_type": "code",
   "execution_count": null,
   "id": "comparative-collectible",
   "metadata": {},
   "outputs": [],
   "source": [
    "questions[2].show()"
   ]
  },
  {
   "cell_type": "markdown",
   "id": "referenced-exhaust",
   "metadata": {},
   "source": [
    "<hr>\n",
    "\n",
    "### Question 3\n",
    "\n",
    "What does the following Python program print out:\n",
    "\n",
    "```python\n",
    "tot = 0\n",
    "for i in [5, 4, 3, 2, 1]:\n",
    "    tot = tot + 1\n",
    "print(tot)\n",
    "```\n",
    "\n",
    "1. `10`\n",
    "2. `0`\n",
    "3. `15`\n",
    "4. `5`"
   ]
  },
  {
   "cell_type": "code",
   "execution_count": null,
   "id": "grand-spell",
   "metadata": {},
   "outputs": [],
   "source": [
    "questions[3].show()"
   ]
  },
  {
   "cell_type": "markdown",
   "id": "commercial-album",
   "metadata": {},
   "source": [
    "<hr>\n",
    "\n",
    "### Question 4\n",
    "\n",
    "What is the iteration variable in the following Python code:\n",
    "\n",
    "```python\n",
    "friends = ['Joseph', 'Glenn', 'Sally']\n",
    "for friend in friends:\n",
    "     print('Happy New Year:',  friend)\n",
    "print('Done!')\n",
    "```\n",
    "\n",
    "1. `friend`\n",
    "2. `Glenn`\n",
    "3. `Sally`\n",
    "4. `friends`"
   ]
  },
  {
   "cell_type": "code",
   "execution_count": null,
   "id": "eight-chemical",
   "metadata": {},
   "outputs": [],
   "source": [
    "questions[4].show()"
   ]
  },
  {
   "cell_type": "markdown",
   "id": "accepted-meditation",
   "metadata": {},
   "source": [
    "<hr>\n",
    "\n",
    "### Question 5\n",
    "\n",
    "What is a good description of the following bit of Python code:\n",
    "\n",
    "```python\n",
    "zork = 0\n",
    "for thing in [9, 41, 12, 3, 74, 15]:\n",
    "    zork = zork + thing\n",
    "print('After', zork)\n",
    "```\n",
    "\n",
    "1. Find the smallest item in a list\n",
    "2. Count all of the elements in a list\n",
    "3. Find the largest item in a list\n",
    "4. Sum all the elements of a list"
   ]
  },
  {
   "cell_type": "code",
   "execution_count": null,
   "id": "substantial-edmonton",
   "metadata": {},
   "outputs": [],
   "source": [
    "questions[5].show()"
   ]
  },
  {
   "cell_type": "markdown",
   "id": "first-restaurant",
   "metadata": {},
   "source": [
    "<hr>\n",
    "\n",
    "### Question 6\n",
    "\n",
    "What will the following code print out:\n",
    "\n",
    "```python\n",
    "smallest_so_far = -1\n",
    "for the_num in [9, 41, 12, 3, 74, 15]:\n",
    "    if the_num < smallest_so_far:\n",
    "        smallest_so_far = the_num\n",
    "print(smallest_so_far)\n",
    "```\n",
    "\n",
    "*Hint: This is a trick question and most would say this code has a bug — so read carefully.*\n",
    "\n",
    "1. `-1`\n",
    "2. `74`\n",
    "3. `42`\n",
    "4. `3`"
   ]
  },
  {
   "cell_type": "code",
   "execution_count": null,
   "id": "conventional-fleet",
   "metadata": {},
   "outputs": [],
   "source": [
    "questions[6].show()"
   ]
  },
  {
   "cell_type": "markdown",
   "id": "alpine-chicken",
   "metadata": {},
   "source": [
    "<hr>\n",
    "\n",
    "### Question 7\n",
    "\n",
    "Check all that apply.\n",
    "\n",
    "1. The `==` operator compares the value or equality of two objects\n",
    "2. There is no such operator as `is`\n",
    "3. The `is` operator checks whether two variables point to the same object in memory\n",
    "4. In Python 3, there is no difference between `is` and `==`"
   ]
  },
  {
   "cell_type": "code",
   "execution_count": null,
   "id": "tracked-racing",
   "metadata": {},
   "outputs": [],
   "source": [
    "questions[7].show()"
   ]
  },
  {
   "cell_type": "markdown",
   "id": "atlantic-travel",
   "metadata": {},
   "source": [
    "<hr>\n",
    "\n",
    "### Question 8\n",
    "\n",
    "Which reserved word indicates the start of an \"indefinite\" loop in Python?\n",
    "\n",
    "1. `def`\n",
    "2. `while`\n",
    "3. `indef`\n",
    "4. `break`\n",
    "5. `for`"
   ]
  },
  {
   "cell_type": "code",
   "execution_count": null,
   "id": "accessible-union",
   "metadata": {},
   "outputs": [],
   "source": [
    "questions[8].show()"
   ]
  },
  {
   "cell_type": "markdown",
   "id": "lesser-count",
   "metadata": {},
   "source": [
    "<hr>\n",
    "\n",
    "### Question 9\n",
    "\n",
    "How many times will the body of the following loop be executed:\n",
    "\n",
    "```python\n",
    "n = 0\n",
    "while n > 0:\n",
    "    print('Lather')\n",
    "    print('Rinse')\n",
    "print('Dry off!')\n",
    "```\n",
    "\n",
    "1. `0`\n",
    "2. This is an infinite loop\n",
    "3. `5`\n",
    "4. `1`"
   ]
  },
  {
   "cell_type": "code",
   "execution_count": null,
   "id": "interesting-fiber",
   "metadata": {},
   "outputs": [],
   "source": [
    "questions[9].show()"
   ]
  },
  {
   "cell_type": "markdown",
   "id": "transparent-parcel",
   "metadata": {},
   "source": [
    "<hr>\n",
    "\n",
    "### Submit"
   ]
  },
  {
   "cell_type": "code",
   "execution_count": null,
   "id": "worthy-producer",
   "metadata": {},
   "outputs": [],
   "source": [
    "submitter.submit(questions)"
   ]
  },
  {
   "cell_type": "code",
   "execution_count": null,
   "id": "metropolitan-williams",
   "metadata": {},
   "outputs": [],
   "source": []
  }
 ],
 "metadata": {
  "kernelspec": {
   "display_name": "Python 3",
   "language": "python",
   "name": "python3"
  },
  "language_info": {
   "codemirror_mode": {
    "name": "ipython",
    "version": 3
   },
   "file_extension": ".py",
   "mimetype": "text/x-python",
   "name": "python",
   "nbconvert_exporter": "python",
   "pygments_lexer": "ipython3",
   "version": "3.8.5"
  }
 },
 "nbformat": 4,
 "nbformat_minor": 5
}
