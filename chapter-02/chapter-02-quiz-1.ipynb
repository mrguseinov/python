{
 "cells": [
  {
   "cell_type": "markdown",
   "id": "wrapped-marine",
   "metadata": {},
   "source": [
    "**DO NOT EDIT THE CODE IN THIS FILE**"
   ]
  },
  {
   "cell_type": "code",
   "execution_count": null,
   "id": "challenging-panama",
   "metadata": {},
   "outputs": [],
   "source": [
    "%reset -f\n",
    "\n",
    "from sys import path\n",
    "path.append('../')\n",
    "\n",
    "from helpers.submitters import QuizSubmitter\n",
    "from helpers.widgets import MyRadioButtons\n",
    "\n",
    "questions = [MyRadioButtons() for i in range(10)]\n",
    "\n",
    "submitter = QuizSubmitter(\"02\")"
   ]
  },
  {
   "cell_type": "markdown",
   "id": "oriental-plane",
   "metadata": {},
   "source": [
    "<hr>\n",
    "\n",
    "### Question 0\n",
    "\n",
    "In the following code:\n",
    "\n",
    "```python\n",
    "print(98.6)\n",
    "```\n",
    "\n",
    "What is `98.6`?\n",
    "\n",
    "1. A conditional statement\n",
    "2. A variable\n",
    "3. A literal\n",
    "4. A loop statement"
   ]
  },
  {
   "cell_type": "code",
   "execution_count": null,
   "id": "adjusted-screw",
   "metadata": {},
   "outputs": [],
   "source": [
    "questions[0].show()"
   ]
  },
  {
   "cell_type": "markdown",
   "id": "pressing-space",
   "metadata": {},
   "source": [
    "<hr>\n",
    "\n",
    "### Question 1\n",
    "\n",
    "What does the following code print out:\n",
    "\n",
    "```python\n",
    "print('123' + 'abc')\n",
    "```\n",
    "\n",
    "1. `123abc`\n",
    "2. `hello world`\n",
    "3. This is a syntax error because you cannot add strings\n",
    "4. `123+abc`"
   ]
  },
  {
   "cell_type": "code",
   "execution_count": null,
   "id": "periodic-jewelry",
   "metadata": {},
   "outputs": [],
   "source": [
    "questions[1].show()"
   ]
  },
  {
   "cell_type": "markdown",
   "id": "weird-inspiration",
   "metadata": {},
   "source": [
    "<hr>\n",
    "\n",
    "### Question 2\n",
    "\n",
    "Which of the following is a bad Python variable name?\n",
    "\n",
    "1. `Spam`\n",
    "2. `spam23`\n",
    "3. `spam_23`\n",
    "4. `spam.23`"
   ]
  },
  {
   "cell_type": "code",
   "execution_count": null,
   "id": "handy-study",
   "metadata": {},
   "outputs": [],
   "source": [
    "questions[2].show()"
   ]
  },
  {
   "cell_type": "markdown",
   "id": "automatic-concentrate",
   "metadata": {},
   "source": [
    "<hr>\n",
    "\n",
    "### Question 3\n",
    "\n",
    "Which of the following is not a Python reserved word?\n",
    "\n",
    "1. `iterate`\n",
    "2. `continue`\n",
    "3. `else`\n",
    "4. `break`"
   ]
  },
  {
   "cell_type": "code",
   "execution_count": null,
   "id": "blocked-television",
   "metadata": {},
   "outputs": [],
   "source": [
    "questions[3].show()"
   ]
  },
  {
   "cell_type": "markdown",
   "id": "attended-conclusion",
   "metadata": {},
   "source": [
    "<hr>\n",
    "\n",
    "### Question 4\n",
    "\n",
    "Assume the variable `x` has been initialized to an integer value (e.g., `x = 3`).\n",
    "\n",
    "What does the following statement do?\n",
    "\n",
    "```python\n",
    "x = x + 2\n",
    "```\n",
    "\n",
    "1. Retrieve the current value for `x`, add two to it and put the sum back into `x`\n",
    "2. This would fail as it is a syntax error\n",
    "3. Exit the program\n",
    "4. Create a function called `x` and put the value `2` in the function"
   ]
  },
  {
   "cell_type": "code",
   "execution_count": null,
   "id": "unable-dollar",
   "metadata": {},
   "outputs": [],
   "source": [
    "questions[4].show()"
   ]
  },
  {
   "cell_type": "markdown",
   "id": "affiliated-guidance",
   "metadata": {},
   "source": [
    "<hr>\n",
    "\n",
    "### Question 5\n",
    "\n",
    "Which of the following elements of a mathematical expression in Python is evaluated first?\n",
    "\n",
    "1. Addition `+`\n",
    "2. Subtraction `-`\n",
    "3. Multiplication `*`\n",
    "4. Parentheses `()`"
   ]
  },
  {
   "cell_type": "code",
   "execution_count": null,
   "id": "military-beads",
   "metadata": {},
   "outputs": [],
   "source": [
    "questions[5].show()"
   ]
  },
  {
   "cell_type": "markdown",
   "id": "nervous-setup",
   "metadata": {},
   "source": [
    "<hr>\n",
    "\n",
    "### Question 6\n",
    "\n",
    "What is the value of the following expression:\n",
    "\n",
    "```python\n",
    "42 % 10\n",
    "```\n",
    "\n",
    "*Hint: the `%` is the remainder operator*\n",
    "\n",
    "1. `4210`\n",
    "2. `10`\n",
    "3. `0.42`\n",
    "4. `2`"
   ]
  },
  {
   "cell_type": "code",
   "execution_count": null,
   "id": "presidential-merit",
   "metadata": {},
   "outputs": [],
   "source": [
    "questions[6].show()"
   ]
  },
  {
   "cell_type": "markdown",
   "id": "permanent-reduction",
   "metadata": {},
   "source": [
    "<hr>\n",
    "\n",
    "### Question 7\n",
    "\n",
    "What will be the value of `x` after the following statement executes:\n",
    "\n",
    "```python\n",
    " x = 1 + 2 * 3 - 8 / 4\n",
    "```\n",
    "\n",
    "1. `2`\n",
    "2. `1.0`\n",
    "3. `3`\n",
    "4. `5.0`"
   ]
  },
  {
   "cell_type": "code",
   "execution_count": null,
   "id": "environmental-arcade",
   "metadata": {},
   "outputs": [],
   "source": [
    "questions[7].show()"
   ]
  },
  {
   "cell_type": "markdown",
   "id": "unusual-demographic",
   "metadata": {},
   "source": [
    "<hr>\n",
    "\n",
    "### Question 8\n",
    "\n",
    "What will be the value of `x` when the following statement is executed:\n",
    "\n",
    "```python\n",
    "x = int(98.6)\n",
    "```\n",
    "\n",
    "1. `99`\n",
    "2. `6`\n",
    "3. `100`\n",
    "4. `98`"
   ]
  },
  {
   "cell_type": "code",
   "execution_count": null,
   "id": "sorted-intermediate",
   "metadata": {},
   "outputs": [],
   "source": [
    "questions[8].show()"
   ]
  },
  {
   "cell_type": "markdown",
   "id": "institutional-loading",
   "metadata": {},
   "source": [
    "<hr>\n",
    "\n",
    "### Question 9\n",
    "\n",
    "What does the Python `input()` function do?\n",
    "\n",
    "1. Pause the program and read data from the user\n",
    "2. Connect to the network and retrieve a web page\n",
    "3. Read the memory of the running program\n",
    "4. Take a screenshot from an area of the screen"
   ]
  },
  {
   "cell_type": "code",
   "execution_count": null,
   "id": "friendly-bradford",
   "metadata": {},
   "outputs": [],
   "source": [
    "questions[9].show()"
   ]
  },
  {
   "cell_type": "markdown",
   "id": "american-breath",
   "metadata": {},
   "source": [
    "<hr>\n",
    "\n",
    "### Submit"
   ]
  },
  {
   "cell_type": "code",
   "execution_count": null,
   "id": "under-fireplace",
   "metadata": {},
   "outputs": [],
   "source": [
    "submitter.submit(questions)"
   ]
  },
  {
   "cell_type": "code",
   "execution_count": null,
   "id": "found-local",
   "metadata": {},
   "outputs": [],
   "source": []
  }
 ],
 "metadata": {
  "kernelspec": {
   "display_name": "Python 3",
   "language": "python",
   "name": "python3"
  },
  "language_info": {
   "codemirror_mode": {
    "name": "ipython",
    "version": 3
   },
   "file_extension": ".py",
   "mimetype": "text/x-python",
   "name": "python",
   "nbconvert_exporter": "python",
   "pygments_lexer": "ipython3",
   "version": "3.8.5"
  }
 },
 "nbformat": 4,
 "nbformat_minor": 5
}
