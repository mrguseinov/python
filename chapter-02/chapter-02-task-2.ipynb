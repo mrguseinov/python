{
 "cells": [
  {
   "cell_type": "code",
   "execution_count": null,
   "id": "federal-ballet",
   "metadata": {},
   "outputs": [],
   "source": [
    "# Do not modify the code in this cell.\n",
    "\n",
    "%reset -f\n",
    "\n",
    "from sys import path\n",
    "path.append('../')\n",
    "\n",
    "from helpers.submitters import TaskSubmitter"
   ]
  },
  {
   "cell_type": "markdown",
   "id": "corrected-isolation",
   "metadata": {},
   "source": [
    "## Task 2.2: Compute Pay\n",
    "\n",
    "Prompt the user for hours worked and rate per hour to compute the gross pay.<br>\n",
    "\n",
    "Use `input()` to read strings and `float()` to convert them to numbers.\n",
    "\n",
    "Use `round()` to round the resulting pay to two decimal places.\n",
    "\n",
    "*Note: Do not worry about error checking or bad user data.*\n",
    "\n",
    "---\n",
    "\n",
    "After running the cell with `35` and `2.125`, you should see the following output:\n",
    "\n",
    "`Enter hours: 35`<br>\n",
    "`Enter rate: 2.125`<br>\n",
    "`Gross pay: 74.38`"
   ]
  },
  {
   "cell_type": "code",
   "execution_count": null,
   "id": "familiar-porcelain",
   "metadata": {},
   "outputs": [],
   "source": [
    "# Modify the code only in the \"YOUR CODE HERE\" block.\n",
    "\n",
    "\n",
    "def foo():\n",
    "    hours = float(input(\"Enter hours:\"))\n",
    "\n",
    "    # ========== YOUR CODE HERE ==========\n",
    "    \n",
    "    \n",
    "    \n",
    "    # ====================================\n",
    "\n",
    "    print(f\"Gross pay: {round(hours * rate, 2)}\")\n",
    "\n",
    "\n",
    "foo()"
   ]
  },
  {
   "cell_type": "markdown",
   "id": "painful-exploration",
   "metadata": {},
   "source": [
    "### Submit"
   ]
  },
  {
   "cell_type": "code",
   "execution_count": null,
   "id": "municipal-dictionary",
   "metadata": {},
   "outputs": [],
   "source": [
    "# Do not modify the code in this cell.\n",
    "\n",
    "with TaskSubmitter(\"02.2\", \"print\") as submitter:\n",
    "    submitter.submit(foo)"
   ]
  },
  {
   "cell_type": "code",
   "execution_count": null,
   "id": "significant-movie",
   "metadata": {},
   "outputs": [],
   "source": []
  }
 ],
 "metadata": {
  "kernelspec": {
   "display_name": "Python 3",
   "language": "python",
   "name": "python3"
  },
  "language_info": {
   "codemirror_mode": {
    "name": "ipython",
    "version": 3
   },
   "file_extension": ".py",
   "mimetype": "text/x-python",
   "name": "python",
   "nbconvert_exporter": "python",
   "pygments_lexer": "ipython3",
   "version": "3.8.5"
  }
 },
 "nbformat": 4,
 "nbformat_minor": 5
}
