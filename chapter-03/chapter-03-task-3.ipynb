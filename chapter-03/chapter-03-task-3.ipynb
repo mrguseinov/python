{
 "cells": [
  {
   "cell_type": "code",
   "execution_count": null,
   "id": "governing-vitamin",
   "metadata": {},
   "outputs": [],
   "source": [
    "# Do not modify the code in this cell.\n",
    "\n",
    "%reset -f\n",
    "\n",
    "from sys import path\n",
    "path.append('../')\n",
    "\n",
    "from helpers.submitters import TaskSubmitter"
   ]
  },
  {
   "cell_type": "markdown",
   "id": "familiar-opening",
   "metadata": {},
   "source": [
    "## Task 3.3: Get Grade\n",
    "\n",
    "Prompt for a score between 0.0 and 1.0. If the score is out of range, print an error message. If the score is between 0.0 and 1.0, print a grade using the following table:\n",
    "\n",
    "<table style=\"font-size: 100%; text-align: center\">\n",
    "  <tr>\n",
    "    <th>Score</th>\n",
    "    <th>Grade</th>\n",
    "  </tr>\n",
    "  <tr>\n",
    "    <td>>= 0.9</td>\n",
    "    <td>A</td>\n",
    "  </tr>\n",
    "  <tr>\n",
    "    <td>>= 0.8</td>\n",
    "    <td>B</td>\n",
    "  </tr>\n",
    "  <tr>\n",
    "    <td>>= 0.7</td>\n",
    "    <td>C</td>\n",
    "  </tr>\n",
    "  <tr>\n",
    "    <td>>= 0.6</td>\n",
    "    <td>D</td>\n",
    "  </tr>\n",
    "  <tr>\n",
    "    <td>&lt; 0.6</td>\n",
    "    <td>F</td>\n",
    "  </tr>\n",
    "</table>\n",
    "\n",
    "*Note: Don't forget about non-numeric inputs.*\n",
    "\n",
    "---\n",
    "\n",
    "After running the cell five times with the following inputs, you should see the following output:\n",
    "\n",
    "`Enter score: 0.85`<br>\n",
    "`Grade: B`<br>\n",
    "\n",
    "`Enter score: 0.79`<br>\n",
    "`Grade: C`<br>\n",
    "\n",
    "`Enter score: 1.21`<br>\n",
    "`Error! Score is out of range [0.0, 1.0].`<br>\n",
    "\n",
    "`Enter score: -0.1`<br>\n",
    "`Error! Score is out of range [0.0, 1.0].`<br>\n",
    "\n",
    "`Enter score: perfect`<br>\n",
    "`Error! Enter only numeric input.`<br>"
   ]
  },
  {
   "cell_type": "code",
   "execution_count": null,
   "id": "ordinary-orientation",
   "metadata": {},
   "outputs": [],
   "source": [
    "# Modify the code only in the \"YOUR CODE HERE\" block.\n",
    "\n",
    "\n",
    "def foo():\n",
    "    try:\n",
    "        score = float(input(\"Enter score:\"))\n",
    "\n",
    "        # ========== YOUR CODE HERE ==========\n",
    "        \n",
    "        \n",
    "        \n",
    "        # ====================================\n",
    "\n",
    "    except:\n",
    "        print(\"Error! Enter only numeric input.\")\n",
    "\n",
    "\n",
    "foo()"
   ]
  },
  {
   "cell_type": "markdown",
   "id": "every-nickname",
   "metadata": {},
   "source": [
    "### Submit"
   ]
  },
  {
   "cell_type": "code",
   "execution_count": null,
   "id": "sitting-breath",
   "metadata": {},
   "outputs": [],
   "source": [
    "# Do not modify the code in this cell.\n",
    "\n",
    "with TaskSubmitter(\"03.3\", \"print\") as submitter:\n",
    "    submitter.submit(foo)"
   ]
  },
  {
   "cell_type": "code",
   "execution_count": null,
   "id": "prerequisite-springfield",
   "metadata": {},
   "outputs": [],
   "source": []
  }
 ],
 "metadata": {
  "kernelspec": {
   "display_name": "Python 3",
   "language": "python",
   "name": "python3"
  },
  "language_info": {
   "codemirror_mode": {
    "name": "ipython",
    "version": 3
   },
   "file_extension": ".py",
   "mimetype": "text/x-python",
   "name": "python",
   "nbconvert_exporter": "python",
   "pygments_lexer": "ipython3",
   "version": "3.8.5"
  }
 },
 "nbformat": 4,
 "nbformat_minor": 5
}
