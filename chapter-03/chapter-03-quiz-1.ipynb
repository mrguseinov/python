{
 "cells": [
  {
   "cell_type": "markdown",
   "id": "outer-simon",
   "metadata": {},
   "source": [
    "**DO NOT EDIT THE CODE IN THIS FILE**"
   ]
  },
  {
   "cell_type": "code",
   "execution_count": null,
   "id": "lightweight-polish",
   "metadata": {},
   "outputs": [],
   "source": [
    "%reset -f\n",
    "\n",
    "from sys import path\n",
    "path.append('../')\n",
    "\n",
    "from helpers.submitters import QuizSubmitter\n",
    "from helpers.widgets import MyRadioButtons\n",
    "\n",
    "questions = [MyRadioButtons() for i in range(10)]\n",
    "\n",
    "submitter = QuizSubmitter(\"03\")"
   ]
  },
  {
   "cell_type": "markdown",
   "id": "taken-tokyo",
   "metadata": {},
   "source": [
    "<hr>\n",
    "\n",
    "### Question 0\n",
    "\n",
    "What do we do to a python statement that is immediately after an `if` statement to indicate that the statement is to be executed only when the `if` statement is true?\n",
    "\n",
    "1. Start the statement with a `#` character\n",
    "2. Begin the statement with a curly brace `{`\n",
    "3. Underline all of the conditional code `_`\n",
    "4. Indent the line below the `if` statement"
   ]
  },
  {
   "cell_type": "code",
   "execution_count": null,
   "id": "visible-sensitivity",
   "metadata": {},
   "outputs": [],
   "source": [
    "questions[0].show()"
   ]
  },
  {
   "cell_type": "markdown",
   "id": "fitting-burden",
   "metadata": {},
   "source": [
    "<hr>\n",
    "\n",
    "### Question 1\n",
    "\n",
    "Which of these operators is not a comparison / logical operator?\n",
    "\n",
    " 1. `!=`\n",
    " 2. `>`\n",
    " 3. `=`\n",
    " 4. `==`"
   ]
  },
  {
   "cell_type": "code",
   "execution_count": null,
   "id": "virgin-garlic",
   "metadata": {},
   "outputs": [],
   "source": [
    "questions[1].show()"
   ]
  },
  {
   "cell_type": "markdown",
   "id": "automotive-chapter",
   "metadata": {},
   "source": [
    "<hr>\n",
    "\n",
    "### Question 2\n",
    "\n",
    "What is **true** about the following code segment:\n",
    "\n",
    "```python\n",
    "if x == 5:\n",
    "    print('Is 5')\n",
    "    print('Is Still 5')\n",
    "    print('Third 5')\n",
    "```\n",
    "\n",
    "1. Depending on the value of `x`, either all three of the print statements will execute or none of them\n",
    "2. The string `'Is 5'` will always print out regardless of the value for `x`\n",
    "3. The string `'Is 5'` will never print out regardless of the value for `x`\n",
    "4. Only two of the three print statements will print out if the value of `x` is less than zero"
   ]
  },
  {
   "cell_type": "code",
   "execution_count": null,
   "id": "bottom-manhattan",
   "metadata": {},
   "outputs": [],
   "source": [
    "questions[2].show()"
   ]
  },
  {
   "cell_type": "markdown",
   "id": "efficient-scope",
   "metadata": {},
   "source": [
    "<hr>\n",
    "\n",
    "### Question 3\n",
    "\n",
    "When you have multiple lines in an `if` block, how do you indicate the end of the `if` block?\n",
    "\n",
    "1. You use a curly brace `}` after the last line of the if block\n",
    "2. You omit the semicolon `;` on the last line of the `if` block\n",
    "3. You de-indent the next line past the `if` block to the same level of indent as the original `if` statement\n",
    "4. You put the colon `:` character on a line by itself to indicate we are done with the `if` block"
   ]
  },
  {
   "cell_type": "code",
   "execution_count": null,
   "id": "continuing-kentucky",
   "metadata": {},
   "outputs": [],
   "source": [
    "questions[3].show()"
   ]
  },
  {
   "cell_type": "markdown",
   "id": "behavioral-characteristic",
   "metadata": {},
   "source": [
    "<hr>\n",
    "\n",
    "### Question 4\n",
    "\n",
    "The following code looks perfect but Python gives you an `'Indentation Error'` on the second `print` function:\n",
    "\n",
    "```python\n",
    "if x == 6:\n",
    "    print('Is 6')\n",
    "    print('Is Still 6')\n",
    "    print('Third 6')\n",
    "```\n",
    "\n",
    "What is the most likely reason?\n",
    "\n",
    "1. In order to make humans feel inadequate, Python randomly emits `'Indentation Errors'` on perfectly good code — after about an hour the error will just go away without any changes to your program\n",
    "2. You have mixed tabs and spaces in the file\n",
    "3. Python thinks `'Still'` is a mis-spelled word in the string\n",
    "4. Python has reached its limit on the largest Python program that can be run"
   ]
  },
  {
   "cell_type": "code",
   "execution_count": null,
   "id": "genuine-portsmouth",
   "metadata": {},
   "outputs": [],
   "source": [
    "questions[4].show()"
   ]
  },
  {
   "cell_type": "markdown",
   "id": "solar-barrel",
   "metadata": {},
   "source": [
    "<hr>\n",
    "\n",
    "### Question 5\n",
    "\n",
    "What is the Python reserved word that we use in two-way `if` tests to indicate the block of code that is to be executed if the logical test is false?\n",
    "\n",
    "1. `else`\n",
    "2. `except`\n",
    "3. `iterate`\n",
    "4. `break`"
   ]
  },
  {
   "cell_type": "code",
   "execution_count": null,
   "id": "technical-partnership",
   "metadata": {},
   "outputs": [],
   "source": [
    "questions[5].show()"
   ]
  },
  {
   "cell_type": "markdown",
   "id": "pressing-leeds",
   "metadata": {},
   "source": [
    "<hr>\n",
    "\n",
    "### Question 6\n",
    "\n",
    "What will the following code print out?\n",
    "\n",
    "```python\n",
    "x = 0\n",
    "if x < 2:\n",
    "    print('Small')\n",
    "elif x < 10:\n",
    "    print('Medium')\n",
    "else:\n",
    "    print('Large')\n",
    "print('All done')\n",
    "```\n",
    "\n",
    "1. `Large`<br>\n",
    "   `All done`\n",
    "2. `All done`\n",
    "3. `Small`<br>\n",
    "   `Medium`<br>\n",
    "   `Large`<br>\n",
    "   `All done`\n",
    "4. `Small`<br>\n",
    "   `All done`"
   ]
  },
  {
   "cell_type": "code",
   "execution_count": null,
   "id": "instant-pride",
   "metadata": {},
   "outputs": [],
   "source": [
    "questions[6].show()"
   ]
  },
  {
   "cell_type": "markdown",
   "id": "introductory-luxury",
   "metadata": {},
   "source": [
    "<hr>\n",
    "\n",
    "### Question 7\n",
    "\n",
    "For the following code:\n",
    "\n",
    "```python\n",
    "if x < 2:\n",
    "    print('Below 2')\n",
    "elif x >= 2:\n",
    "    print('Two or more')\n",
    "else:\n",
    "    print('Something else')\n",
    "```\n",
    "What value of `x` will cause `'Something else'` to print out?\n",
    "\n",
    "1. This code will never print `'Something else'` regardless of the value for `x`\n",
    "2. `x = -22`\n",
    "3. `x = 2.0`\n",
    "4. `x = -2.0`"
   ]
  },
  {
   "cell_type": "code",
   "execution_count": null,
   "id": "legislative-switzerland",
   "metadata": {},
   "outputs": [],
   "source": [
    "questions[7].show()"
   ]
  },
  {
   "cell_type": "markdown",
   "id": "ruled-clerk",
   "metadata": {},
   "source": [
    "<hr>\n",
    "\n",
    "### Question 8\n",
    "\n",
    "In the following code, which will be the last successfully executed line?\n",
    "\n",
    "```python\n",
    "(1)  astr = 'Hello Bob'\n",
    "(2)  istr = int(astr)\n",
    "(3)  print('First', istr)\n",
    "(4)  astr = '123'\n",
    "(5)  istr = int(astr)\n",
    "(6)  print('Second', istr)\n",
    "```\n",
    "\n",
    "1. `1`\n",
    "2. `2`\n",
    "3. `6`\n",
    "4. `5`"
   ]
  },
  {
   "cell_type": "code",
   "execution_count": null,
   "id": "atlantic-dallas",
   "metadata": {},
   "outputs": [],
   "source": [
    "questions[8].show()"
   ]
  },
  {
   "cell_type": "markdown",
   "id": "textile-funeral",
   "metadata": {},
   "source": [
    "<hr>\n",
    "\n",
    "### Question 9\n",
    "\n",
    "For the following code:\n",
    "\n",
    "```python\n",
    "astr = 'Hello Bob'\n",
    "istr = 0\n",
    "try:\n",
    "    istr = int(astr)\n",
    "except:\n",
    "    istr = -1\n",
    "```\n",
    "\n",
    "What will the value be for `istr` after this code executes?\n",
    "\n",
    "1. `0`\n",
    "2. `-1`\n",
    "3. The `istr` variable will not have a value\n",
    "4. It will be the `'Not a number'` value (i.e. `NaN`)"
   ]
  },
  {
   "cell_type": "code",
   "execution_count": null,
   "id": "discrete-halloween",
   "metadata": {},
   "outputs": [],
   "source": [
    "questions[9].show()"
   ]
  },
  {
   "cell_type": "markdown",
   "id": "toxic-somerset",
   "metadata": {},
   "source": [
    "<hr>\n",
    "\n",
    "### Submit"
   ]
  },
  {
   "cell_type": "code",
   "execution_count": null,
   "id": "distant-thunder",
   "metadata": {},
   "outputs": [],
   "source": [
    "submitter.submit(questions)"
   ]
  },
  {
   "cell_type": "code",
   "execution_count": null,
   "id": "outdoor-stability",
   "metadata": {},
   "outputs": [],
   "source": []
  }
 ],
 "metadata": {
  "kernelspec": {
   "display_name": "Python 3",
   "language": "python",
   "name": "python3"
  },
  "language_info": {
   "codemirror_mode": {
    "name": "ipython",
    "version": 3
   },
   "file_extension": ".py",
   "mimetype": "text/x-python",
   "name": "python",
   "nbconvert_exporter": "python",
   "pygments_lexer": "ipython3",
   "version": "3.8.5"
  }
 },
 "nbformat": 4,
 "nbformat_minor": 5
}
