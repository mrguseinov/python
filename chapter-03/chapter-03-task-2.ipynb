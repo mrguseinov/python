{
 "cells": [
  {
   "cell_type": "code",
   "execution_count": 1,
   "id": "scientific-surgeon",
   "metadata": {},
   "outputs": [],
   "source": [
    "# Do not modify the code in this cell.\n",
    "\n",
    "%reset -f\n",
    "\n",
    "from sys import path\n",
    "path.append('../')\n",
    "\n",
    "from helpers.submitters import TaskSubmitter"
   ]
  },
  {
   "cell_type": "markdown",
   "id": "powered-norwegian",
   "metadata": {},
   "source": [
    "## Task 3.2: Compute Pay With Try / Except\n",
    "\n",
    "Rewrite the \"Task 2.2: Compute Pay\" program using `try` and `except` to handle non-numeric input by printing a message and exiting the program.\n",
    "\n",
    "---\n",
    "\n",
    "After running the cell three times with the following inputs, you should see the following output:\n",
    "\n",
    "`Enter hours: 35`<br>\n",
    "`Enter rate: 2.125`<br>\n",
    "`Gross pay: 74.38`\n",
    "\n",
    "`Enter hours: 20`<br>\n",
    "`Enter rate: nine`<br>\n",
    "`Error! Enter only numeric input.`\n",
    "\n",
    "`Enter hours: forty`<br>\n",
    "`Error! Enter only numeric input.`"
   ]
  },
  {
   "cell_type": "code",
   "execution_count": 2,
   "id": "precious-runner",
   "metadata": {},
   "outputs": [],
   "source": [
    "# Modify the code only in the \"YOUR CODE HERE\" block.\n",
    "\n",
    "\n",
    "def foo():\n",
    "\n",
    "    # ========== YOUR CODE HERE ==========\n",
    "    \n",
    "    \n",
    "    \n",
    "    # ====================================\n",
    "\n",
    "\n",
    "foo()"
   ]
  },
  {
   "cell_type": "markdown",
   "id": "packed-comparison",
   "metadata": {},
   "source": [
    "### Submit"
   ]
  },
  {
   "cell_type": "code",
   "execution_count": 3,
   "id": "accepted-factory",
   "metadata": {},
   "outputs": [
    {
     "data": {
      "text/html": [
       "<p style=\"margin-left: 5px; color: green; font-family: monospace\">You have passed the tests! :)</p>"
      ],
      "text/plain": [
       "<IPython.core.display.HTML object>"
      ]
     },
     "metadata": {},
     "output_type": "display_data"
    }
   ],
   "source": [
    "# Do not modify the code in this cell.\n",
    "\n",
    "with TaskSubmitter(\"03.2\", \"print\") as submitter:\n",
    "    submitter.submit(foo)"
   ]
  },
  {
   "cell_type": "code",
   "execution_count": null,
   "id": "sharing-musical",
   "metadata": {},
   "outputs": [],
   "source": []
  }
 ],
 "metadata": {
  "kernelspec": {
   "display_name": "Python 3",
   "language": "python",
   "name": "python3"
  },
  "language_info": {
   "codemirror_mode": {
    "name": "ipython",
    "version": 3
   },
   "file_extension": ".py",
   "mimetype": "text/x-python",
   "name": "python",
   "nbconvert_exporter": "python",
   "pygments_lexer": "ipython3",
   "version": "3.8.5"
  }
 },
 "nbformat": 4,
 "nbformat_minor": 5
}
