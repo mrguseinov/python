{
 "cells": [
  {
   "cell_type": "markdown",
   "id": "industrial-public",
   "metadata": {},
   "source": [
    "**DO NOT EDIT THE CODE IN THIS FILE**"
   ]
  },
  {
   "cell_type": "code",
   "execution_count": null,
   "id": "rapid-bubble",
   "metadata": {},
   "outputs": [],
   "source": [
    "%reset -f\n",
    "\n",
    "from sys import path\n",
    "path.append('../')\n",
    "\n",
    "from helpers.submitters import QuizSubmitter\n",
    "from helpers.widgets import MyRadioButtons\n",
    "\n",
    "questions = [MyRadioButtons() for i in range(10)]\n",
    "questions[2] = MyRadioButtons(5)\n",
    "questions[3] = MyRadioButtons(6)\n",
    "questions[4] = MyRadioButtons(5)\n",
    "\n",
    "submitter = QuizSubmitter(\"06\")"
   ]
  },
  {
   "cell_type": "markdown",
   "id": "funny-variety",
   "metadata": {},
   "source": [
    "<hr>\n",
    "\n",
    "### Question 0\n",
    "\n",
    "What does the following Python program print out?\n",
    "\n",
    "```python\n",
    "str1 = \"Hello\"\n",
    "str2 = 'there'\n",
    "bob = str1 + str2\n",
    "print(bob)\n",
    "```\n",
    "\n",
    "1. `Hellothere`\n",
    "2. `0`\n",
    "3. `Hello`<br>\n",
    "   `there`\n",
    "4. `Hello`"
   ]
  },
  {
   "cell_type": "code",
   "execution_count": null,
   "id": "italian-conversation",
   "metadata": {},
   "outputs": [],
   "source": [
    "questions[0].show()"
   ]
  },
  {
   "cell_type": "markdown",
   "id": "compact-halloween",
   "metadata": {},
   "source": [
    "<hr>\n",
    "\n",
    "### Question 1\n",
    "\n",
    "What does the following Python program print out?\n",
    "\n",
    "```python\n",
    "x = '40'\n",
    "y = int(x) + 2\n",
    "print(y)\n",
    "```\n",
    "\n",
    "1. `int402`\n",
    "2. `42`\n",
    "3. `402`\n",
    "4. `x2`"
   ]
  },
  {
   "cell_type": "code",
   "execution_count": null,
   "id": "negative-acrobat",
   "metadata": {},
   "outputs": [],
   "source": [
    "questions[1].show()"
   ]
  },
  {
   "cell_type": "markdown",
   "id": "graphic-crowd",
   "metadata": {},
   "source": [
    "<hr>\n",
    "\n",
    "### Question 2\n",
    "\n",
    "How would you use the index operator `[]` to print out the letter `q` from the following string?\n",
    "\n",
    "```python\n",
    "x = 'From marquard@uct.ac.za'\n",
    "```\n",
    "\n",
    "1. `print x[-1]`\n",
    "2. `print(x[7])`\n",
    "3. `print(x[q])`\n",
    "4. `print(x[9])`\n",
    "5. `print(x[8])`"
   ]
  },
  {
   "cell_type": "code",
   "execution_count": null,
   "id": "moving-treasurer",
   "metadata": {},
   "outputs": [],
   "source": [
    "questions[2].show()"
   ]
  },
  {
   "cell_type": "markdown",
   "id": "senior-silicon",
   "metadata": {},
   "source": [
    "<hr>\n",
    "\n",
    "### Question 3\n",
    "\n",
    "How would you use string slicing `[:]` to print out `'uct'` from the following string?\n",
    "\n",
    "```python\n",
    "x = 'From marquard@uct.ac.za'\n",
    "```\n",
    "\n",
    "1. `print(x[14:17])`\n",
    "2. `print(x[14:3])`\n",
    "3. `print(x[14/17])`\n",
    "4. `print(x[14+17])`\n",
    "5. `print(x[15:3])`\n",
    "6. `print(x[15:18])`"
   ]
  },
  {
   "cell_type": "code",
   "execution_count": null,
   "id": "congressional-chancellor",
   "metadata": {},
   "outputs": [],
   "source": [
    "questions[3].show()"
   ]
  },
  {
   "cell_type": "markdown",
   "id": "going-freeze",
   "metadata": {},
   "source": [
    "<hr>\n",
    "\n",
    "### Question 4\n",
    "\n",
    "What is the iteration variable in the following Python code?\n",
    "\n",
    "```python\n",
    "for letter in 'banana':\n",
    "    print(letter)\n",
    "```\n",
    "\n",
    "1. `in`\n",
    "2. `print`\n",
    "3. `letter`\n",
    "4. `for`\n",
    "5. `'banana'`"
   ]
  },
  {
   "cell_type": "code",
   "execution_count": null,
   "id": "atomic-baseline",
   "metadata": {},
   "outputs": [],
   "source": [
    "questions[4].show()"
   ]
  },
  {
   "cell_type": "markdown",
   "id": "expensive-bride",
   "metadata": {},
   "source": [
    "<hr>\n",
    "\n",
    "### Question 5\n",
    "\n",
    "What does the following Python code print out?\n",
    "\n",
    "```python\n",
    "print(len('banana') * 7)\n",
    "```\n",
    "\n",
    "1. `42`\n",
    "2. `banana7`\n",
    "3. `bananabananabananabananabananabananabanana`\n",
    "4. `0`"
   ]
  },
  {
   "cell_type": "code",
   "execution_count": null,
   "id": "characteristic-lambda",
   "metadata": {},
   "outputs": [],
   "source": [
    "questions[5].show()"
   ]
  },
  {
   "cell_type": "markdown",
   "id": "controlling-cigarette",
   "metadata": {},
   "source": [
    "<hr>\n",
    "\n",
    "### Question 6\n",
    "\n",
    "How would you print out the following variable in all upper case in Python?\n",
    "\n",
    "```python\n",
    "greet = 'Hello Bob'\n",
    "```\n",
    "\n",
    "1. ```c\n",
    "   int i = 0;\n",
    "   char c;\n",
    "   while (greet[i])\n",
    "   {\n",
    "       c = greet[i];\n",
    "       putchar(toupper(c));\n",
    "       i++;\n",
    "   }\n",
    "   ```\n",
    "2. ```c\n",
    "   puts(greet.ucase);\n",
    "   ```\n",
    "3. ```python\n",
    "   print(upper(greet))\n",
    "   ```\n",
    "4. ```python\n",
    "   print(greet.upper())\n",
    "   ```"
   ]
  },
  {
   "cell_type": "code",
   "execution_count": null,
   "id": "injured-premises",
   "metadata": {},
   "outputs": [],
   "source": [
    "questions[6].show()"
   ]
  },
  {
   "cell_type": "markdown",
   "id": "pharmaceutical-slovenia",
   "metadata": {},
   "source": [
    "<hr>\n",
    "\n",
    "### Question 7\n",
    "\n",
    "Which of the following is not a valid string method in Python?\n",
    "\n",
    "1. `shout()`\n",
    "2. `split()`\n",
    "3. `join()`\n",
    "4. `startswith()`"
   ]
  },
  {
   "cell_type": "code",
   "execution_count": null,
   "id": "protected-philosophy",
   "metadata": {},
   "outputs": [],
   "source": [
    "questions[7].show()"
   ]
  },
  {
   "cell_type": "markdown",
   "id": "proud-creature",
   "metadata": {},
   "source": [
    "<hr>\n",
    "\n",
    "### Question 8\n",
    "\n",
    "What will the following Python code print out?\n",
    "\n",
    "```python\n",
    "data = 'From stephen.marquard@uct.ac.za Sat Jan  5 09:14:16 2008'\n",
    "pos = data.find('.')\n",
    "print(data[pos : pos + 3])\n",
    "```\n",
    "\n",
    "1. `Sat`\n",
    "2. `.ma`\n",
    "3. `uct`\n",
    "4. `mar`"
   ]
  },
  {
   "cell_type": "code",
   "execution_count": null,
   "id": "married-fields",
   "metadata": {},
   "outputs": [],
   "source": [
    "questions[8].show()"
   ]
  },
  {
   "cell_type": "markdown",
   "id": "unable-mediterranean",
   "metadata": {},
   "source": [
    "<hr>\n",
    "\n",
    "### Question 9\n",
    "\n",
    "Which of the following string methods removes whitespace from both the beginning and end of a string?\n",
    "\n",
    "1. `strip()`\n",
    "2. `strtrunc()`\n",
    "3. `split()`\n",
    "4. `wsrem()`"
   ]
  },
  {
   "cell_type": "code",
   "execution_count": null,
   "id": "central-crisis",
   "metadata": {},
   "outputs": [],
   "source": [
    "questions[9].show()"
   ]
  },
  {
   "cell_type": "markdown",
   "id": "intellectual-validity",
   "metadata": {},
   "source": [
    "<hr>\n",
    "\n",
    "### Submit"
   ]
  },
  {
   "cell_type": "code",
   "execution_count": null,
   "id": "revised-relevance",
   "metadata": {},
   "outputs": [],
   "source": [
    "submitter.submit(questions)"
   ]
  },
  {
   "cell_type": "code",
   "execution_count": null,
   "id": "first-roulette",
   "metadata": {},
   "outputs": [],
   "source": []
  }
 ],
 "metadata": {
  "kernelspec": {
   "display_name": "Python 3",
   "language": "python",
   "name": "python3"
  },
  "language_info": {
   "codemirror_mode": {
    "name": "ipython",
    "version": 3
   },
   "file_extension": ".py",
   "mimetype": "text/x-python",
   "name": "python",
   "nbconvert_exporter": "python",
   "pygments_lexer": "ipython3",
   "version": "3.8.5"
  }
 },
 "nbformat": 4,
 "nbformat_minor": 5
}
