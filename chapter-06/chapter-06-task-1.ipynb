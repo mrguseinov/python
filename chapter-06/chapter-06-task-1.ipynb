{
 "cells": [
  {
   "cell_type": "code",
   "execution_count": null,
   "id": "expensive-screen",
   "metadata": {},
   "outputs": [],
   "source": [
    "# Do not modify the code in this cell.\n",
    "\n",
    "%reset -f\n",
    "\n",
    "from sys import path\n",
    "path.append('../')\n",
    "\n",
    "from helpers.submitters import TaskSubmitter"
   ]
  },
  {
   "cell_type": "markdown",
   "id": "strong-management",
   "metadata": {},
   "source": [
    "## Task 6.1: Pring Letters In Reverse Order\n",
    "\n",
    "Write a `while` loop that starts at the last character in the string and works its way backwards to the first character in the string, printing each letter on a separate line.\n",
    "\n",
    "---\n",
    "\n",
    "After running the cell with `I like coding!`, you should see the following output:\n",
    "\n",
    "`Enter one line of text: I like coding!`<br>\n",
    "`!`<br>\n",
    "`g`<br>\n",
    "`n`<br>\n",
    "`i`<br>\n",
    "`d`<br>\n",
    "`o`<br>\n",
    "`c`<br>\n",
    "` `<br>\n",
    "`e`<br>\n",
    "`k`<br>\n",
    "`i`<br>\n",
    "`l`<br>\n",
    "` `<br>\n",
    "`I`"
   ]
  },
  {
   "cell_type": "code",
   "execution_count": null,
   "id": "covered-sample",
   "metadata": {},
   "outputs": [],
   "source": [
    "# Modify the code only in the \"YOUR CODE HERE\" block.\n",
    "\n",
    "\n",
    "def foo():\n",
    "    string = input(\"Enter one line of text:\")\n",
    "\n",
    "    # ========== YOUR CODE HERE ==========\n",
    "    \n",
    "    \n",
    "    \n",
    "    # ====================================\n",
    "\n",
    "\n",
    "foo()"
   ]
  },
  {
   "cell_type": "markdown",
   "id": "activated-major",
   "metadata": {},
   "source": [
    "### Submit"
   ]
  },
  {
   "cell_type": "code",
   "execution_count": null,
   "id": "secret-direction",
   "metadata": {},
   "outputs": [],
   "source": [
    "# Do not modify the code in this cell.\n",
    "\n",
    "with TaskSubmitter(\"06.1\", \"print\") as submitter:\n",
    "    submitter.submit(foo)"
   ]
  },
  {
   "cell_type": "code",
   "execution_count": null,
   "id": "circular-general",
   "metadata": {},
   "outputs": [],
   "source": []
  }
 ],
 "metadata": {
  "kernelspec": {
   "display_name": "Python 3",
   "language": "python",
   "name": "python3"
  },
  "language_info": {
   "codemirror_mode": {
    "name": "ipython",
    "version": 3
   },
   "file_extension": ".py",
   "mimetype": "text/x-python",
   "name": "python",
   "nbconvert_exporter": "python",
   "pygments_lexer": "ipython3",
   "version": "3.8.5"
  }
 },
 "nbformat": 4,
 "nbformat_minor": 5
}
