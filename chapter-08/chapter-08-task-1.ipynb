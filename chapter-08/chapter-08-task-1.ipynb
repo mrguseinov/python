{
 "cells": [
  {
   "cell_type": "code",
   "execution_count": null,
   "id": "foreign-result",
   "metadata": {},
   "outputs": [],
   "source": [
    "# Do not modify the code in this cell.\n",
    "\n",
    "%reset -f\n",
    "\n",
    "from sys import path\n",
    "path.append('../')\n",
    "\n",
    "from helpers.submitters import TaskSubmitter"
   ]
  },
  {
   "cell_type": "markdown",
   "id": "miniature-drain",
   "metadata": {},
   "source": [
    "## Task 8.1: Find Unique Words And Sort Them\n",
    "\n",
    "Read the file line by line. For each line, split the line into a list of words using the `split()` method. For each word, check to see if the word is already in the list and if not append it to that list.\n",
    "\n",
    "Sort the resulting words in alphabetical order and return them.\n",
    "\n",
    "---\n",
    "\n",
    "After running the cell with `romeo.txt`, you should see the following output:\n",
    "\n",
    "```\n",
    "['Arise', 'But', 'It', 'Juliet', 'Who', 'already', 'and', 'breaks', 'east',\n",
    " 'envious', 'fair', 'grief', 'is', 'kill', 'light', 'moon', 'pale', 'sick',\n",
    " 'soft', 'sun', 'the', 'through', 'what', 'window', 'with', 'yonder']\n",
    "```"
   ]
  },
  {
   "cell_type": "code",
   "execution_count": null,
   "id": "covered-journalist",
   "metadata": {},
   "outputs": [],
   "source": [
    "# Modify the code only in the \"YOUR CODE HERE\" block.\n",
    "\n",
    "def foo(file_name):\n",
    "    \n",
    "    # ========== YOUR CODE HERE ==========\n",
    "    \n",
    "    \n",
    "    \n",
    "    # ====================================\n",
    "    \n",
    "print(foo(\"romeo.txt\"))"
   ]
  },
  {
   "cell_type": "markdown",
   "id": "lesser-worse",
   "metadata": {},
   "source": [
    "### Submit"
   ]
  },
  {
   "cell_type": "code",
   "execution_count": null,
   "id": "southeast-annual",
   "metadata": {},
   "outputs": [],
   "source": [
    "# Do not modify the code in this cell.\n",
    "\n",
    "with TaskSubmitter(\"08.1\", \"return\") as submitter:\n",
    "    submitter.submit(foo)"
   ]
  },
  {
   "cell_type": "code",
   "execution_count": null,
   "id": "shaped-inspection",
   "metadata": {},
   "outputs": [],
   "source": []
  }
 ],
 "metadata": {
  "kernelspec": {
   "display_name": "Python 3",
   "language": "python",
   "name": "python3"
  },
  "language_info": {
   "codemirror_mode": {
    "name": "ipython",
    "version": 3
   },
   "file_extension": ".py",
   "mimetype": "text/x-python",
   "name": "python",
   "nbconvert_exporter": "python",
   "pygments_lexer": "ipython3",
   "version": "3.8.5"
  }
 },
 "nbformat": 4,
 "nbformat_minor": 5
}
