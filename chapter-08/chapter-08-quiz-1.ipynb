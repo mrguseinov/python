{
 "cells": [
  {
   "cell_type": "markdown",
   "id": "indonesian-telling",
   "metadata": {},
   "source": [
    "**DO NOT EDIT THE CODE IN THIS FILE**"
   ]
  },
  {
   "cell_type": "code",
   "execution_count": null,
   "id": "western-water",
   "metadata": {},
   "outputs": [],
   "source": [
    "%reset -f\n",
    "\n",
    "from sys import path\n",
    "path.append('../')\n",
    "\n",
    "from helpers.submitters import QuizSubmitter\n",
    "from helpers.widgets import MyRadioButtons\n",
    "\n",
    "questions = [MyRadioButtons() for i in range(10)]\n",
    "questions[3] = MyRadioButtons(6)\n",
    "questions[4] = MyRadioButtons(6)\n",
    "questions[5] = MyRadioButtons(5)\n",
    "questions[6] = MyRadioButtons(6)\n",
    "questions[7] = MyRadioButtons(5)\n",
    "questions[8] = MyRadioButtons(6)\n",
    "\n",
    "submitter = QuizSubmitter(\"08\")"
   ]
  },
  {
   "cell_type": "markdown",
   "id": "rural-seattle",
   "metadata": {},
   "source": [
    "<hr>\n",
    "\n",
    "### Question 0\n",
    "\n",
    "How are \"collection\" variables different from \"normal\" variables?\n",
    "\n",
    "1. Collection variables can only store a single value\n",
    "2. Collection variables pull multiple network documents together\n",
    "3. Collection variables can store multiple values in a single variable\n",
    "4. Collection variables merge streams of output into a single stream"
   ]
  },
  {
   "cell_type": "code",
   "execution_count": null,
   "id": "pacific-lease",
   "metadata": {},
   "outputs": [],
   "source": [
    "questions[0].show()"
   ]
  },
  {
   "cell_type": "markdown",
   "id": "intended-gender",
   "metadata": {},
   "source": [
    "<hr>\n",
    "\n",
    "### Question 1\n",
    "\n",
    "What are the Python keywords used to construct a loop to iterate through a list?\n",
    "\n",
    "1. `def / return`\n",
    "2. `try / except`\n",
    "3. `foreach / in`\n",
    "4. `for / in`"
   ]
  },
  {
   "cell_type": "code",
   "execution_count": null,
   "id": "active-vampire",
   "metadata": {},
   "outputs": [],
   "source": [
    "questions[1].show()"
   ]
  },
  {
   "cell_type": "markdown",
   "id": "collected-celebration",
   "metadata": {},
   "source": [
    "<hr>\n",
    "\n",
    "### Question 2\n",
    "\n",
    "For the following list, how would you print out `'Sally'`?\n",
    "\n",
    "```python\n",
    "friends = ['Joseph', 'Glenn', 'Sally']\n",
    "```\n",
    "\n",
    "1. `print(friends[2:1])`\n",
    "2. `print friends[3]`\n",
    "3. `print(friends[2])`\n",
    "4. `print(friends['Sally'])`"
   ]
  },
  {
   "cell_type": "code",
   "execution_count": null,
   "id": "interpreted-transcript",
   "metadata": {},
   "outputs": [],
   "source": [
    "questions[2].show()"
   ]
  },
  {
   "cell_type": "markdown",
   "id": "asian-catch",
   "metadata": {},
   "source": [
    "<hr>\n",
    "\n",
    "### Question 3\n",
    "\n",
    "What would the following Python code print out?\n",
    "\n",
    "```python\n",
    "fruit = 'Banana'\n",
    "fruit[0] = 'b'\n",
    "print(fruit)\n",
    "```\n",
    "\n",
    "1. `[0]`\n",
    "2. Nothing would print - the program fails with a traceback\n",
    "3. `B`\n",
    "4. `b`\n",
    "5. `Banana`\n",
    "6. `banana`"
   ]
  },
  {
   "cell_type": "code",
   "execution_count": null,
   "id": "inappropriate-citation",
   "metadata": {},
   "outputs": [],
   "source": [
    "questions[3].show()"
   ]
  },
  {
   "cell_type": "markdown",
   "id": "joint-junior",
   "metadata": {},
   "source": [
    "<hr>\n",
    "\n",
    "### Question 4\n",
    "\n",
    "Which of the following Python statements would print out the length of a list stored in the variable `data`?\n",
    "\n",
    "1. `print(data.length())`\n",
    "2. `print(strlen(data))`\n",
    "3. `print(len(data))`\n",
    "4. `print(data.Len)`\n",
    "5. `print(length(data))`\n",
    "6. `print(data.length)`"
   ]
  },
  {
   "cell_type": "code",
   "execution_count": null,
   "id": "altered-anatomy",
   "metadata": {},
   "outputs": [],
   "source": [
    "questions[4].show()"
   ]
  },
  {
   "cell_type": "markdown",
   "id": "posted-template",
   "metadata": {},
   "source": [
    "<hr>\n",
    "\n",
    "### Question 5\n",
    "\n",
    "What type of data is produced when you call the `range()` function in Python 3?\n",
    "\n",
    "```python\n",
    "x = range(5)\n",
    "```\n",
    "\n",
    "1. A list of numbers\n",
    "2. A list of characters\n",
    "3. A list of words\n",
    "4. An immutable sequence of numbers\n",
    "5. There is no correct answer"
   ]
  },
  {
   "cell_type": "code",
   "execution_count": null,
   "id": "random-proceeding",
   "metadata": {},
   "outputs": [],
   "source": [
    "questions[5].show()"
   ]
  },
  {
   "cell_type": "markdown",
   "id": "recent-interference",
   "metadata": {},
   "source": [
    "<hr>\n",
    "\n",
    "### Question 6\n",
    "\n",
    "What does the following Python code print out?\n",
    "\n",
    "```python\n",
    "a = [1, 2, 3]\n",
    "b = [4, 5, 6]\n",
    "c = a + b\n",
    "print(len(c))\n",
    "```\n",
    "\n",
    "1. `21`\n",
    "2. `[4, 5, 6]`\n",
    "3. `15`\n",
    "4. `[1, 2, 3, 4, 5, 6]`\n",
    "5. `[1, 2, 3]`\n",
    "6. `6`"
   ]
  },
  {
   "cell_type": "code",
   "execution_count": null,
   "id": "decimal-zambia",
   "metadata": {},
   "outputs": [],
   "source": [
    "questions[6].show()"
   ]
  },
  {
   "cell_type": "markdown",
   "id": "assigned-standard",
   "metadata": {},
   "source": [
    "<hr>\n",
    "\n",
    "### Question 7\n",
    "\n",
    "Which of the following slicing operations will produce the list `[12, 3]`?\n",
    "\n",
    "```python\n",
    "t = [9, 41, 12, 3, 74, 15]\n",
    "```\n",
    "\n",
    "1. `t[1:3]`\n",
    "2. `t[2:2]`\n",
    "3. `t[2:4]`\n",
    "4. `t[12:3]`\n",
    "5. `t[:]`"
   ]
  },
  {
   "cell_type": "code",
   "execution_count": null,
   "id": "mexican-turner",
   "metadata": {},
   "outputs": [],
   "source": [
    "questions[7].show()"
   ]
  },
  {
   "cell_type": "markdown",
   "id": "healthy-medium",
   "metadata": {},
   "source": [
    "<hr>\n",
    "\n",
    "### Question 8\n",
    "\n",
    "What list method adds a new item to the end of an existing list?\n",
    "\n",
    "1. `index()`\n",
    "2. `append()`\n",
    "3. `forward()`\n",
    "4. `add()`\n",
    "5. `pop()`\n",
    "6. `push()`"
   ]
  },
  {
   "cell_type": "code",
   "execution_count": null,
   "id": "available-orientation",
   "metadata": {},
   "outputs": [],
   "source": [
    "questions[8].show()"
   ]
  },
  {
   "cell_type": "markdown",
   "id": "above-attitude",
   "metadata": {},
   "source": [
    "<hr>\n",
    "\n",
    "### Question 9\n",
    "\n",
    "What will the following Python code print out?\n",
    "\n",
    "```python\n",
    "friends = ['Joseph', 'Glenn', 'Sally']\n",
    "friends.sort()\n",
    "print(friends[0])\n",
    "```\n",
    "\n",
    "1. `Sally`\n",
    "2. `Joseph`\n",
    "3. `Glenn`\n",
    "4. `friends`"
   ]
  },
  {
   "cell_type": "code",
   "execution_count": null,
   "id": "collect-functionality",
   "metadata": {},
   "outputs": [],
   "source": [
    "questions[9].show()"
   ]
  },
  {
   "cell_type": "markdown",
   "id": "given-building",
   "metadata": {},
   "source": [
    "<hr>\n",
    "\n",
    "### Submit"
   ]
  },
  {
   "cell_type": "code",
   "execution_count": null,
   "id": "under-morris",
   "metadata": {},
   "outputs": [],
   "source": [
    "submitter.submit(questions)"
   ]
  },
  {
   "cell_type": "code",
   "execution_count": null,
   "id": "caring-potential",
   "metadata": {},
   "outputs": [],
   "source": []
  }
 ],
 "metadata": {
  "kernelspec": {
   "display_name": "Python 3",
   "language": "python",
   "name": "python3"
  },
  "language_info": {
   "codemirror_mode": {
    "name": "ipython",
    "version": 3
   },
   "file_extension": ".py",
   "mimetype": "text/x-python",
   "name": "python",
   "nbconvert_exporter": "python",
   "pygments_lexer": "ipython3",
   "version": "3.8.5"
  }
 },
 "nbformat": 4,
 "nbformat_minor": 5
}
