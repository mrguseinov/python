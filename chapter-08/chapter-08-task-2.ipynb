{
 "cells": [
  {
   "cell_type": "code",
   "execution_count": null,
   "id": "packed-lesbian",
   "metadata": {},
   "outputs": [],
   "source": [
    "# Do not modify the code in this cell.\n",
    "\n",
    "%reset -f\n",
    "\n",
    "from sys import path\n",
    "path.append('../')\n",
    "\n",
    "from helpers.submitters import TaskSubmitter"
   ]
  },
  {
   "cell_type": "markdown",
   "id": "ahead-palace",
   "metadata": {},
   "source": [
    "## Task 8.2: Print And Count Senders\n",
    "\n",
    "Open the `emails.txt` file and look for lines that start with `'From '` like the following:\n",
    "\n",
    "```python\n",
    "'From stephen.marquard@uct.ac.za Sat Jan  5 09:14:16 2008'\n",
    "```\n",
    "\n",
    "Parse them using `split()` and print out the second word in the line (i.e. the entire address of the person who sent the message).\n",
    "\n",
    "At the end of the output, print the count.\n",
    "\n",
    "Use string interpolation to properly format the output. You may find the [PyFormat](https://pyformat.info/) website helpful.\n",
    "\n",
    "*Hint: Make sure not to include the lines that start with `'From:'`.*\n",
    "\n",
    "---\n",
    "\n",
    "After running the cell, you should see the following output:\n",
    "\n",
    "`---------------------------------`<br>\n",
    "`|  stephen.marquard@uct.ac.za   |`<br>\n",
    "`|   louis@media.berkeley.edu    |`<br>\n",
    "`|        zqian@umich.edu        |`<br>\n",
    "`|       rjlowe@iupui.edu        |`<br>\n",
    "`|        zqian@umich.edu        |`<br>\n",
    "`|       rjlowe@iupui.edu        |`<br>\n",
    "`|        cwen@iupui.edu         |`<br>\n",
    "`|        cwen@iupui.edu         |`<br>\n",
    "`|       gsilver@umich.edu       |`<br>\n",
    "`|       gsilver@umich.edu       |`<br>\n",
    "`|        zqian@umich.edu        |`<br>\n",
    "`|       gsilver@umich.edu       |`<br>\n",
    "`|      wagnermr@iupui.edu       |`<br>\n",
    "`|        zqian@umich.edu        |`<br>\n",
    "`|   antranig@caret.cam.ac.uk    |`<br>\n",
    "`| gopal.ramasammycook@gmail.com |`<br>\n",
    "`|    david.horwitz@uct.ac.za    |`<br>\n",
    "`|    david.horwitz@uct.ac.za    |`<br>\n",
    "`|    david.horwitz@uct.ac.za    |`<br>\n",
    "`|    david.horwitz@uct.ac.za    |`<br>\n",
    "`|  stephen.marquard@uct.ac.za   |`<br>\n",
    "`|   louis@media.berkeley.edu    |`<br>\n",
    "`|   louis@media.berkeley.edu    |`<br>\n",
    "`|    ray@media.berkeley.edu     |`<br>\n",
    "`|        cwen@iupui.edu         |`<br>\n",
    "`|        cwen@iupui.edu         |`<br>\n",
    "`|        cwen@iupui.edu         |`<br>\n",
    "`---------------------------------`<br>\n",
    "\n",
    "`There are 27 lines starting with 'From '.`<br>"
   ]
  },
  {
   "cell_type": "code",
   "execution_count": null,
   "id": "comparative-concept",
   "metadata": {},
   "outputs": [],
   "source": [
    "# Modify the code only in the \"YOUR CODE HERE\" block.\n",
    "\n",
    "\n",
    "def foo():\n",
    "\n",
    "    # ========== YOUR CODE HERE ==========\n",
    "    \n",
    "    \n",
    "    \n",
    "    # ====================================\n",
    "\n",
    "\n",
    "foo()"
   ]
  },
  {
   "cell_type": "markdown",
   "id": "relative-discipline",
   "metadata": {},
   "source": [
    "### Submit"
   ]
  },
  {
   "cell_type": "code",
   "execution_count": null,
   "id": "occupied-multiple",
   "metadata": {},
   "outputs": [],
   "source": [
    "# Do not modify the code in this cell.\n",
    "\n",
    "with TaskSubmitter(\"08.2\", \"print\") as submitter:\n",
    "    submitter.submit(foo)"
   ]
  },
  {
   "cell_type": "code",
   "execution_count": null,
   "id": "vital-demographic",
   "metadata": {},
   "outputs": [],
   "source": []
  }
 ],
 "metadata": {
  "kernelspec": {
   "display_name": "Python 3",
   "language": "python",
   "name": "python3"
  },
  "language_info": {
   "codemirror_mode": {
    "name": "ipython",
    "version": 3
   },
   "file_extension": ".py",
   "mimetype": "text/x-python",
   "name": "python",
   "nbconvert_exporter": "python",
   "pygments_lexer": "ipython3",
   "version": "3.8.5"
  }
 },
 "nbformat": 4,
 "nbformat_minor": 5
}
