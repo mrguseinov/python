{
 "cells": [
  {
   "cell_type": "code",
   "execution_count": null,
   "id": "several-vanilla",
   "metadata": {},
   "outputs": [],
   "source": [
    "# Do not modify the code in this cell.\n",
    "\n",
    "%reset -f\n",
    "\n",
    "from sys import path\n",
    "path.append('../')\n",
    "\n",
    "from helpers.submitters import TaskSubmitter"
   ]
  },
  {
   "cell_type": "markdown",
   "id": "integrated-shannon",
   "metadata": {},
   "source": [
    "## Task 7.2: Compute Average Spam Confidence\n",
    "\n",
    "Write a function that reads through the file, looking for lines of the form:\n",
    "\n",
    "```python\n",
    "'X-DSPAM-Confidence:    0.8475'\n",
    "```\n",
    "\n",
    "Count these lines, extract the floating point values from each of the lines and return the average of those values.\n",
    "\n",
    "Round the result to five decimal places.\n",
    "\n",
    "---\n",
    "\n",
    "After running the cell, you should see the following output: `0.75072`"
   ]
  },
  {
   "cell_type": "code",
   "execution_count": null,
   "id": "noted-shuttle",
   "metadata": {},
   "outputs": [],
   "source": [
    "# Modify the code only in the \"YOUR CODE HERE\" block.\n",
    "\n",
    "\n",
    "def foo(file_name, mask):\n",
    "    with open(file_name) as file:\n",
    "\n",
    "        # ========== YOUR CODE HERE ==========\n",
    "    \n",
    "    \n",
    "    \n",
    "    # ====================================\n",
    "\n",
    "    return average\n",
    "\n",
    "\n",
    "foo(\"emails.txt\", \"X-DSPAM-Confidence\")"
   ]
  },
  {
   "cell_type": "markdown",
   "id": "express-escape",
   "metadata": {},
   "source": [
    "### Submit"
   ]
  },
  {
   "cell_type": "code",
   "execution_count": null,
   "id": "seeing-disclosure",
   "metadata": {},
   "outputs": [],
   "source": [
    "# Do not modify the code in this cell.\n",
    "\n",
    "with TaskSubmitter(\"07.2\", \"return\") as submitter:\n",
    "    submitter.submit(foo)"
   ]
  },
  {
   "cell_type": "code",
   "execution_count": null,
   "id": "placed-sharing",
   "metadata": {},
   "outputs": [],
   "source": []
  }
 ],
 "metadata": {
  "kernelspec": {
   "display_name": "Python 3",
   "language": "python",
   "name": "python3"
  },
  "language_info": {
   "codemirror_mode": {
    "name": "ipython",
    "version": 3
   },
   "file_extension": ".py",
   "mimetype": "text/x-python",
   "name": "python",
   "nbconvert_exporter": "python",
   "pygments_lexer": "ipython3",
   "version": "3.8.5"
  }
 },
 "nbformat": 4,
 "nbformat_minor": 5
}
