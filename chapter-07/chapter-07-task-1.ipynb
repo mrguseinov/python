{
 "cells": [
  {
   "cell_type": "code",
   "execution_count": null,
   "id": "satellite-raising",
   "metadata": {},
   "outputs": [],
   "source": [
    "# Do not modify the code in this cell.\n",
    "\n",
    "%reset -f\n",
    "\n",
    "from sys import path\n",
    "path.append('../')\n",
    "\n",
    "from helpers.submitters import TaskSubmitter"
   ]
  },
  {
   "cell_type": "markdown",
   "id": "sticky-found",
   "metadata": {},
   "source": [
    "## Task 7.1: Print Text In Uppercase\n",
    "\n",
    "Prompt for a file name, open that file, read through it, and print the contents of the file in upper case.\n",
    "\n",
    "---\n",
    "\n",
    "After running the cell with `words.txt`, you should see the following output:\n",
    "\n",
    "`Enter file name: words.txt`<br>\n",
    "<br>\n",
    "`---------------------------------------------------`<br>\n",
    "`WRITING PROGRAMS OR PROGRAMMING IS A VERY CREATIVE`<br>\n",
    "`AND REWARDING ACTIVITY. YOU CAN WRITE PROGRAMS FOR`<br>\n",
    "`A VARIETY OF REASONS, RANGING FROM MAKING A LIVING`<br>\n",
    "`TO SOLVING A COMPLEX DATA MINING PROBLEM, TO HAVING`<br>\n",
    "`FUN, TO HELPING SOMEONE ELSE SOLVE A PROBLEM.`<br>\n",
    "\n",
    "`THIS BOOK ASSUMES THAT EVERYONE NEEDS TO KNOW HOW`<br>\n",
    "`TO PROGRAM AND THAT ONCE YOU KNOW HOW TO PROGRAM,`<br>\n",
    "`YOU WILL FIGURE OUT WHAT YOU WANT TO DO WITH YOUR`<br>\n",
    "`NEWFOUND SKILLS.`<br>\n",
    "`---------------------------------------------------`<br>"
   ]
  },
  {
   "cell_type": "code",
   "execution_count": null,
   "id": "inappropriate-longitude",
   "metadata": {},
   "outputs": [],
   "source": [
    "# Modify the code only in the \"YOUR CODE HERE\" block.\n",
    "\n",
    "\n",
    "def foo():\n",
    "    file_name = input(\"Enter file name:\")\n",
    "    file_handle = open(file_name)\n",
    "\n",
    "    # ========== YOUR CODE HERE ==========\n",
    "    \n",
    "    \n",
    "    \n",
    "    # ====================================\n",
    "\n",
    "    file_handle.close()\n",
    "\n",
    "\n",
    "foo()"
   ]
  },
  {
   "cell_type": "markdown",
   "id": "under-colorado",
   "metadata": {},
   "source": [
    "### Submit"
   ]
  },
  {
   "cell_type": "code",
   "execution_count": null,
   "id": "collective-raleigh",
   "metadata": {},
   "outputs": [],
   "source": [
    "# Do not modify the code in this cell.\n",
    "\n",
    "with TaskSubmitter(\"07.1\", \"print\") as submitter:\n",
    "    submitter.submit(foo)"
   ]
  },
  {
   "cell_type": "code",
   "execution_count": null,
   "id": "historical-status",
   "metadata": {},
   "outputs": [],
   "source": []
  }
 ],
 "metadata": {
  "kernelspec": {
   "display_name": "Python 3",
   "language": "python",
   "name": "python3"
  },
  "language_info": {
   "codemirror_mode": {
    "name": "ipython",
    "version": 3
   },
   "file_extension": ".py",
   "mimetype": "text/x-python",
   "name": "python",
   "nbconvert_exporter": "python",
   "pygments_lexer": "ipython3",
   "version": "3.8.5"
  }
 },
 "nbformat": 4,
 "nbformat_minor": 5
}
