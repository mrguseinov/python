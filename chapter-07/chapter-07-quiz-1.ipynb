{
 "cells": [
  {
   "cell_type": "markdown",
   "id": "pretty-short",
   "metadata": {},
   "source": [
    "**DO NOT EDIT THE CODE IN THIS FILE**"
   ]
  },
  {
   "cell_type": "code",
   "execution_count": null,
   "id": "muslim-possible",
   "metadata": {},
   "outputs": [],
   "source": [
    "%reset -f\n",
    "\n",
    "from sys import path\n",
    "path.append('../')\n",
    "\n",
    "from helpers.submitters import QuizSubmitter\n",
    "from helpers.widgets import MyRadioButtons\n",
    "\n",
    "questions = [MyRadioButtons() for i in range(10)]\n",
    "\n",
    "submitter = QuizSubmitter(\"07\")"
   ]
  },
  {
   "cell_type": "markdown",
   "id": "behavioral-panic",
   "metadata": {},
   "source": [
    "<hr>\n",
    "\n",
    "### Question 0\n",
    "\n",
    "Given the architecture and terminology we introduced in Chapter 1, where are files stored?\n",
    "\n",
    "1. Motherboard\n",
    "2. Main memory\n",
    "3. Machine language\n",
    "4. Secondary memory"
   ]
  },
  {
   "cell_type": "code",
   "execution_count": null,
   "id": "descending-break",
   "metadata": {},
   "outputs": [],
   "source": [
    "questions[0].show()"
   ]
  },
  {
   "cell_type": "markdown",
   "id": "ethical-madness",
   "metadata": {},
   "source": [
    "<hr>\n",
    "\n",
    "### Question 1\n",
    "\n",
    "What is stored in a \"file handle\" that is returned from a successful `open()` call?\n",
    "\n",
    "1. The handle is a connection to the file's data\n",
    "2. All the data from the file is read into memory and stored in the handle\n",
    "3. The handle contains the first 10 lines of a file\n",
    "4. The handle has a list of all of the files in a particular folder on the hard drive"
   ]
  },
  {
   "cell_type": "code",
   "execution_count": null,
   "id": "greenhouse-photography",
   "metadata": {},
   "outputs": [],
   "source": [
    "questions[1].show()"
   ]
  },
  {
   "cell_type": "markdown",
   "id": "excess-illness",
   "metadata": {},
   "source": [
    "<hr>\n",
    "\n",
    "### Question 2\n",
    "\n",
    "What do we use the second parameter of the `open()` call to indicate?\n",
    "\n",
    "1. What disk drive the file is stored on\n",
    "2. How large we expect the file to be\n",
    "3. The list of folders to be searched to find the file we want to open\n",
    "4. Whether we want to read data from the file and/or write/append data to the file"
   ]
  },
  {
   "cell_type": "code",
   "execution_count": null,
   "id": "hourly-brass",
   "metadata": {},
   "outputs": [],
   "source": [
    "questions[2].show()"
   ]
  },
  {
   "cell_type": "markdown",
   "id": "threaded-sensitivity",
   "metadata": {},
   "source": [
    "<hr>\n",
    "\n",
    "### Question 3\n",
    "\n",
    "What Python function would you use if you wanted to prompt the user for a file name to open?\n",
    "\n",
    "1. `input()`\n",
    "2. `read()`\n",
    "3. `file_input()`\n",
    "4. `cin`"
   ]
  },
  {
   "cell_type": "code",
   "execution_count": null,
   "id": "victorian-fiber",
   "metadata": {},
   "outputs": [],
   "source": [
    "questions[3].show()"
   ]
  },
  {
   "cell_type": "markdown",
   "id": "convinced-arlington",
   "metadata": {},
   "source": [
    "<hr>\n",
    "\n",
    "### Question 4\n",
    "\n",
    "What is the purpose of the newline character in text files?\n",
    "\n",
    "1. It enables random movement throughout the file\n",
    "2. It indicates the end of one line of text and the beginning of another line of text\n",
    "3. It allows us to open more than one files and read them in a synchronized manner\n",
    "4. It adds a new network connection to retrieve files from the network"
   ]
  },
  {
   "cell_type": "code",
   "execution_count": null,
   "id": "creative-resort",
   "metadata": {},
   "outputs": [],
   "source": [
    "questions[4].show()"
   ]
  },
  {
   "cell_type": "markdown",
   "id": "naughty-honey",
   "metadata": {},
   "source": [
    "<hr>\n",
    "\n",
    "### Question 5\n",
    "\n",
    "If we open a file as follows:\n",
    "\n",
    "```python\n",
    "xfile = open('mbox.txt')\n",
    "```\n",
    "\n",
    "What statement would we use to read the file one line at a time?\n",
    "\n",
    "1. ```c\n",
    "   while (<xfile>) {\n",
    "   ```\n",
    "2. ```c\n",
    "   while (getline(xfile, line)) {\n",
    "   ```\n",
    "3. ```c\n",
    "   READ(xfile, *, END=10) line\n",
    "   ```\n",
    "4. ```python\n",
    "   for line in xfile:\n",
    "   ```"
   ]
  },
  {
   "cell_type": "code",
   "execution_count": null,
   "id": "fitted-present",
   "metadata": {},
   "outputs": [],
   "source": [
    "questions[5].show()"
   ]
  },
  {
   "cell_type": "markdown",
   "id": "stable-horizon",
   "metadata": {},
   "source": [
    "<hr>\n",
    "\n",
    "### Question 6\n",
    "\n",
    "What is the purpose of the following Python code?\n",
    "\n",
    "```python\n",
    "fhand = open('mbox.txt')\n",
    "x = 0\n",
    "for line in fhand:\n",
    "    x = x + 1\n",
    "print(x)\n",
    "```\n",
    "\n",
    "1. Convert the lines in `mbox.txt` to lower case\n",
    "2. Remove the leading and trailing spaces from each line in `mbox.txt`\n",
    "3. Reverse the order of the lines in `mbox.txt`\n",
    "4. Count the lines in the file `mbox.txt`"
   ]
  },
  {
   "cell_type": "code",
   "execution_count": null,
   "id": "dying-dubai",
   "metadata": {},
   "outputs": [],
   "source": [
    "questions[6].show()"
   ]
  },
  {
   "cell_type": "markdown",
   "id": "square-durham",
   "metadata": {},
   "source": [
    "<hr>\n",
    "\n",
    "### Question 7\n",
    "\n",
    "If you write a Python program to read a text file and you see extra blank lines in the output as shown below that are not present in the file, what Python string function will likely solve the problem?\n",
    "\n",
    "```bash\n",
    "From: stephen.marquard@uct.ac.za\n",
    "\n",
    "From: louis@media.berkeley.edu\n",
    "\n",
    "From: zqian@umich.edu\n",
    "\n",
    "From: rjlowe@iupui.edu\n",
    "```\n",
    "\n",
    "1. `trim()`\n",
    "2. `split()`\n",
    "3. `ljust()`\n",
    "4. `rstrip()`"
   ]
  },
  {
   "cell_type": "code",
   "execution_count": null,
   "id": "american-incentive",
   "metadata": {},
   "outputs": [],
   "source": [
    "questions[7].show()"
   ]
  },
  {
   "cell_type": "markdown",
   "id": "current-martin",
   "metadata": {},
   "source": [
    "<hr>\n",
    "\n",
    "### Question 8\n",
    "\n",
    "The following code sequence fails with a traceback when the user enters a file that does not exist. How would you avoid the traceback and make it so you could print out your own error message when a bad file name was entered?\n",
    "\n",
    "```python\n",
    "fname = input('Enter the file name: ')\n",
    "fhand = open(fname)\n",
    "```\n",
    "\n",
    "1. `setjmp / longjmp`\n",
    "2. `try / except`\n",
    "3. `try / catch / finally`\n",
    "4. `signal handlers`"
   ]
  },
  {
   "cell_type": "code",
   "execution_count": null,
   "id": "certain-device",
   "metadata": {},
   "outputs": [],
   "source": [
    "questions[8].show()"
   ]
  },
  {
   "cell_type": "markdown",
   "id": "alpine-closer",
   "metadata": {},
   "source": [
    "<hr>\n",
    "\n",
    "### Question 9\n",
    "\n",
    "What does the following Python code do?\n",
    "\n",
    "```python\n",
    "fhand = open('emails.txt')\n",
    "inp = fhand.read()\n",
    "```\n",
    "\n",
    "1. Checks to see if the file exists and can be written\n",
    "2. Reads the entire file into the variable `inp` as a string\n",
    "3. Turns the text in the file into a graphic image like a PNG or JPG\n",
    "4. Prompts the user for a file name"
   ]
  },
  {
   "cell_type": "code",
   "execution_count": null,
   "id": "prerequisite-hygiene",
   "metadata": {},
   "outputs": [],
   "source": [
    "questions[9].show()"
   ]
  },
  {
   "cell_type": "markdown",
   "id": "upper-construction",
   "metadata": {},
   "source": [
    "<hr>\n",
    "\n",
    "### Submit"
   ]
  },
  {
   "cell_type": "code",
   "execution_count": null,
   "id": "reported-malaysia",
   "metadata": {},
   "outputs": [],
   "source": [
    "submitter.submit(questions)"
   ]
  },
  {
   "cell_type": "code",
   "execution_count": null,
   "id": "hollow-whole",
   "metadata": {},
   "outputs": [],
   "source": []
  }
 ],
 "metadata": {
  "kernelspec": {
   "display_name": "Python 3",
   "language": "python",
   "name": "python3"
  },
  "language_info": {
   "codemirror_mode": {
    "name": "ipython",
    "version": 3
   },
   "file_extension": ".py",
   "mimetype": "text/x-python",
   "name": "python",
   "nbconvert_exporter": "python",
   "pygments_lexer": "ipython3",
   "version": "3.8.5"
  }
 },
 "nbformat": 4,
 "nbformat_minor": 5
}
