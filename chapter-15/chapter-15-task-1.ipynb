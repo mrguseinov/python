{
 "cells": [
  {
   "cell_type": "code",
   "execution_count": null,
   "id": "lovely-alloy",
   "metadata": {},
   "outputs": [],
   "source": [
    "# Do not modify the code in this cell.\n",
    "\n",
    "%reset -f\n",
    "\n",
    "from sys import path\n",
    "path.append('../')\n",
    "\n",
    "from helpers.submitters import TaskSubmitter"
   ]
  },
  {
   "cell_type": "markdown",
   "id": "million-safety",
   "metadata": {},
   "source": [
    "## Task 15.1: Create, Insert And Select\n",
    "\n",
    "Create a table `ages` with two columns `name` and `age`:\n",
    "\n",
    "```sql\n",
    "CREATE TABLE ages (name VARCHAR(128), age INTEGER)\n",
    "```\n",
    "\n",
    "Insert the following rows:\n",
    "\n",
    "```sql\n",
    "INSERT INTO ages (name, age) VALUES ('Terry', 33);\n",
    "INSERT INTO ages (name, age) VALUES ('Ahmed', 17);\n",
    "INSERT INTO ages (name, age) VALUES ('Mira', 32);\n",
    "INSERT INTO ages (name, age) VALUES ('Katarina', 24);\n",
    "INSERT INTO ages (name, age) VALUES ('Cassieleigh', 25);\n",
    "INSERT INTO ages (name, age) VALUES ('Siobhan', 36);\n",
    "```\n",
    "\n",
    "Return the result of the following SQL statement:\n",
    "\n",
    "```sql\n",
    "SELECT hex(name || age) AS X FROM ages ORDER BY X LIMIT 1\n",
    "```\n",
    "\n",
    "---\n",
    "\n",
    "After running the cell, you should see the following output: `('41686D65643137',)`"
   ]
  },
  {
   "cell_type": "code",
   "execution_count": null,
   "id": "dominant-ceramic",
   "metadata": {},
   "outputs": [],
   "source": [
    "# Modify the code only in the \"YOUR CODE HERE\" block.\n",
    "\n",
    "import sqlite3\n",
    "\n",
    "\n",
    "def foo():\n",
    "    with sqlite3.connect(\":memory:\") as connection:\n",
    "        cursor = connection.cursor()\n",
    "        cursor.execute(\"CREATE TABLE ages (name VARCHAR(128), age INTEGER)\")\n",
    "\n",
    "        # ========== YOUR CODE HERE ==========\n",
    "        \n",
    "        \n",
    "        \n",
    "        # ====================================\n",
    "\n",
    "\n",
    "foo()"
   ]
  },
  {
   "cell_type": "markdown",
   "id": "smart-cleveland",
   "metadata": {},
   "source": [
    "### Submit"
   ]
  },
  {
   "cell_type": "code",
   "execution_count": null,
   "id": "geological-charge",
   "metadata": {},
   "outputs": [],
   "source": [
    "# Do not modify the code in this cell.\n",
    "\n",
    "with TaskSubmitter(\"15.1\", \"return\") as submitter:\n",
    "    submitter.submit(foo)"
   ]
  },
  {
   "cell_type": "code",
   "execution_count": null,
   "id": "offensive-teaching",
   "metadata": {},
   "outputs": [],
   "source": []
  }
 ],
 "metadata": {
  "kernelspec": {
   "display_name": "Python 3",
   "language": "python",
   "name": "python3"
  },
  "language_info": {
   "codemirror_mode": {
    "name": "ipython",
    "version": 3
   },
   "file_extension": ".py",
   "mimetype": "text/x-python",
   "name": "python",
   "nbconvert_exporter": "python",
   "pygments_lexer": "ipython3",
   "version": "3.8.5"
  }
 },
 "nbformat": 4,
 "nbformat_minor": 5
}
