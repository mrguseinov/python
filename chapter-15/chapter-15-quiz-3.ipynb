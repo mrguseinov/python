{
 "cells": [
  {
   "cell_type": "markdown",
   "id": "infectious-polymer",
   "metadata": {},
   "source": [
    "**DO NOT EDIT THE CODE IN THIS FILE**"
   ]
  },
  {
   "cell_type": "code",
   "execution_count": null,
   "id": "effective-precipitation",
   "metadata": {},
   "outputs": [],
   "source": [
    "%reset -f\n",
    "\n",
    "from sys import path\n",
    "path.append('../')\n",
    "\n",
    "from helpers.submitters import QuizSubmitter\n",
    "from helpers.widgets import MyRadioButtons\n",
    "\n",
    "questions = [MyRadioButtons() for i in range(9)]\n",
    "\n",
    "submitter = QuizSubmitter(\"15.3\")"
   ]
  },
  {
   "cell_type": "markdown",
   "id": "healthy-casino",
   "metadata": {},
   "source": [
    "<hr>\n",
    "\n",
    "### Question 0\n",
    "\n",
    "How do we model a many-to-many relationship between two database tables?\n",
    "\n",
    "1. We use a `BLOB` column in both tables\n",
    "2. We use the `ARRAY` column type in both of the tables\n",
    "3. We add 10 foreign keys to each table with names like `artict_id_1`, `artist_id2`, etc.\n",
    "4. We add a table with two foreign keys"
   ]
  },
  {
   "cell_type": "code",
   "execution_count": null,
   "id": "latest-broadcast",
   "metadata": {},
   "outputs": [],
   "source": [
    "questions[0].show()"
   ]
  },
  {
   "cell_type": "markdown",
   "id": "bibliographic-maryland",
   "metadata": {},
   "source": [
    "<hr>\n",
    "\n",
    "### Question 1\n",
    "\n",
    "In Python, what is a database `cursor` most like?\n",
    "\n",
    "1. A Python dictionary\n",
    "2. A function\n",
    "3. A file handle\n",
    "4. A method within a class"
   ]
  },
  {
   "cell_type": "code",
   "execution_count": null,
   "id": "postal-consumer",
   "metadata": {},
   "outputs": [],
   "source": [
    "questions[1].show()"
   ]
  },
  {
   "cell_type": "markdown",
   "id": "pediatric-contrast",
   "metadata": {},
   "source": [
    "<hr>\n",
    "\n",
    "### Question 2\n",
    "\n",
    "What method do you call in an SQLite cursor object in Python to run an SQL command?\n",
    "\n",
    "1. `send()`\n",
    "2. `run()`\n",
    "3. `socket()`\n",
    "4. `execute()`"
   ]
  },
  {
   "cell_type": "code",
   "execution_count": null,
   "id": "convinced-cigarette",
   "metadata": {},
   "outputs": [],
   "source": [
    "questions[2].show()"
   ]
  },
  {
   "cell_type": "markdown",
   "id": "moral-breast",
   "metadata": {},
   "source": [
    "<hr>\n",
    "\n",
    "### Question 3\n",
    "\n",
    "In the following SQL, what is the purpose of the `?`?\n",
    "\n",
    "```python\n",
    "cur.execute('SELECT count FROM Counts WHERE org = ? ', (org, ))\n",
    "```\n",
    "\n",
    "1. It is a syntax error\n",
    "2. It is a placeholder for the contents of the `org` variable\n",
    "3. It allows more than one boolean operation in the `WHERE` clause\n",
    "4. It is a search wildcard"
   ]
  },
  {
   "cell_type": "code",
   "execution_count": null,
   "id": "better-render",
   "metadata": {},
   "outputs": [],
   "source": [
    "questions[3].show()"
   ]
  },
  {
   "cell_type": "markdown",
   "id": "standard-brown",
   "metadata": {},
   "source": [
    "<hr>\n",
    "\n",
    "### Question 4\n",
    "\n",
    "In the following Python code sequence (assuming `cur` is a SQLite cursor object),\n",
    "\n",
    "```python\n",
    "cur.execute('SELECT count FROM Counts WHERE org = ? ', (org, ))\n",
    "row = cur.fetchone()\n",
    "```\n",
    "\n",
    "what is the value in row if no rows match the `WHERE` clause?\n",
    "\n",
    "1. `None`\n",
    "2. `-1`\n",
    "3. An empty dictionary\n",
    "4. An empty list"
   ]
  },
  {
   "cell_type": "code",
   "execution_count": null,
   "id": "hidden-works",
   "metadata": {},
   "outputs": [],
   "source": [
    "questions[4].show()"
   ]
  },
  {
   "cell_type": "markdown",
   "id": "logical-cancellation",
   "metadata": {},
   "source": [
    "<hr>\n",
    "\n",
    "### Question 5\n",
    "\n",
    "What does the `LIMIT` clause in the following SQL accomplish?\n",
    "\n",
    "```SQL\n",
    "SELECT org, count\n",
    "FROM Counts\n",
    "ORDER BY count DESC\n",
    "LIMIT 10\n",
    "```\n",
    "\n",
    "1. It only retrieves the first 10 rows from the table\n",
    "2. It only sorts on the first 10 characters of the column\n",
    "3. It reverses the sort order if there are more than 10 rows\n",
    "4. It avoids reading data from any table other than `Counts`"
   ]
  },
  {
   "cell_type": "code",
   "execution_count": null,
   "id": "daily-graph",
   "metadata": {},
   "outputs": [],
   "source": [
    "questions[5].show()"
   ]
  },
  {
   "cell_type": "markdown",
   "id": "intense-technical",
   "metadata": {},
   "source": [
    "<hr>\n",
    "\n",
    "### Question 6\n",
    "\n",
    "What does the `executescript()` method in the Python SQLite cursor object do that the normal `execute()` method does not do?\n",
    "\n",
    "1. It allows embeded Python to be executed\n",
    "2. It allows embedded JavaScript to be executed\n",
    "3. It allows database tables to be created\n",
    "4. It allows multiple SQL statements separated by semicolons"
   ]
  },
  {
   "cell_type": "code",
   "execution_count": null,
   "id": "bizarre-indication",
   "metadata": {},
   "outputs": [],
   "source": [
    "questions[6].show()"
   ]
  },
  {
   "cell_type": "markdown",
   "id": "speaking-perfume",
   "metadata": {},
   "source": [
    "<hr>\n",
    "\n",
    "### Question 7\n",
    "\n",
    "What is the purpose of `OR IGNORE` in the following SQL:\n",
    "\n",
    "```SQL\n",
    "INSERT OR IGNORE INTO Course (title) VALUES (?)\n",
    "```\n",
    "\n",
    "1. It makes sure that if a particular title is already in the table, there are no duplicate rows inserted\n",
    "2. It ignores errors in the SQL syntax for the statement\n",
    "3. It updates the `created_at` value if the title already exists in the table\n",
    "4. It ignores any foreign key constraint errors"
   ]
  },
  {
   "cell_type": "code",
   "execution_count": null,
   "id": "heard-tract",
   "metadata": {},
   "outputs": [],
   "source": [
    "questions[7].show()"
   ]
  },
  {
   "cell_type": "markdown",
   "id": "announced-creativity",
   "metadata": {},
   "source": [
    "<hr>\n",
    "\n",
    "### Question 8\n",
    "\n",
    "What do we generally avoid in a many-to-many junction table?\n",
    "\n",
    "1. An `AUTOINCREMENT` primary key column\n",
    "2. A logical key\n",
    "3. Two foreign keys\n",
    "4. Data items specific to the many-to-many relationship"
   ]
  },
  {
   "cell_type": "code",
   "execution_count": null,
   "id": "joint-banks",
   "metadata": {},
   "outputs": [],
   "source": [
    "questions[8].show()"
   ]
  },
  {
   "cell_type": "markdown",
   "id": "frequent-penguin",
   "metadata": {},
   "source": [
    "<hr>\n",
    "\n",
    "### Submit"
   ]
  },
  {
   "cell_type": "code",
   "execution_count": null,
   "id": "tired-collect",
   "metadata": {},
   "outputs": [],
   "source": [
    "submitter.submit(questions)"
   ]
  },
  {
   "cell_type": "code",
   "execution_count": null,
   "id": "minus-worship",
   "metadata": {},
   "outputs": [],
   "source": []
  }
 ],
 "metadata": {
  "kernelspec": {
   "display_name": "Python 3",
   "language": "python",
   "name": "python3"
  },
  "language_info": {
   "codemirror_mode": {
    "name": "ipython",
    "version": 3
   },
   "file_extension": ".py",
   "mimetype": "text/x-python",
   "name": "python",
   "nbconvert_exporter": "python",
   "pygments_lexer": "ipython3",
   "version": "3.8.5"
  }
 },
 "nbformat": 4,
 "nbformat_minor": 5
}
