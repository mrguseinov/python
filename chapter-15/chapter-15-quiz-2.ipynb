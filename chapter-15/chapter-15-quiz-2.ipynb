{
 "cells": [
  {
   "cell_type": "markdown",
   "id": "communist-benefit",
   "metadata": {},
   "source": [
    "**DO NOT EDIT THE CODE IN THIS FILE**"
   ]
  },
  {
   "cell_type": "code",
   "execution_count": null,
   "id": "exciting-diagram",
   "metadata": {},
   "outputs": [],
   "source": [
    "%reset -f\n",
    "\n",
    "from sys import path\n",
    "path.append('../')\n",
    "\n",
    "from helpers.submitters import QuizSubmitter\n",
    "from helpers.widgets import MyRadioButtons\n",
    "\n",
    "questions = [MyRadioButtons(5) for i in range(10)]\n",
    "questions[1] = MyRadioButtons()\n",
    "questions[2] = MyRadioButtons()\n",
    "questions[6] = MyRadioButtons()\n",
    "questions[9] = MyRadioButtons()\n",
    "\n",
    "submitter = QuizSubmitter(\"15.2\")"
   ]
  },
  {
   "cell_type": "markdown",
   "id": "trained-medication",
   "metadata": {},
   "source": [
    "<hr>\n",
    "\n",
    "### Question 0\n",
    "\n",
    "What is the primary added value of relational databases over flat files?\n",
    "\n",
    "1. Ability to quickly convert data to HTML\n",
    "2. Ability to execute Python code within the file\n",
    "3. Ability to execute JavaScript in the file\n",
    "4. Ability to store data in a format that can be sent across a network\n",
    "5. Ability to scan large amounts of data quickly"
   ]
  },
  {
   "cell_type": "code",
   "execution_count": null,
   "id": "outer-begin",
   "metadata": {},
   "outputs": [],
   "source": [
    "questions[0].show()"
   ]
  },
  {
   "cell_type": "markdown",
   "id": "competitive-mason",
   "metadata": {},
   "source": [
    "<hr>\n",
    "\n",
    "### Question 1\n",
    "\n",
    "What is the purpose of a primary key?\n",
    "\n",
    "1. To look up a row based on a string that comes from outside the program\n",
    "2. To look up a particular row in a table very quickly\n",
    "3. To point to a particular row in another table\n",
    "4. To track the number of duplicate values in another column"
   ]
  },
  {
   "cell_type": "code",
   "execution_count": null,
   "id": "roman-carolina",
   "metadata": {},
   "outputs": [],
   "source": [
    "questions[1].show()"
   ]
  },
  {
   "cell_type": "markdown",
   "id": "spanish-advance",
   "metadata": {},
   "source": [
    "<hr>\n",
    "\n",
    "### Question 2\n",
    "\n",
    "Which of the following is **not** a good rule to follow when developing a database model?\n",
    "\n",
    "1. Never repeat string data in more than one table in a data model\n",
    "2. Model each \"object\" in the application as one or more tables\n",
    "3. Use a person's email address as their primary key\n",
    "4. Use integers as primary keys"
   ]
  },
  {
   "cell_type": "code",
   "execution_count": null,
   "id": "optional-elephant",
   "metadata": {},
   "outputs": [],
   "source": [
    "questions[2].show()"
   ]
  },
  {
   "cell_type": "markdown",
   "id": "fixed-documentary",
   "metadata": {},
   "source": [
    "<hr>\n",
    "\n",
    "### Question 3\n",
    "\n",
    "If our user interface (i.e., iTunes) has repeated strings on one column of the user interface, how should we model this properly in a database?\n",
    "\n",
    "1. Encode the entire row as JSON and store it in a TEXT column in the database\n",
    "2. Put the string in the first row where it occurs and then put that row number in the column of all of the rest of the rows where the string occurs\n",
    "3. Put the string in the last row where it occurs and put the number of that row in the column of all of the rest of the rows where the string occurs\n",
    "4. Put the string in the first row where it occurs and then put NULL in all of the other rows\n",
    "5. Make a table that maps the strings in the column to numbers and then use those numbers in the column"
   ]
  },
  {
   "cell_type": "code",
   "execution_count": null,
   "id": "naughty-start",
   "metadata": {},
   "outputs": [],
   "source": [
    "questions[3].show()"
   ]
  },
  {
   "cell_type": "markdown",
   "id": "american-timer",
   "metadata": {},
   "source": [
    "<hr>\n",
    "\n",
    "### Question 4\n",
    "\n",
    "Which of the following is the label we give a column that the \"outside world\" uses to look up a particular row?\n",
    "\n",
    "1. Foreign key\n",
    "2. Logical key\n",
    "3. Remote key\n",
    "4. Primary key\n",
    "5. Local key"
   ]
  },
  {
   "cell_type": "code",
   "execution_count": null,
   "id": "fewer-miracle",
   "metadata": {},
   "outputs": [],
   "source": [
    "questions[4].show()"
   ]
  },
  {
   "cell_type": "markdown",
   "id": "obvious-processor",
   "metadata": {},
   "source": [
    "<hr>\n",
    "\n",
    "### Question 5\n",
    "\n",
    "What is the label we give to a column that is an integer and used to point to a row in a different table?\n",
    "\n",
    "1. Primary key\n",
    "2. Remote key\n",
    "3. Local key\n",
    "4. Logical key\n",
    "5. Foreign key"
   ]
  },
  {
   "cell_type": "code",
   "execution_count": null,
   "id": "backed-jungle",
   "metadata": {},
   "outputs": [],
   "source": [
    "questions[5].show()"
   ]
  },
  {
   "cell_type": "markdown",
   "id": "excited-elephant",
   "metadata": {},
   "source": [
    "<hr>\n",
    "\n",
    "### Question 6\n",
    "\n",
    "What SQLite keyword is added to primary keys in a `CREATE TABLE` statement to indicate that the database is to provide a value for the column when records are inserted?\n",
    "\n",
    "1. `INSERT_AUTO_PROVIDE`\n",
    "2. `AUTO_INCREMENT`\n",
    "3. `AUTOINCREMENT`\n",
    "4. `ASSERT_UNIQUE`"
   ]
  },
  {
   "cell_type": "code",
   "execution_count": null,
   "id": "exciting-extreme",
   "metadata": {},
   "outputs": [],
   "source": [
    "questions[6].show()"
   ]
  },
  {
   "cell_type": "markdown",
   "id": "sporting-trading",
   "metadata": {},
   "source": [
    "<hr>\n",
    "\n",
    "### Question 7\n",
    "\n",
    "What is the SQL keyword that reconnects rows that have foreign keys with the corresponding data in the table that the foreign key points to?\n",
    "\n",
    "1. `COUNT`\n",
    "2. `APPEND`\n",
    "3. `CONNECT`\n",
    "4. `JOIN`\n",
    "5. `CONSTRAINT`"
   ]
  },
  {
   "cell_type": "code",
   "execution_count": null,
   "id": "passive-antique",
   "metadata": {},
   "outputs": [],
   "source": [
    "questions[7].show()"
   ]
  },
  {
   "cell_type": "markdown",
   "id": "anticipated-daisy",
   "metadata": {},
   "source": [
    "<hr>\n",
    "\n",
    "### Question 8\n",
    "\n",
    "What happens when you `JOIN` two tables together without an `ON` clause?\n",
    "\n",
    "1. Leaving out the `ON` clause when joining two tables in SQLite is a syntax error\n",
    "2. The number of rows you get is the number of rows in the first table times the number of rows in the second table\n",
    "3. You get no rows at all\n",
    "4. The rows of the left table are connected to the rows in the right table when their primary key matches\n",
    "5. You get all of the rows of the left table in the `JOIN` and `NULL`s in all of the columns of the right table"
   ]
  },
  {
   "cell_type": "code",
   "execution_count": null,
   "id": "later-development",
   "metadata": {},
   "outputs": [],
   "source": [
    "questions[8].show()"
   ]
  },
  {
   "cell_type": "markdown",
   "id": "early-configuration",
   "metadata": {},
   "source": [
    "<hr>\n",
    "\n",
    "### Question 9\n",
    "\n",
    "When you are doing a `SELECT` with a `JOIN` across multiple tables with identical column names, how do you distinguish the column names?\n",
    "\n",
    "1. `tablename.columnname`\n",
    "2. `tablename->columnname`\n",
    "3. `tablename/columnname`\n",
    "4. `tablename['columnname']`"
   ]
  },
  {
   "cell_type": "code",
   "execution_count": null,
   "id": "strategic-miami",
   "metadata": {},
   "outputs": [],
   "source": [
    "questions[9].show()"
   ]
  },
  {
   "cell_type": "markdown",
   "id": "suspected-horizon",
   "metadata": {},
   "source": [
    "<hr>\n",
    "\n",
    "### Submit"
   ]
  },
  {
   "cell_type": "code",
   "execution_count": null,
   "id": "located-avatar",
   "metadata": {},
   "outputs": [],
   "source": [
    "submitter.submit(questions)"
   ]
  },
  {
   "cell_type": "code",
   "execution_count": null,
   "id": "committed-cleaners",
   "metadata": {},
   "outputs": [],
   "source": []
  }
 ],
 "metadata": {
  "kernelspec": {
   "display_name": "Python 3",
   "language": "python",
   "name": "python3"
  },
  "language_info": {
   "codemirror_mode": {
    "name": "ipython",
    "version": 3
   },
   "file_extension": ".py",
   "mimetype": "text/x-python",
   "name": "python",
   "nbconvert_exporter": "python",
   "pygments_lexer": "ipython3",
   "version": "3.8.5"
  }
 },
 "nbformat": 4,
 "nbformat_minor": 5
}
