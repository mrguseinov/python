{
 "cells": [
  {
   "cell_type": "markdown",
   "id": "brutal-wellington",
   "metadata": {},
   "source": [
    "**DO NOT EDIT THE CODE IN THIS FILE**"
   ]
  },
  {
   "cell_type": "code",
   "execution_count": null,
   "id": "medieval-trustee",
   "metadata": {},
   "outputs": [],
   "source": [
    "%reset -f\n",
    "\n",
    "from sys import path\n",
    "path.append('../')\n",
    "\n",
    "from helpers.submitters import QuizSubmitter\n",
    "from helpers.widgets import MyCheckBoxes, MyRadioButtons\n",
    "\n",
    "questions = [MyRadioButtons() for i in range(11)]\n",
    "questions[0] = MyCheckBoxes()\n",
    "questions[7] = MyRadioButtons(5)\n",
    "\n",
    "submitter = QuizSubmitter(\"15.1\")"
   ]
  },
  {
   "cell_type": "markdown",
   "id": "ultimate-worth",
   "metadata": {},
   "source": [
    "<hr>\n",
    "\n",
    "### Question 0\n",
    "\n",
    "Structured Query Language (SQL) is used to (check all that apply):\n",
    "\n",
    "1. Insert data\n",
    "2. Check Python code for errors\n",
    "3. Create a table\n",
    "4. Delete data"
   ]
  },
  {
   "cell_type": "code",
   "execution_count": null,
   "id": "original-teacher",
   "metadata": {},
   "outputs": [],
   "source": [
    "questions[0].show()"
   ]
  },
  {
   "cell_type": "markdown",
   "id": "representative-framework",
   "metadata": {},
   "source": [
    "<hr>\n",
    "\n",
    "### Question 1\n",
    "\n",
    "Which of these is the right syntax to make a new table?\n",
    "\n",
    "1. `MAKE DATASET people;`\n",
    "2. `CREATE people;`\n",
    "3. `CREATE TABLE people;`\n",
    "4. `MAKE people;`"
   ]
  },
  {
   "cell_type": "code",
   "execution_count": null,
   "id": "liable-table",
   "metadata": {},
   "outputs": [],
   "source": [
    "questions[1].show()"
   ]
  },
  {
   "cell_type": "markdown",
   "id": "mature-ceiling",
   "metadata": {},
   "source": [
    "<hr>\n",
    "\n",
    "### Question 2\n",
    "\n",
    "Which SQL command is used to insert a new row into a table?\n",
    "\n",
    "1. `INSERT AFTER`\n",
    "2. `INSERT INTO`\n",
    "3. `ADD ROW`\n",
    "4. `INSERT ROW`"
   ]
  },
  {
   "cell_type": "code",
   "execution_count": null,
   "id": "continuous-observation",
   "metadata": {},
   "outputs": [],
   "source": [
    "questions[2].show()"
   ]
  },
  {
   "cell_type": "markdown",
   "id": "selected-magnitude",
   "metadata": {},
   "source": [
    "<hr>\n",
    "\n",
    "### Question 3\n",
    "\n",
    "Which command is used to retrieve all records from a table?\n",
    "\n",
    "1. `SELECT * FROM Users`\n",
    "2. `RETRIEVE all FROM User`\n",
    "3. `SELECT all FROM Users`\n",
    "4. `RETRIEVE * FROM Users`"
   ]
  },
  {
   "cell_type": "code",
   "execution_count": null,
   "id": "incident-complaint",
   "metadata": {},
   "outputs": [],
   "source": [
    "questions[3].show()"
   ]
  },
  {
   "cell_type": "markdown",
   "id": "persistent-racing",
   "metadata": {},
   "source": [
    "<hr>\n",
    "\n",
    "### Question 4\n",
    "\n",
    "Which keyword will cause the results of the query to be displayed in sorted order?\n",
    "\n",
    "1. `GROUP BY`\n",
    "2. `ORDER BY`\n",
    "3. `WHERE`\n",
    "4. `None of these`"
   ]
  },
  {
   "cell_type": "code",
   "execution_count": null,
   "id": "designing-clothing",
   "metadata": {},
   "outputs": [],
   "source": [
    "questions[4].show()"
   ]
  },
  {
   "cell_type": "markdown",
   "id": "widespread-basis",
   "metadata": {},
   "source": [
    "<hr>\n",
    "\n",
    "### Question 5\n",
    "\n",
    "In database terminology, another word for table is\n",
    "\n",
    "1. Field\n",
    "2. Attribute\n",
    "3. Relation\n",
    "4. Row"
   ]
  },
  {
   "cell_type": "code",
   "execution_count": null,
   "id": "contained-chamber",
   "metadata": {},
   "outputs": [],
   "source": [
    "questions[5].show()"
   ]
  },
  {
   "cell_type": "markdown",
   "id": "hidden-happiness",
   "metadata": {},
   "source": [
    "<hr>\n",
    "\n",
    "### Question 6\n",
    "\n",
    "In a typical online production environment, who has direct access to the production database?\n",
    "\n",
    "1. Database Administrator\n",
    "2. UI/UX Designer\n",
    "3. Project Manager\n",
    "4. Developer"
   ]
  },
  {
   "cell_type": "code",
   "execution_count": null,
   "id": "prepared-green",
   "metadata": {},
   "outputs": [],
   "source": [
    "questions[6].show()"
   ]
  },
  {
   "cell_type": "markdown",
   "id": "racial-shame",
   "metadata": {},
   "source": [
    "<hr>\n",
    "\n",
    "### Question 7\n",
    "\n",
    "Which of the following is the database software used in this chapter?\n",
    "\n",
    "1. Postgres\n",
    "2. Oracle\n",
    "3. MySQL\n",
    "4. SQL Server\n",
    "5. SQLite"
   ]
  },
  {
   "cell_type": "code",
   "execution_count": null,
   "id": "serious-alabama",
   "metadata": {},
   "outputs": [],
   "source": [
    "questions[7].show()"
   ]
  },
  {
   "cell_type": "markdown",
   "id": "sitting-tamil",
   "metadata": {},
   "source": [
    "<hr>\n",
    "\n",
    "### Question 8\n",
    "\n",
    "What happens if a `DELETE` command is run on a table without a `WHERE` clause?\n",
    "\n",
    "1. It is a syntax error\n",
    "2. All the rows without a primary key will be deleted\n",
    "3. All the rows in the table will be deleted\n",
    "4. The first row of the table will be deleted"
   ]
  },
  {
   "cell_type": "code",
   "execution_count": null,
   "id": "republican-abuse",
   "metadata": {},
   "outputs": [],
   "source": [
    "questions[8].show()"
   ]
  },
  {
   "cell_type": "markdown",
   "id": "married-python",
   "metadata": {},
   "source": [
    "<hr>\n",
    "\n",
    "### Question 9\n",
    "\n",
    "Which of the following commands would update the `name` column in the `Users` table?\n",
    "\n",
    "1. `Users->name = 'new name' WHERE ...`\n",
    "2. `Users.name = 'new name' WHERE ...`\n",
    "3. `UPDATE Users (name) VALUES ('new name') WHERE ...`\n",
    "4. `UPDATE Users SET name='new name' WHERE ...`"
   ]
  },
  {
   "cell_type": "code",
   "execution_count": null,
   "id": "alert-archive",
   "metadata": {},
   "outputs": [],
   "source": [
    "questions[9].show()"
   ]
  },
  {
   "cell_type": "markdown",
   "id": "contrary-sussex",
   "metadata": {},
   "source": [
    "<hr>\n",
    "\n",
    "### Question 10\n",
    "\n",
    "What does this SQL command do?\n",
    "\n",
    "```\n",
    "SELECT COUNT(*) FROM Users\n",
    "```\n",
    "\n",
    "1. It is a syntax errror\n",
    "2. It only retrieves the rows of `Users` if there are at least two rows\n",
    "3. It counts the rows in the table `Users`\n",
    "4. It adds a `COUNT` column to the `Users` table"
   ]
  },
  {
   "cell_type": "code",
   "execution_count": null,
   "id": "lovely-office",
   "metadata": {},
   "outputs": [],
   "source": [
    "questions[10].show()"
   ]
  },
  {
   "cell_type": "markdown",
   "id": "offshore-cleaners",
   "metadata": {},
   "source": [
    "<hr>\n",
    "\n",
    "### Submit"
   ]
  },
  {
   "cell_type": "code",
   "execution_count": null,
   "id": "formal-mortality",
   "metadata": {},
   "outputs": [],
   "source": [
    "submitter.submit(questions)"
   ]
  },
  {
   "cell_type": "code",
   "execution_count": null,
   "id": "surprising-chest",
   "metadata": {},
   "outputs": [],
   "source": []
  }
 ],
 "metadata": {
  "kernelspec": {
   "display_name": "Python 3",
   "language": "python",
   "name": "python3"
  },
  "language_info": {
   "codemirror_mode": {
    "name": "ipython",
    "version": 3
   },
   "file_extension": ".py",
   "mimetype": "text/x-python",
   "name": "python",
   "nbconvert_exporter": "python",
   "pygments_lexer": "ipython3",
   "version": "3.8.5"
  }
 },
 "nbformat": 4,
 "nbformat_minor": 5
}
