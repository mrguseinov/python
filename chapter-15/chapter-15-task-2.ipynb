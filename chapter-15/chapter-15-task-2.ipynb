{
 "cells": [
  {
   "cell_type": "code",
   "execution_count": null,
   "id": "falling-grain",
   "metadata": {},
   "outputs": [],
   "source": [
    "# Do not modify the code in this cell.\n",
    "\n",
    "%reset -f\n",
    "\n",
    "from sys import path\n",
    "path.append('../')\n",
    "\n",
    "from helpers.submitters import TaskSubmitter"
   ]
  },
  {
   "cell_type": "markdown",
   "id": "framed-transaction",
   "metadata": {},
   "source": [
    "## Task 15.2: Compute Domain Frequency\n",
    "\n",
    "Read the `emails.txt` file and look for lines that start with `'From '` to count the number of emails per organization (domain name of the email address) using the table with the following schema:\n",
    "\n",
    "```sql\n",
    "CREATE TABLE counts (domain TEXT, count INTEGER)\n",
    "```\n",
    "\n",
    "To add a new domain to the table, use:\n",
    "\n",
    "```python\n",
    "cursor.execute(\"INSERT INTO counts (domain, count) VALUES (?, 1)\", (domain,))\n",
    "```\n",
    "\n",
    "To increment the counter for an existing domain, use:\n",
    "\n",
    "```python\n",
    "cursor.execute(\"UPDATE counts SET count = count + 1 WHERE domain = ?\", (domain,))\n",
    "```\n",
    "\n",
    "Return the result of the following line:\n",
    "\n",
    "```python\n",
    "cursor.execute(\"SELECT * FROM counts\").fetchall()\n",
    "```\n",
    "\n",
    "---\n",
    "\n",
    "After running the cell, you should see the following output:\n",
    "\n",
    "```\n",
    "[('uct.ac.za', 6),\n",
    " ('media.berkeley.edu', 4),\n",
    " ('umich.edu', 7),\n",
    " ('iupui.edu', 8),\n",
    " ('caret.cam.ac.uk', 1),\n",
    " ('gmail.com', 1)]\n",
    "```"
   ]
  },
  {
   "cell_type": "code",
   "execution_count": null,
   "id": "frozen-matthew",
   "metadata": {},
   "outputs": [],
   "source": [
    "# Modify the code only in the \"YOUR CODE HERE\" block.\n",
    "\n",
    "import sqlite3\n",
    "\n",
    "\n",
    "def foo():\n",
    "    with sqlite3.connect(\":memory:\") as connection:\n",
    "        cursor = connection.cursor()        \n",
    "        cursor.execute(\"CREATE TABLE counts (domain TEXT, count INTEGER)\")\n",
    "\n",
    "        with open(\"emails.txt\") as file:\n",
    "            for line in file:\n",
    "                if not line.startswith(\"From \"):\n",
    "                    continue\n",
    "\n",
    "                # ========== YOUR CODE HERE ==========\n",
    "                \n",
    "                \n",
    "                \n",
    "        # ====================================\n",
    "\n",
    "\n",
    "foo()"
   ]
  },
  {
   "cell_type": "markdown",
   "id": "amateur-glossary",
   "metadata": {},
   "source": [
    "### Submit"
   ]
  },
  {
   "cell_type": "code",
   "execution_count": null,
   "id": "rocky-listing",
   "metadata": {},
   "outputs": [],
   "source": [
    "# Do not modify the code in this cell.\n",
    "\n",
    "with TaskSubmitter(\"15.2\", \"return\") as submitter:\n",
    "    submitter.submit(foo)"
   ]
  },
  {
   "cell_type": "code",
   "execution_count": null,
   "id": "inside-sellers",
   "metadata": {},
   "outputs": [],
   "source": []
  }
 ],
 "metadata": {
  "kernelspec": {
   "display_name": "Python 3",
   "language": "python",
   "name": "python3"
  },
  "language_info": {
   "codemirror_mode": {
    "name": "ipython",
    "version": 3
   },
   "file_extension": ".py",
   "mimetype": "text/x-python",
   "name": "python",
   "nbconvert_exporter": "python",
   "pygments_lexer": "ipython3",
   "version": "3.8.5"
  }
 },
 "nbformat": 4,
 "nbformat_minor": 5
}
