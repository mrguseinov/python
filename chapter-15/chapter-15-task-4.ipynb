{
 "cells": [
  {
   "cell_type": "code",
   "execution_count": null,
   "id": "tropical-marina",
   "metadata": {},
   "outputs": [],
   "source": [
    "# Do not modify the code in this cell.\n",
    "\n",
    "%reset -f\n",
    "\n",
    "from sys import path\n",
    "path.append('../')\n",
    "\n",
    "from helpers.submitters import TaskSubmitter"
   ]
  },
  {
   "cell_type": "markdown",
   "id": "accomplished-evidence",
   "metadata": {},
   "source": [
    "## Task 15.3: Many To Many Relationship\n",
    "\n",
    "Parse the `roster.json` file and produce a database with the following schema:\n",
    "\n",
    "```sql\n",
    "CREATE TABLE user (\n",
    "    id INTEGER PRIMARY KEY AUTOINCREMENT,\n",
    "    name TEXT UNIQUE\n",
    ");\n",
    "\n",
    "CREATE TABLE course (\n",
    "    id INTEGER PRIMARY KEY AUTOINCREMENT,\n",
    "    title TEXT UNIQUE\n",
    ");\n",
    "\n",
    "CREATE TABLE member (\n",
    "    user_id INTEGER,\n",
    "    course_id INTEGER,\n",
    "    role INTEGER,\n",
    "    PRIMARY KEY (user_id, course_id)\n",
    ");\n",
    "```\n",
    "\n",
    "Return the result of the following SQL statement:\n",
    "\n",
    "```sql\n",
    "SELECT hex(user.name || course.title || member.role) AS X\n",
    "FROM user JOIN course JOIN member\n",
    "ON user.id = member.user_id AND\n",
    "   course.id = member.course_id\n",
    "ORDER BY X\n",
    "LIMIT 1\n",
    "```\n",
    "\n",
    "---\n",
    "\n",
    "After running the cell, you should see the following output: `('41616E7961736933303130',)`"
   ]
  },
  {
   "cell_type": "code",
   "execution_count": null,
   "id": "latter-princeton",
   "metadata": {},
   "outputs": [],
   "source": [
    "# Modify the code only in the \"YOUR CODE HERE\" block.\n",
    "\n",
    "import json\n",
    "import sqlite3\n",
    "\n",
    "\n",
    "def foo():\n",
    "    tables_sql = \"\"\"\n",
    "CREATE TABLE user (\n",
    "    id INTEGER PRIMARY KEY AUTOINCREMENT,\n",
    "    name TEXT UNIQUE\n",
    ");\n",
    "\n",
    "CREATE TABLE course (\n",
    "    id INTEGER PRIMARY KEY AUTOINCREMENT,\n",
    "    title TEXT UNIQUE\n",
    ");\n",
    "\n",
    "CREATE TABLE member (\n",
    "    user_id INTEGER,\n",
    "    course_id INTEGER,\n",
    "    role INTEGER,\n",
    "    PRIMARY KEY (user_id, course_id)\n",
    ");\n",
    "\"\"\"\n",
    "    result_sql = \"\"\"\n",
    "SELECT hex(user.name || course.title || member.role) AS X\n",
    "FROM user JOIN course JOIN member\n",
    "ON user.id = member.user_id AND\n",
    "   course.id = member.course_id\n",
    "ORDER BY X\n",
    "LIMIT 1\n",
    "\"\"\"\n",
    "\n",
    "    with open(\"roster.json\") as file:\n",
    "        data = json.load(file)\n",
    "\n",
    "    with sqlite3.connect(\":memory:\") as connection:\n",
    "        cursor = connection.cursor()\n",
    "        cursor.executescript(tables_sql)\n",
    "\n",
    "        for name, title, role in data:\n",
    "\n",
    "            # ========== YOUR CODE HERE ==========\n",
    "            \n",
    "            \n",
    "            \n",
    "        # ====================================\n",
    "\n",
    "        return cursor.execute(result_sql).fetchone()\n",
    "\n",
    "\n",
    "foo()"
   ]
  },
  {
   "cell_type": "markdown",
   "id": "generic-boundary",
   "metadata": {},
   "source": [
    "### Submit"
   ]
  },
  {
   "cell_type": "code",
   "execution_count": null,
   "id": "chubby-keyboard",
   "metadata": {},
   "outputs": [],
   "source": [
    "# Do not modify the code in this cell.\n",
    "\n",
    "with TaskSubmitter(\"15.4\", \"return\") as submitter:\n",
    "    submitter.submit(foo)"
   ]
  },
  {
   "cell_type": "code",
   "execution_count": null,
   "id": "quiet-politics",
   "metadata": {},
   "outputs": [],
   "source": []
  }
 ],
 "metadata": {
  "kernelspec": {
   "display_name": "Python 3",
   "language": "python",
   "name": "python3"
  },
  "language_info": {
   "codemirror_mode": {
    "name": "ipython",
    "version": 3
   },
   "file_extension": ".py",
   "mimetype": "text/x-python",
   "name": "python",
   "nbconvert_exporter": "python",
   "pygments_lexer": "ipython3",
   "version": "3.8.5"
  }
 },
 "nbformat": 4,
 "nbformat_minor": 5
}
