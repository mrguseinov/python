{
 "cells": [
  {
   "cell_type": "code",
   "execution_count": null,
   "id": "gothic-republic",
   "metadata": {},
   "outputs": [],
   "source": [
    "# Do not modify the code in this cell.\n",
    "\n",
    "%reset -f\n",
    "\n",
    "from sys import path\n",
    "path.append('../')\n",
    "\n",
    "from helpers.submitters import TaskSubmitter"
   ]
  },
  {
   "cell_type": "markdown",
   "id": "associate-bradford",
   "metadata": {},
   "source": [
    "## Task 14.2: Use `__init__` And `self`\n",
    "\n",
    "Create a `Cat` class with two methods.\n",
    "\n",
    "The first method is `__init__(self, name)` that initializes two variables:\n",
    "\n",
    "```python\n",
    "self.name = name\n",
    "self.lives = 9\n",
    "```\n",
    "\n",
    "The second method is `get_into_trouble(self)` that decrements `self.lives` value by 1.<br>\n",
    "Don't worry about negative values for now.\n",
    "\n",
    "Instantiate two cats:\n",
    "\n",
    "```python\n",
    "molly = Cat(\"Molly\")\n",
    "oscar = Cat(\"Oscar\")\n",
    "```\n",
    "\n",
    "Now, Oscar got into troble and lost one life, so call the `get_into_trouble` method.\n",
    "\n",
    "Return the number of lives for Molly and Oscar.\n",
    "\n",
    "---\n",
    "\n",
    "After running the cell, you should see the following output: `(9, 8)`"
   ]
  },
  {
   "cell_type": "code",
   "execution_count": null,
   "id": "timely-thirty",
   "metadata": {},
   "outputs": [],
   "source": [
    "# Modify the code only in the \"YOUR CODE HERE\" block.\n",
    "\n",
    "\n",
    "def foo():\n",
    "\n",
    "    # ========== YOUR CODE HERE ==========\n",
    "    \n",
    "    \n",
    "    \n",
    "    # ====================================\n",
    "\n",
    "    return molly.lives, oscar.lives\n",
    "\n",
    "\n",
    "foo()"
   ]
  },
  {
   "cell_type": "markdown",
   "id": "vulnerable-breach",
   "metadata": {},
   "source": [
    "### Submit"
   ]
  },
  {
   "cell_type": "code",
   "execution_count": null,
   "id": "distant-conversation",
   "metadata": {},
   "outputs": [],
   "source": [
    "# Do not modify the code in this cell.\n",
    "\n",
    "with TaskSubmitter(\"14.2\", \"return\") as submitter:\n",
    "    submitter.submit(foo)"
   ]
  },
  {
   "cell_type": "code",
   "execution_count": null,
   "id": "spectacular-behalf",
   "metadata": {},
   "outputs": [],
   "source": []
  }
 ],
 "metadata": {
  "kernelspec": {
   "display_name": "Python 3",
   "language": "python",
   "name": "python3"
  },
  "language_info": {
   "codemirror_mode": {
    "name": "ipython",
    "version": 3
   },
   "file_extension": ".py",
   "mimetype": "text/x-python",
   "name": "python",
   "nbconvert_exporter": "python",
   "pygments_lexer": "ipython3",
   "version": "3.8.5"
  }
 },
 "nbformat": 4,
 "nbformat_minor": 5
}
