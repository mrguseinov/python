{
 "cells": [
  {
   "cell_type": "markdown",
   "id": "retained-valuation",
   "metadata": {},
   "source": [
    "**DO NOT EDIT THE CODE IN THIS FILE**"
   ]
  },
  {
   "cell_type": "code",
   "execution_count": null,
   "id": "spare-emphasis",
   "metadata": {},
   "outputs": [],
   "source": [
    "%reset -f\n",
    "\n",
    "from sys import path\n",
    "path.append('../')\n",
    "\n",
    "from helpers.submitters import QuizSubmitter\n",
    "from helpers.widgets import MyRadioButtons\n",
    "\n",
    "questions = [MyRadioButtons() for i in range(11)]\n",
    "questions[1] = MyRadioButtons(5)\n",
    "questions[2] = MyRadioButtons(5)\n",
    "questions[6] = MyRadioButtons(5)\n",
    "\n",
    "submitter = QuizSubmitter(\"14\")"
   ]
  },
  {
   "cell_type": "markdown",
   "id": "revised-strand",
   "metadata": {},
   "source": [
    "<hr>\n",
    "\n",
    "### Question 0\n",
    "\n",
    "Which came first, the instance or the class?\n",
    "\n",
    "1. Class\n",
    "2. Function\n",
    "3. Instance\n",
    "4. Method"
   ]
  },
  {
   "cell_type": "code",
   "execution_count": null,
   "id": "proud-change",
   "metadata": {},
   "outputs": [],
   "source": [
    "questions[0].show()"
   ]
  },
  {
   "cell_type": "markdown",
   "id": "canadian-spanish",
   "metadata": {},
   "source": [
    "<hr>\n",
    "\n",
    "### Question 1\n",
    "\n",
    "In Object Oriented Programming (OOP), what is another name for the \"attributes\" of an object?\n",
    "\n",
    "1. Fields\n",
    "2. Forms\n",
    "3. Methods\n",
    "4. Portions\n",
    "5. Messages"
   ]
  },
  {
   "cell_type": "code",
   "execution_count": null,
   "id": "educated-guide",
   "metadata": {},
   "outputs": [],
   "source": [
    "questions[1].show()"
   ]
  },
  {
   "cell_type": "markdown",
   "id": "closing-creek",
   "metadata": {},
   "source": [
    "<hr>\n",
    "\n",
    "### Question 2\n",
    "\n",
    "At the moment of creation of a new object, Python looks at the `_____` definition to define the structure and capabilities of the newly created object.\n",
    "\n",
    "1. Cache\n",
    "2. Method\n",
    "3. Class\n",
    "4. Instance\n",
    "5. Constructor"
   ]
  },
  {
   "cell_type": "code",
   "execution_count": null,
   "id": "documented-wealth",
   "metadata": {},
   "outputs": [],
   "source": [
    "questions[2].show()"
   ]
  },
  {
   "cell_type": "markdown",
   "id": "valuable-capitol",
   "metadata": {},
   "source": [
    "<hr>\n",
    "\n",
    "### Question 3\n",
    "\n",
    "Which of the following is **not** a good synonym for \"class\" in Python?\n",
    "\n",
    "1. Template\n",
    "2. Blueprint\n",
    "3. Pattern\n",
    "4. Direction"
   ]
  },
  {
   "cell_type": "code",
   "execution_count": null,
   "id": "false-denver",
   "metadata": {},
   "outputs": [],
   "source": [
    "questions[3].show()"
   ]
  },
  {
   "cell_type": "markdown",
   "id": "extended-retention",
   "metadata": {},
   "source": [
    "<hr>\n",
    "\n",
    "### Question 4\n",
    "\n",
    "What does this Python statement do if `PartyAnimal` is a class?\n",
    "\n",
    "```\n",
    "zap = PartyAnimal()\n",
    "```\n",
    "\n",
    "1. Subtract the value of the `zap` variable from the value in the `PartyAnimal` variable and put the difference in `zap`\n",
    "2. Use the `PartyAnimal` template to make a new object and assign it to `zap`\n",
    "3. Copy the value from the `PartyAnimal` variable to the variable `zap`\n",
    "4. Clear out all the data in the `PartyAnimal` variable and put the old values for the data in `zap`"
   ]
  },
  {
   "cell_type": "code",
   "execution_count": null,
   "id": "spoken-separate",
   "metadata": {},
   "outputs": [],
   "source": [
    "questions[4].show()"
   ]
  },
  {
   "cell_type": "markdown",
   "id": "mathematical-irrigation",
   "metadata": {},
   "source": [
    "<hr>\n",
    "\n",
    "### Question 5\n",
    "\n",
    "What is the syntax to look up the fullname attribute in an object stored in the variable `colleen`?\n",
    "\n",
    "1. `colleen->fullname`\n",
    "2. `colleen::fullname`\n",
    "3. `colleen.fullname`\n",
    "4. `colleen['fullname']`"
   ]
  },
  {
   "cell_type": "code",
   "execution_count": null,
   "id": "middle-niger",
   "metadata": {},
   "outputs": [],
   "source": [
    "questions[5].show()"
   ]
  },
  {
   "cell_type": "markdown",
   "id": "corporate-settlement",
   "metadata": {},
   "source": [
    "<hr>\n",
    "\n",
    "### Question 6\n",
    "\n",
    "Which of these statements is used to indicate that class `A` will inherit all the features from class `B`?\n",
    "\n",
    "1. `class A extends B:`\n",
    "2. `A=B++;`\n",
    "3. `class A instanceOf B:`\n",
    "4. `class A inherits B:`\n",
    "5. `class A(B):`"
   ]
  },
  {
   "cell_type": "code",
   "execution_count": null,
   "id": "swiss-composition",
   "metadata": {},
   "outputs": [],
   "source": [
    "questions[6].show()"
   ]
  },
  {
   "cell_type": "markdown",
   "id": "introductory-mexico",
   "metadata": {},
   "source": [
    "<hr>\n",
    "\n",
    "### Question 7\n",
    "\n",
    "What keyword is used to indicate the start of a method in a Python class?\n",
    "\n",
    "1. `continue`\n",
    "2. `def`\n",
    "3. `break`\n",
    "4. `function`"
   ]
  },
  {
   "cell_type": "code",
   "execution_count": null,
   "id": "front-stuff",
   "metadata": {},
   "outputs": [],
   "source": [
    "questions[7].show()"
   ]
  },
  {
   "cell_type": "markdown",
   "id": "offensive-hazard",
   "metadata": {},
   "source": [
    "<hr>\n",
    "\n",
    "### Question 8\n",
    "\n",
    "What is `self` typically used for in a Python method within a class?\n",
    "\n",
    "1. The number of parameters to the method\n",
    "2. To terminate a loop\n",
    "3. To set the residual value in an expression where the method is used\n",
    "4. To refer to the instance in which the method is being called"
   ]
  },
  {
   "cell_type": "code",
   "execution_count": null,
   "id": "fallen-crack",
   "metadata": {},
   "outputs": [],
   "source": [
    "questions[8].show()"
   ]
  },
  {
   "cell_type": "markdown",
   "id": "gross-threat",
   "metadata": {},
   "source": [
    "<hr>\n",
    "\n",
    "### Question 9\n",
    "\n",
    "What does the Python `dir()` function show when we pass an object into it as a parameter?\n",
    "\n",
    "1. It shows the methods and attributes of the object\n",
    "2. It shows the number of parameters to the constructor\n",
    "3. It shows the type of the object\n",
    "4. It shows the parent class"
   ]
  },
  {
   "cell_type": "code",
   "execution_count": null,
   "id": "legislative-agenda",
   "metadata": {},
   "outputs": [],
   "source": [
    "questions[9].show()"
   ]
  },
  {
   "cell_type": "markdown",
   "id": "optical-missouri",
   "metadata": {},
   "source": [
    "<hr>\n",
    "\n",
    "### Question 10\n",
    "\n",
    "Which of the following is rarely used in Object Oriented Programming?\n",
    "\n",
    "1. Constructor\n",
    "2. Destructor\n",
    "3. Method\n",
    "4. Attribute"
   ]
  },
  {
   "cell_type": "code",
   "execution_count": null,
   "id": "precious-patent",
   "metadata": {},
   "outputs": [],
   "source": [
    "questions[10].show()"
   ]
  },
  {
   "cell_type": "markdown",
   "id": "judicial-custody",
   "metadata": {},
   "source": [
    "<hr>\n",
    "\n",
    "### Submit"
   ]
  },
  {
   "cell_type": "code",
   "execution_count": null,
   "id": "piano-bleeding",
   "metadata": {},
   "outputs": [],
   "source": [
    "submitter.submit(questions)"
   ]
  },
  {
   "cell_type": "code",
   "execution_count": null,
   "id": "corrected-landscape",
   "metadata": {},
   "outputs": [],
   "source": []
  }
 ],
 "metadata": {
  "kernelspec": {
   "display_name": "Python 3",
   "language": "python",
   "name": "python3"
  },
  "language_info": {
   "codemirror_mode": {
    "name": "ipython",
    "version": 3
   },
   "file_extension": ".py",
   "mimetype": "text/x-python",
   "name": "python",
   "nbconvert_exporter": "python",
   "pygments_lexer": "ipython3",
   "version": "3.8.5"
  }
 },
 "nbformat": 4,
 "nbformat_minor": 5
}
