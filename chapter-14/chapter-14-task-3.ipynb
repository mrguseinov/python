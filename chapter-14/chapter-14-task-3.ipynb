{
 "cells": [
  {
   "cell_type": "code",
   "execution_count": null,
   "id": "numerous-idaho",
   "metadata": {},
   "outputs": [],
   "source": [
    "# Do not modify the code in this cell.\n",
    "\n",
    "%reset -f\n",
    "\n",
    "from sys import path\n",
    "path.append('../')\n",
    "\n",
    "from helpers.submitters import TaskSubmitter"
   ]
  },
  {
   "cell_type": "markdown",
   "id": "maritime-eating",
   "metadata": {},
   "source": [
    "## Task 14.3: Class Inheritance\n",
    "\n",
    "In this task, you will create two classes: `Animal` and `Dog`.\n",
    "\n",
    "Create an `Animal` class with two methods:\n",
    "- `__init__` to initialize the name of the animal;\n",
    "- `walk` to print `f\"{self.name} is walking.\"`.\n",
    "\n",
    "Create a `Dog` class with one method:\n",
    "- `speak` that prints `f\"{self.name} is barking.\"`.\n",
    "\n",
    "Make sure the `Dog` class inherits from the `Animal` class:\n",
    "\n",
    "```python\n",
    "class Dog(Animal):\n",
    "    ...\n",
    "```\n",
    "\n",
    "Instantiate one dog, then call `walk()` and `speak()` methods:\n",
    "\n",
    "```python\n",
    "cooper = Dog(\"Cooper\")\n",
    "cooper.walk()\n",
    "cooper.speak()\n",
    "```\n",
    "\n",
    "Print the MRO (Method Resolution Order) of the `Dog` class:\n",
    "```python\n",
    "print(f\"\\n{Dog.mro()}\")\n",
    "```\n",
    "\n",
    "---\n",
    "\n",
    "After running the cell, you should see the following output:\n",
    "\n",
    "```\n",
    "Cooper is walking.\n",
    "Cooper is barking.\n",
    "\n",
    "[<class '__main__.foo.<locals>.Dog'>, <class '__main__.foo.<locals>.Animal'>, <class 'object'>]\n",
    "```"
   ]
  },
  {
   "cell_type": "code",
   "execution_count": null,
   "id": "innocent-hawaii",
   "metadata": {},
   "outputs": [],
   "source": [
    "# Modify the code only in the \"YOUR CODE HERE\" block.\n",
    "\n",
    "\n",
    "def foo():\n",
    "\n",
    "    # ========== YOUR CODE HERE ==========\n",
    "    \n",
    "    \n",
    "    \n",
    "    # ====================================\n",
    "\n",
    "    cooper = Dog(\"Cooper\")\n",
    "    cooper.walk()\n",
    "    cooper.speak()\n",
    "\n",
    "    print(f\"\\n{Dog.mro()}\")\n",
    "\n",
    "\n",
    "foo()"
   ]
  },
  {
   "cell_type": "markdown",
   "id": "dedicated-second",
   "metadata": {},
   "source": [
    "### Submit"
   ]
  },
  {
   "cell_type": "code",
   "execution_count": null,
   "id": "permanent-norman",
   "metadata": {},
   "outputs": [],
   "source": [
    "# Do not modify the code in this cell.\n",
    "\n",
    "with TaskSubmitter(\"14.3\", \"print\") as submitter:\n",
    "    submitter.submit(foo)"
   ]
  },
  {
   "cell_type": "code",
   "execution_count": null,
   "id": "floral-conspiracy",
   "metadata": {},
   "outputs": [],
   "source": []
  }
 ],
 "metadata": {
  "kernelspec": {
   "display_name": "Python 3",
   "language": "python",
   "name": "python3"
  },
  "language_info": {
   "codemirror_mode": {
    "name": "ipython",
    "version": 3
   },
   "file_extension": ".py",
   "mimetype": "text/x-python",
   "name": "python",
   "nbconvert_exporter": "python",
   "pygments_lexer": "ipython3",
   "version": "3.8.5"
  }
 },
 "nbformat": 4,
 "nbformat_minor": 5
}
