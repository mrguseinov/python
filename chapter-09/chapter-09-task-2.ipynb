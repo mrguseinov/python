{
 "cells": [
  {
   "cell_type": "code",
   "execution_count": null,
   "id": "southern-treatment",
   "metadata": {},
   "outputs": [],
   "source": [
    "# Do not modify the code in this cell.\n",
    "\n",
    "%reset -f\n",
    "\n",
    "from sys import path\n",
    "path.append('../')\n",
    "\n",
    "from helpers.submitters import TaskSubmitter"
   ]
  },
  {
   "cell_type": "markdown",
   "id": "supposed-guinea",
   "metadata": {},
   "source": [
    "## Task 9.2: Find The Most Chatty Person\n",
    "\n",
    "Read through the `emails.txt` file and figure out who has sent the greatest number of email messages.\n",
    "\n",
    "Look for `'From '` lines and take the second word of those lines as the person who sent the mail.\n",
    "\n",
    "Construct a Python dictionary that maps the sender's mail address to a number of times they appear in the file like the following:\n",
    "\n",
    "```\n",
    "{'stephen.marquard@uct.ac.za': 2,\n",
    " 'louis@media.berkeley.edu': 3,\n",
    " ...\n",
    " 'david.horwitz@uct.ac.za': 4,\n",
    " 'ray@media.berkeley.edu': 1}\n",
    "```\n",
    "\n",
    "When the dictionary is produced, find the most prolific committer.\n",
    "\n",
    "---\n",
    "\n",
    "After running the cell, you should see the following output: `('cwen@iupui.edu', 5)`"
   ]
  },
  {
   "cell_type": "code",
   "execution_count": null,
   "id": "adaptive-prevention",
   "metadata": {},
   "outputs": [],
   "source": [
    "# Modify the code only in the \"YOUR CODE HERE\" block.\n",
    "\n",
    "\n",
    "def foo():\n",
    "\n",
    "    # ========== YOUR CODE HERE ==========\n",
    "    \n",
    "    \n",
    "    \n",
    "    # ====================================\n",
    "\n",
    "\n",
    "foo()"
   ]
  },
  {
   "cell_type": "markdown",
   "id": "corporate-spell",
   "metadata": {},
   "source": [
    "### Submit"
   ]
  },
  {
   "cell_type": "code",
   "execution_count": null,
   "id": "constant-intro",
   "metadata": {},
   "outputs": [],
   "source": [
    "# Do not modify the code in this cell.\n",
    "\n",
    "with TaskSubmitter(\"09.2\", \"return\") as submitter:\n",
    "    submitter.submit(foo)"
   ]
  },
  {
   "cell_type": "code",
   "execution_count": null,
   "id": "infinite-daughter",
   "metadata": {},
   "outputs": [],
   "source": []
  }
 ],
 "metadata": {
  "kernelspec": {
   "display_name": "Python 3",
   "language": "python",
   "name": "python3"
  },
  "language_info": {
   "codemirror_mode": {
    "name": "ipython",
    "version": 3
   },
   "file_extension": ".py",
   "mimetype": "text/x-python",
   "name": "python",
   "nbconvert_exporter": "python",
   "pygments_lexer": "ipython3",
   "version": "3.8.5"
  }
 },
 "nbformat": 4,
 "nbformat_minor": 5
}
