{
 "cells": [
  {
   "cell_type": "code",
   "execution_count": null,
   "id": "chronic-overall",
   "metadata": {},
   "outputs": [],
   "source": [
    "# Do not modify the code in this cell.\n",
    "\n",
    "%reset -f\n",
    "\n",
    "from sys import path\n",
    "path.append('../')\n",
    "\n",
    "from helpers.submitters import TaskSubmitter"
   ]
  },
  {
   "cell_type": "markdown",
   "id": "increased-keeping",
   "metadata": {},
   "source": [
    "## Task 9.1: Compute Weekday Frequency\n",
    "\n",
    "Categorize each mail message from the `emails.txt` file by which day of the week is was sent.\n",
    "\n",
    "Look for lines that start with `'From '` like the following:\n",
    "\n",
    "```python\n",
    "'From stephen.marquard@uct.ac.za Sat Jan  5 09:14:16 2008'\n",
    "```\n",
    "\n",
    "Then look for the third word like `Sat` and keep a running count of each of the days of the week.\n",
    "\n",
    "The function should return the dictionary.\n",
    "\n",
    "---\n",
    "\n",
    "After running the cell, you should see the following output:\n",
    "\n",
    "`{'Sat': 1, 'Fri': 20, 'Thu': 6}`"
   ]
  },
  {
   "cell_type": "code",
   "execution_count": null,
   "id": "defined-tension",
   "metadata": {},
   "outputs": [],
   "source": [
    "# Modify the code only in the \"YOUR CODE HERE\" block.\n",
    "\n",
    "\n",
    "def foo():\n",
    "\n",
    "    # ========== YOUR CODE HERE ==========\n",
    "    \n",
    "    \n",
    "    \n",
    "    # ====================================\n",
    "\n",
    "\n",
    "foo()"
   ]
  },
  {
   "cell_type": "markdown",
   "id": "sublime-canadian",
   "metadata": {},
   "source": [
    "### Submit"
   ]
  },
  {
   "cell_type": "code",
   "execution_count": null,
   "id": "cognitive-departure",
   "metadata": {},
   "outputs": [],
   "source": [
    "# Do not modify the code in this cell.\n",
    "\n",
    "with TaskSubmitter(\"09.1\", \"return\") as submitter:\n",
    "    submitter.submit(foo)"
   ]
  },
  {
   "cell_type": "code",
   "execution_count": null,
   "id": "occupational-floating",
   "metadata": {},
   "outputs": [],
   "source": []
  }
 ],
 "metadata": {
  "kernelspec": {
   "display_name": "Python 3",
   "language": "python",
   "name": "python3"
  },
  "language_info": {
   "codemirror_mode": {
    "name": "ipython",
    "version": 3
   },
   "file_extension": ".py",
   "mimetype": "text/x-python",
   "name": "python",
   "nbconvert_exporter": "python",
   "pygments_lexer": "ipython3",
   "version": "3.8.5"
  }
 },
 "nbformat": 4,
 "nbformat_minor": 5
}
