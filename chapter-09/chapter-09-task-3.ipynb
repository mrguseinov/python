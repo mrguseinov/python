{
 "cells": [
  {
   "cell_type": "code",
   "execution_count": null,
   "id": "explicit-empty",
   "metadata": {},
   "outputs": [],
   "source": [
    "# Do not modify the code in this cell.\n",
    "\n",
    "%reset -f\n",
    "\n",
    "from sys import path\n",
    "path.append('../')\n",
    "\n",
    "from helpers.submitters import TaskSubmitter"
   ]
  },
  {
   "cell_type": "markdown",
   "id": "searching-missile",
   "metadata": {},
   "source": [
    "## Task 9.3: Compute Domain Frequency\n",
    "\n",
    "Write a function to compute the sender's domain name (not the whole email address) frequency.\n",
    "\n",
    "The function should return a dictionary.\n",
    "\n",
    "---\n",
    "\n",
    "After running the cell, you should see the following output:\n",
    "\n",
    "```\n",
    "{'uct.ac.za': 6,\n",
    " 'media.berkeley.edu': 4,\n",
    " 'umich.edu': 7,\n",
    " 'iupui.edu': 8,\n",
    " 'caret.cam.ac.uk': 1,\n",
    " 'gmail.com': 1}\n",
    "```"
   ]
  },
  {
   "cell_type": "code",
   "execution_count": null,
   "id": "returning-seventh",
   "metadata": {},
   "outputs": [],
   "source": [
    "# Modify the code only in the \"YOUR CODE HERE\" block.\n",
    "\n",
    "\n",
    "def foo():\n",
    "\n",
    "    # ========== YOUR CODE HERE ==========\n",
    "    \n",
    "    \n",
    "    \n",
    "    # ====================================\n",
    "\n",
    "\n",
    "foo()"
   ]
  },
  {
   "cell_type": "markdown",
   "id": "headed-hunter",
   "metadata": {},
   "source": [
    "### Submit"
   ]
  },
  {
   "cell_type": "code",
   "execution_count": null,
   "id": "naval-tourist",
   "metadata": {},
   "outputs": [],
   "source": [
    "# Do not modify the code in this cell.\n",
    "\n",
    "with TaskSubmitter(\"09.3\", \"return\") as submitter:\n",
    "    submitter.submit(foo)"
   ]
  },
  {
   "cell_type": "code",
   "execution_count": null,
   "id": "copyrighted-indicator",
   "metadata": {},
   "outputs": [],
   "source": []
  }
 ],
 "metadata": {
  "kernelspec": {
   "display_name": "Python 3",
   "language": "python",
   "name": "python3"
  },
  "language_info": {
   "codemirror_mode": {
    "name": "ipython",
    "version": 3
   },
   "file_extension": ".py",
   "mimetype": "text/x-python",
   "name": "python",
   "nbconvert_exporter": "python",
   "pygments_lexer": "ipython3",
   "version": "3.8.5"
  }
 },
 "nbformat": 4,
 "nbformat_minor": 5
}
