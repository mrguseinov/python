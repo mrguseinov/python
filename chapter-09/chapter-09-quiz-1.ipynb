{
 "cells": [
  {
   "cell_type": "markdown",
   "id": "future-constraint",
   "metadata": {},
   "source": [
    "**DO NOT EDIT THE CODE IN THIS FILE**"
   ]
  },
  {
   "cell_type": "code",
   "execution_count": null,
   "id": "speaking-disability",
   "metadata": {},
   "outputs": [],
   "source": [
    "%reset -f\n",
    "\n",
    "from sys import path\n",
    "path.append('../')\n",
    "\n",
    "from helpers.submitters import QuizSubmitter\n",
    "from helpers.widgets import MyRadioButtons\n",
    "\n",
    "questions = [MyRadioButtons() for i in range(10)]\n",
    "questions[4] = MyRadioButtons(2)\n",
    "questions[6] = MyRadioButtons(5)\n",
    "questions[8] = MyRadioButtons(5)\n",
    "\n",
    "submitter = QuizSubmitter(\"09\")"
   ]
  },
  {
   "cell_type": "markdown",
   "id": "mounted-vintage",
   "metadata": {},
   "source": [
    "<hr>\n",
    "\n",
    "### Question 0\n",
    "\n",
    "How are Python dictionaries different from Python lists?\n",
    "\n",
    "1. Python lists maintain order and dictionaries do not maintain order\n",
    "2. Python lists can store strings and dictionaries can only store words\n",
    "3. Python lists store multiple values and dictionaries store a single value\n",
    "4. Python dictionaries are a collection and lists are not a collection"
   ]
  },
  {
   "cell_type": "code",
   "execution_count": null,
   "id": "clear-beaver",
   "metadata": {},
   "outputs": [],
   "source": [
    "questions[0].show()"
   ]
  },
  {
   "cell_type": "markdown",
   "id": "sixth-midwest",
   "metadata": {},
   "source": [
    "<hr>\n",
    "\n",
    "### Question 1\n",
    "\n",
    "What is a term commonly used to describe the Python dictionary feature in other programming languages?\n",
    "\n",
    "1. Closures\n",
    "2. Sequences\n",
    "3. Lambdas\n",
    "4. Associative arrays"
   ]
  },
  {
   "cell_type": "code",
   "execution_count": null,
   "id": "entertaining-nirvana",
   "metadata": {},
   "outputs": [],
   "source": [
    "questions[1].show()"
   ]
  },
  {
   "cell_type": "markdown",
   "id": "domestic-blade",
   "metadata": {},
   "source": [
    "<hr>\n",
    "\n",
    "### Question 2\n",
    "\n",
    "What would the following Python code print out?\n",
    "\n",
    "```python\n",
    "stuff = dict()\n",
    "print(stuff['candy'])\n",
    "```\n",
    "\n",
    "1. `0`\n",
    "2. `-1`\n",
    "3. The program would fail with a traceback\n",
    "4. `candy`"
   ]
  },
  {
   "cell_type": "code",
   "execution_count": null,
   "id": "united-adams",
   "metadata": {},
   "outputs": [],
   "source": [
    "questions[2].show()"
   ]
  },
  {
   "cell_type": "markdown",
   "id": "announced-recovery",
   "metadata": {},
   "source": [
    "<hr>\n",
    "\n",
    "### Question 3\n",
    "\n",
    "What would the following Python code print out?\n",
    "\n",
    "```python\n",
    "stuff = dict()\n",
    "print(stuff.get('candy', -1))\n",
    "```\n",
    "\n",
    "1. `-1`\n",
    "2. `0`\n",
    "3. `'candy'`\n",
    "4. The program would fail with a traceback"
   ]
  },
  {
   "cell_type": "code",
   "execution_count": null,
   "id": "royal-biography",
   "metadata": {},
   "outputs": [],
   "source": [
    "questions[3].show()"
   ]
  },
  {
   "cell_type": "markdown",
   "id": "entertaining-repair",
   "metadata": {},
   "source": [
    "<hr>\n",
    "\n",
    "### Question 4\n",
    "\n",
    "When you add items to a dictionary they remain in the order in which you added them.\n",
    "\n",
    "1. False\n",
    "2. True"
   ]
  },
  {
   "cell_type": "code",
   "execution_count": null,
   "id": "express-ranking",
   "metadata": {},
   "outputs": [],
   "source": [
    "questions[4].show()"
   ]
  },
  {
   "cell_type": "markdown",
   "id": "pretty-scout",
   "metadata": {},
   "source": [
    "<hr>\n",
    "\n",
    "### Question 5\n",
    "\n",
    "What is a common use of Python dictionaries in a program?\n",
    "\n",
    "1. Sorting a list of names into alphabetical order\n",
    "2. Splitting a line of input into words using a space as a delimiter\n",
    "3. Computing an average of a set of numbers\n",
    "4. Building a histogram counting the occurrences of various strings in a file"
   ]
  },
  {
   "cell_type": "code",
   "execution_count": null,
   "id": "swiss-greece",
   "metadata": {},
   "outputs": [],
   "source": [
    "questions[5].show()"
   ]
  },
  {
   "cell_type": "markdown",
   "id": "resident-backup",
   "metadata": {},
   "source": [
    "<hr>\n",
    "\n",
    "### Question 6\n",
    "\n",
    "Which of the following lines of Python is equivalent to the following sequence of statements assuming that `counts` is a dictionary?\n",
    "\n",
    "```python\n",
    "if key in counts:\n",
    "    counts[key] = counts[key] + 1\n",
    "else:\n",
    "    counts[key] = 1\n",
    "```\n",
    "\n",
    "1. `counts[key] = counts.get(key, -1) + 1`\n",
    "2. `counts[key] = (counts[key] * 1) + 1`\n",
    "3. `counts[key] = counts.get(key, 0) + 1`\n",
    "4. `counts[key] = (key in counts) + 1`\n",
    "5. `counts[key] = key + 1`"
   ]
  },
  {
   "cell_type": "code",
   "execution_count": null,
   "id": "special-tulsa",
   "metadata": {},
   "outputs": [],
   "source": [
    "questions[6].show()"
   ]
  },
  {
   "cell_type": "markdown",
   "id": "monetary-stand",
   "metadata": {},
   "source": [
    "<hr>\n",
    "\n",
    "### Question 7\n",
    "\n",
    "In the following Python, what does the `for` loop iterate through?\n",
    "\n",
    "```python\n",
    "x = dict()\n",
    "...\n",
    "for y in x:\n",
    "    ...\n",
    "```\n",
    "\n",
    "1. It loops through the values in the dictionary\n",
    "2. It loops through the integers in the range from zero through the length of the dictionary\n",
    "3. It loops through the keys in the dictionary\n",
    "4. It loops through all of the dictionaries in the program"
   ]
  },
  {
   "cell_type": "code",
   "execution_count": null,
   "id": "dangerous-collar",
   "metadata": {},
   "outputs": [],
   "source": [
    "questions[7].show()"
   ]
  },
  {
   "cell_type": "markdown",
   "id": "short-netscape",
   "metadata": {},
   "source": [
    "<hr>\n",
    "\n",
    "### Question 8\n",
    "\n",
    "Which method in a dictionary object gives you a list of the values in the dictionary?\n",
    "\n",
    "1. `keys()`\n",
    "2. `items()`\n",
    "3. `all()`\n",
    "4. `each()`\n",
    "5. `values()`"
   ]
  },
  {
   "cell_type": "code",
   "execution_count": null,
   "id": "waiting-angola",
   "metadata": {},
   "outputs": [],
   "source": [
    "questions[8].show()"
   ]
  },
  {
   "cell_type": "markdown",
   "id": "ongoing-module",
   "metadata": {},
   "source": [
    "<hr>\n",
    "\n",
    "### Question 9\n",
    "\n",
    "What is the purpose of the second parameter of the `get()` method for Python dictionaries?\n",
    "\n",
    "1. An alternate key to use if the first key cannot be found\n",
    "2. The value to retrieve\n",
    "3. The key to retrieve\n",
    "4. To provide a default value if the key is not found"
   ]
  },
  {
   "cell_type": "code",
   "execution_count": null,
   "id": "basic-oliver",
   "metadata": {},
   "outputs": [],
   "source": [
    "questions[9].show()"
   ]
  },
  {
   "cell_type": "markdown",
   "id": "correct-sweden",
   "metadata": {},
   "source": [
    "<hr>\n",
    "\n",
    "### Submit"
   ]
  },
  {
   "cell_type": "code",
   "execution_count": null,
   "id": "agreed-safety",
   "metadata": {},
   "outputs": [],
   "source": [
    "submitter.submit(questions)"
   ]
  },
  {
   "cell_type": "code",
   "execution_count": null,
   "id": "falling-rebecca",
   "metadata": {},
   "outputs": [],
   "source": []
  }
 ],
 "metadata": {
  "kernelspec": {
   "display_name": "Python 3",
   "language": "python",
   "name": "python3"
  },
  "language_info": {
   "codemirror_mode": {
    "name": "ipython",
    "version": 3
   },
   "file_extension": ".py",
   "mimetype": "text/x-python",
   "name": "python",
   "nbconvert_exporter": "python",
   "pygments_lexer": "ipython3",
   "version": "3.8.5"
  }
 },
 "nbformat": 4,
 "nbformat_minor": 5
}
